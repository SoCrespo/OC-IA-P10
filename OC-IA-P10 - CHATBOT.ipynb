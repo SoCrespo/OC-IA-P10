{
 "cells": [
  {
   "cell_type": "markdown",
   "metadata": {},
   "source": [
    "# OC-IA-P10 - CHATBOT"
   ]
  },
  {
   "cell_type": "markdown",
   "metadata": {},
   "source": [
    "# DATA EXPLORATION"
   ]
  },
  {
   "cell_type": "markdown",
   "metadata": {},
   "source": [
    "We are given an existing dataset, more complete than what we need. Let's explore it and extract only the desired information."
   ]
  },
  {
   "cell_type": "code",
   "execution_count": 1,
   "metadata": {},
   "outputs": [],
   "source": [
    "# import sys\n",
    "# !{sys.executable} -m pip install -r requirements.txt"
   ]
  },
  {
   "cell_type": "code",
   "execution_count": 2,
   "metadata": {},
   "outputs": [],
   "source": [
    "import pandas as pd\n",
    "import numpy as np\n",
    "from tqdm import tqdm\n",
    "tqdm.pandas()\n",
    "import json"
   ]
  },
  {
   "cell_type": "code",
   "execution_count": 3,
   "metadata": {},
   "outputs": [
    {
     "data": {
      "text/plain": [
       "0       [{'text': 'I'd like to book a trip to Atlantis...\n",
       "1       [{'text': 'Hello, I am looking to book a vacat...\n",
       "2       [{'text': 'Hello there i am looking to go on a...\n",
       "3       [{'text': 'Hi I'd like to go to Caprica from B...\n",
       "4       [{'text': 'Hello, I am looking to book a trip ...\n",
       "                              ...                        \n",
       "1364    [{'text': 'Hi I've got 9 days free and I'm loo...\n",
       "1365    [{'text': 'I need to get to Fortaleza on Septe...\n",
       "1366    [{'text': 'We're finally going on vacation isn...\n",
       "1367    [{'text': 'Hi there, I'm looking for a place t...\n",
       "1368    [{'text': 'I need to book a trip for the whole...\n",
       "Name: turns, Length: 1369, dtype: object"
      ]
     },
     "execution_count": 3,
     "metadata": {},
     "output_type": "execute_result"
    }
   ],
   "source": [
    "frames = pd.read_json('frames/frames.json')\n",
    "frames['turns']\n"
   ]
  },
  {
   "cell_type": "markdown",
   "metadata": {},
   "source": [
    "Let's have a look at a conversation. For ease of reading the values are sent to a json file."
   ]
  },
  {
   "cell_type": "code",
   "execution_count": 4,
   "metadata": {},
   "outputs": [],
   "source": [
    "with open('sample.json', \"w\") as f:\n",
    "    json.dump(frames.loc[0]['turns'], f, indent=4)"
   ]
  },
  {
   "cell_type": "markdown",
   "metadata": {},
   "source": [
    "We'll use only user data (not wizard's answers), and among them we'll use the `text` and the `acts_without_refs` values. Let's have a look at the values we can find inside:"
   ]
  },
  {
   "cell_type": "code",
   "execution_count": 5,
   "metadata": {},
   "outputs": [
    {
     "name": "stderr",
     "output_type": "stream",
     "text": [
      "100%|██████████| 1/1 [00:00<00:00, 11275.01it/s]\n"
     ]
    },
    {
     "data": {
      "text/plain": [
       "{'budget',\n",
       " 'dst_city',\n",
       " 'end_date',\n",
       " 'flex',\n",
       " 'intent',\n",
       " 'n_adults',\n",
       " 'or_city',\n",
       " 'ref',\n",
       " 'str_date'}"
      ]
     },
     "execution_count": 5,
     "metadata": {},
     "output_type": "execute_result"
    }
   ],
   "source": [
    "all_entities = set()\n",
    "for conversation in tqdm(frames['turns'][:1]):\n",
    "    for turn in conversation:\n",
    "        for act in turn['labels']['acts']:\n",
    "            for arg in act['args']:\n",
    "                all_entities.add(arg['key'])\n",
    "       \n",
    "all_entities"
   ]
  },
  {
   "cell_type": "markdown",
   "metadata": {},
   "source": [
    "\n",
    "We'll specifically stick to the values we want to process in this MVP:\n",
    "- departure city ('or_city')\n",
    "- arrival city ('dest_city')\n",
    "- departure date ('str_date')\n",
    "- end date ('end_date')\n",
    "- budget ('budget')"
   ]
  },
  {
   "cell_type": "markdown",
   "metadata": {},
   "source": [
    "Note : a first pass on this part showed that extracting the \"intent\" entity is not interesting at this stage of our work : this intent can be \"book\" or \"None\", which is not useful for us."
   ]
  },
  {
   "cell_type": "markdown",
   "metadata": {},
   "source": [
    "\n",
    "Moreover, since in this MVP we do not want to manage any historical aspect, we'll only keep the first utterance of each conversation."
   ]
  },
  {
   "cell_type": "markdown",
   "metadata": {},
   "source": [
    "Example of json file format for training LUIS:"
   ]
  },
  {
   "cell_type": "markdown",
   "metadata": {},
   "source": [
    "```Python\n",
    "[\n",
    "  {\n",
    "    \"text\": \"order a pizza\",\n",
    "    \"intentName\": \"ModifyOrder\",\n",
    "    \"entityLabels\": [\n",
    "      {\n",
    "        \"entityName\": \"Order\",\n",
    "        \"startCharIndex\": 6,\n",
    "        \"endCharIndex\": 12\n",
    "      }\n",
    "    ]\n",
    "  },\n",
    "  {\n",
    "    \"text\": \"order a large pepperoni pizza\",\n",
    "    \"intentName\": \"ModifyOrder\",\n",
    "    \"entityLabels\": [\n",
    "      {\n",
    "        \"entityName\": \"Order\",\n",
    "        \"startCharIndex\": 6,\n",
    "        \"endCharIndex\": 28\n",
    "      },\n",
    "      {\n",
    "        \"entityName\": \"FullPizzaWithModifiers\",\n",
    "        \"startCharIndex\": 6,\n",
    "        \"endCharIndex\": 28\n",
    "      },\n",
    "      {\n",
    "        \"entityName\": \"PizzaType\",\n",
    "        \"startCharIndex\": 14,\n",
    "        \"endCharIndex\": 28\n",
    "      },\n",
    "      {\n",
    "        \"entityName\": \"Size\",\n",
    "        \"startCharIndex\": 8,\n",
    "        \"endCharIndex\": 12\n",
    "      }\n",
    "    ]\n",
    "  },\n",
    "  {\n",
    "    \"text\": \"I want two large pepperoni pizzas on thin crust\",\n",
    "    \"intentName\": \"ModifyOrder\",\n",
    "    \"entityLabels\": [\n",
    "      {\n",
    "        \"entityName\": \"Order\",\n",
    "        \"startCharIndex\": 7,\n",
    "        \"endCharIndex\": 46\n",
    "      },\n",
    "      {\n",
    "        \"entityName\": \"FullPizzaWithModifiers\",\n",
    "        \"startCharIndex\": 7,\n",
    "        \"endCharIndex\": 46\n",
    "      },\n",
    "      {\n",
    "        \"entityName\": \"PizzaType\",\n",
    "        \"startCharIndex\": 17,\n",
    "        \"endCharIndex\": 32\n",
    "      },\n",
    "      {\n",
    "        \"entityName\": \"Size\",\n",
    "        \"startCharIndex\": 11,\n",
    "        \"endCharIndex\": 15\n",
    "      },\n",
    "      {\n",
    "        \"entityName\": \"Quantity\",\n",
    "        \"startCharIndex\": 7,\n",
    "        \"endCharIndex\": 9\n",
    "      },\n",
    "      {\n",
    "        \"entityName\": \"Crust\",\n",
    "        \"startCharIndex\": 37,\n",
    "        \"endCharIndex\": 46\n",
    "      }\n",
    "    ]\n",
    "  }\n",
    "]\n",
    "```"
   ]
  },
  {
   "cell_type": "code",
   "execution_count": 6,
   "metadata": {},
   "outputs": [],
   "source": [
    "entities = [\n",
    "    'budget',\n",
    "    'or_city',\n",
    "    'dst_city',\n",
    "    'str_date',\n",
    "    'end_date',\n",
    " ]\n",
    "\n",
    "def merge_elements(list_of_same_entities):\n",
    "    \"\"\"\n",
    "    Merge entities of same category into one. E.g. (for the sentence\n",
    "    'I want to go to Paris on the 5th of May'):\n",
    "\n",
    "    list_of_same_entities = [\n",
    "        {\n",
    "            'entityName': 'str_date',\n",
    "            'startCharIndex': 29,  # index of '5'\n",
    "            'endCharIndex': 31,\n",
    "        },\n",
    "        {\n",
    "            'entityName': 'str_date',\n",
    "            'startCharIndex': 36,  # index of 'May'\n",
    "            'endCharIndex': 38,\n",
    "        },  \n",
    "    ]\n",
    "    output = [\n",
    "        {\n",
    "            'entityName': 'str_date',\n",
    "            'startCharIndex': 29,  # index of '5'\n",
    "            'endCharIndex': 38, # end index of 'May'\n",
    "        },  \n",
    "    ]   \n",
    "        \n",
    "    \"\"\"\n",
    "    list_of_same_entities = sorted(list_of_same_entities, key=lambda x: x['startCharIndex'])\n",
    "    entity_name = list_of_same_entities[0]['entityName']\n",
    "    start_index = list_of_same_entities[0]['startCharIndex']\n",
    "    end_index = list_of_same_entities[-1]['endCharIndex']\n",
    "    result = [{    \n",
    "        'entityName': entity_name,\n",
    "        'startCharIndex': start_index,\n",
    "        'endCharIndex': end_index,\n",
    "    }]\n",
    "    return result \n",
    "    \n",
    "\n",
    "def extract_args(text, arg, entities=entities):\n",
    "    \"\"\"\n",
    "    Formats args of arg into a list of dicts as follows:\n",
    "    [\n",
    "        {\n",
    "            'entityName': '...',\n",
    "            'startCharIndex': ...,\n",
    "            'endCharIndex': ...,\n",
    "        },  \n",
    "    ]\n",
    "    If entities is provided (default behaviour), only those entities are returned.\n",
    "    Otherwise, all entities are returned.\n",
    "    \"\"\"\n",
    "    results = []\n",
    "    for item in arg['args']:\n",
    "        key = item['key']\n",
    "        val = item['val']\n",
    "        if key not in entities:\n",
    "            continue\n",
    "        if not (val and isinstance(val, str) and val in text):\n",
    "            continue\n",
    "        start_index = text.index(val)\n",
    "        end_index = start_index + len(val)\n",
    "        results.append({\n",
    "            'entityName': key,\n",
    "            'startCharIndex': start_index,\n",
    "            'endCharIndex': end_index,  \n",
    "        })\n",
    "    \n",
    "    # Some data, such as dates, may be split into multiple entities,\n",
    "    # we need to merge them\n",
    "    merged_results = []\n",
    "    for entity in entities:\n",
    "        elements_for_entity = [item for item in results \n",
    "                                if item['entityName'] == entity]\n",
    "        if len(elements_for_entity) > 1:\n",
    "            merged_results.extend(merge_elements(elements_for_entity))\n",
    "        elif len(elements_for_entity) == 1:\n",
    "            merged_results.extend(elements_for_entity)\n",
    "    return merged_results   \n",
    "\n",
    "    \n",
    "def extract_intent_name(arg):\n",
    "    return arg['name'] \n",
    "\n",
    "\n",
    "def extract_data(sentence):\n",
    "    \"\"\"\n",
    "    Return selected data from sentence\n",
    "    (a round of a counversation) in following format:\n",
    "    {\n",
    "        'intent': ['...'],\n",
    "        'entities': [\n",
    "            {\n",
    "                'entityName': '...',\n",
    "                'startCharIndex': ...,\n",
    "                'endCharIndex': ...,\n",
    "            },\n",
    "        ],\n",
    "    }\n",
    "    \"\"\"\n",
    "    data = dict()\n",
    "    text = sentence['text']\n",
    "    args = sentence['labels']['acts_without_refs']\n",
    "    entities = []\n",
    "    data['text'] = text\n",
    "    data['intentName'] = tuple(sorted(list(set([extract_intent_name(arg) for arg in args]))))\n",
    "    for arg in args:\n",
    "        entities.extend(extract_args(text, arg))\n",
    "    data['entityLabels'] = entities\n",
    "    return data\n",
    "\n",
    "    "
   ]
  },
  {
   "cell_type": "code",
   "execution_count": 7,
   "metadata": {},
   "outputs": [
    {
     "name": "stdout",
     "output_type": "stream",
     "text": [
      "All tests passed!\n"
     ]
    }
   ],
   "source": [
    "###############################################################################\n",
    "#  DATA FOR TESTS\n",
    "###############################################################################\n",
    "\n",
    "text = \"I'd like to book a trip to Atlantis from Caprica on Saturday, August 13, 2016 for 8 adults. I have a tight budget of 1700.\"\n",
    "\n",
    "arg_1 = {'args': [\n",
    "                {'val': 'book', 'key': 'intent'}\n",
    "                ], \n",
    "        'name': 'inform'}\n",
    "\n",
    "arg_2 = {'args': [\n",
    "                {'val': 'Caprica', 'key': 'or_city'}, \n",
    "                {'val': 'Saturday', 'key': 'str_date'}, \n",
    "                {'val': 'August', 'key': 'str_date'}, \n",
    "                {'val': '2016', 'key': 'str_date'}, \n",
    "                {'val': '8', 'key': 'adults'}, \n",
    "                {'val': '1700', 'key': 'budget'}\n",
    "                ], \n",
    "        'name': 'request'}\n",
    "\n",
    "excerpt_1 = {'text': \"I'd like to book a trip to Atlantis from Caprica on Saturday, August 13, 2016 for 8 adults. I have a tight budget of 1700.\",\n",
    " 'labels': {'acts': [{'args': [{'val': 'book', 'key': 'intent'}],\n",
    "    'name': 'inform'},\n",
    "   {'args': [{'val': 'Atlantis', 'key': 'dst_city'},\n",
    "     {'val': 'Caprica', 'key': 'or_city'},\n",
    "     {'val': 'Saturday, August 13, 2016', 'key': 'str_date'},\n",
    "     {'val': '8', 'key': 'n_adults'},\n",
    "     {'val': '1700', 'key': 'budget'}],\n",
    "    'name': 'inform'}],\n",
    "  'acts_without_refs': [{'args': [{'val': 'book', 'key': 'intent'}],\n",
    "    'name': 'inform'},\n",
    "   {'args': [{'val': 'Atlantis', 'key': 'dst_city'},\n",
    "     {'val': 'Caprica', 'key': 'or_city'},\n",
    "     {'val': 'Saturday, August 13, 2016', 'key': 'str_date'},\n",
    "     {'val': '8', 'key': 'n_adults'},\n",
    "     {'val': '1700', 'key': 'budget'}],\n",
    "    'name': 'inform'}],\n",
    "  'active_frame': 1,\n",
    "  'frames': [{'info': {'intent': [{'val': 'book', 'negated': False}],\n",
    "     'budget': [{'val': '1700.0', 'negated': False}],\n",
    "     'dst_city': [{'val': 'Atlantis', 'negated': False}],\n",
    "     'or_city': [{'val': 'Caprica', 'negated': False}],\n",
    "     'str_date': [{'val': 'august 13', 'negated': False}],\n",
    "     'n_adults': [{'val': '8', 'negated': False}]},\n",
    "    'frame_id': 1,\n",
    "    'requests': [],\n",
    "    'frame_parent_id': None,\n",
    "    'binary_questions': [],\n",
    "    'compare_requests': []}]},\n",
    " 'author': 'user',\n",
    " 'timestamp': 1471272019730.0}\n",
    "\n",
    "excerpt_2 = {'text': 'Hello there i am looking to go on a vacation with my family to Gotham City, can you help me?',\n",
    " 'labels': {'acts': [{'args': [{'val': 'book', 'key': 'intent'}],\n",
    "    'name': 'inform'},\n",
    "   {'args': [{'val': 'Gotham City', 'key': 'dst_city'}], 'name': 'inform'},\n",
    "   {'args': [], 'name': 'greeting'}],\n",
    "  'acts_without_refs': [{'args': [{'val': 'book', 'key': 'intent'}],\n",
    "    'name': 'inform'},\n",
    "   {'args': [{'val': 'Gotham City', 'key': 'dst_city'}], 'name': 'inform'},\n",
    "   {'args': [], 'name': 'greeting'}],\n",
    "  'active_frame': 1,\n",
    "  'frames': [{'info': {'intent': [{'val': 'book', 'negated': False}],\n",
    "     'dst_city': [{'val': 'Gotham City', 'negated': False}]},\n",
    "    'frame_id': 1,\n",
    "    'requests': [],\n",
    "    'frame_parent_id': None,\n",
    "    'binary_questions': [],\n",
    "    'compare_requests': []}]},\n",
    " 'author': 'user',\n",
    " 'timestamp': 1471273579715.0}\n",
    "\n",
    "###############################################################################\n",
    "# TEST FUNCTIONS\n",
    "###############################################################################\n",
    "\n",
    "def test_merge_elements():\n",
    "    assert merge_elements([\n",
    "            {\n",
    "                'entityName': 'str_date',\n",
    "                'startCharIndex': 29,  # index of '5'\n",
    "                'endCharIndex': 31,\n",
    "            },\n",
    "            {\n",
    "                'entityName': 'str_date',\n",
    "                'startCharIndex': 36,  # index of 'May'\n",
    "                'endCharIndex': 38,\n",
    "            },  \n",
    "                        ]) == [\n",
    "            {\n",
    "                'entityName': 'str_date',\n",
    "                'startCharIndex': 29,  # index of '5'\n",
    "                'endCharIndex': 38, # end index of 'May'\n",
    "            }   \n",
    "                            ]\n",
    "\n",
    "def test_extract_args_unique_args():\n",
    "    assert extract_args(text, arg_1) == [] # the only entity is the intent, that we don't want to extract\n",
    "\n",
    "def test_extract_args_multiple_args():\n",
    "    assert extract_args(text, arg_2) == [\n",
    "                {'entityName': 'budget', 'startCharIndex': 117, 'endCharIndex': 121},\n",
    "                {'entityName': 'or_city', 'startCharIndex': 41, 'endCharIndex': 48},\n",
    "                {'entityName': 'str_date', 'startCharIndex': 52, 'endCharIndex': 77}]\n",
    "\n",
    "\n",
    "def test_extract_intent_name():\n",
    "  assert extract_intent_name(excerpt_1['labels']['acts'][0]) == 'inform'\n",
    "  assert extract_intent_name(excerpt_2['labels']['acts'][0]) == 'inform'\n",
    "\n",
    "def test_extract_data():\n",
    "  assert extract_data(excerpt_1) == {\n",
    "\n",
    "    'text': \"I'd like to book a trip to Atlantis from Caprica on Saturday, August 13, 2016 for 8 adults. I have a tight budget of 1700.\",\n",
    "    'intentName': ('inform',),\n",
    "    'entityLabels': [\n",
    "\n",
    "        {'entityName': 'budget', 'startCharIndex': 117, 'endCharIndex': 121},\n",
    "        {'entityName': 'or_city', 'startCharIndex': 41, 'endCharIndex': 48},\n",
    "        {'entityName': 'dst_city', 'startCharIndex': 27, 'endCharIndex': 35},\n",
    "        {'entityName': 'str_date', 'startCharIndex': 52, 'endCharIndex': 77}\n",
    "                    ],         \n",
    "                                }\n",
    "  assert extract_data(excerpt_2) == {\n",
    "      'text': 'Hello there i am looking to go on a vacation with my family to Gotham City, can you help me?',\n",
    "      'intentName': ('greeting', 'inform'),\n",
    "      'entityLabels': [\n",
    "          {\n",
    "            'entityName': 'dst_city',\n",
    "            'startCharIndex': 63,\n",
    "            'endCharIndex': 74\n",
    "            }]}\n",
    "            \n",
    "###############################################################################\n",
    "# RUN TESTS\n",
    "###############################################################################\n",
    "\n",
    "err_counter = 0\n",
    "for test_func in [\n",
    "test_merge_elements,\n",
    "test_extract_args_multiple_args,\n",
    "test_extract_args_unique_args,\n",
    "test_extract_intent_name,\n",
    "test_extract_data,\n",
    "]:\n",
    "    try:\n",
    "        test_func()\n",
    "    except AssertionError:\n",
    "        print('Test failed: {}'.format(test_func.__name__))\n",
    "        err_counter += 1\n",
    "if err_counter == 0:\n",
    "    print('All tests passed!')        \n"
   ]
  },
  {
   "cell_type": "markdown",
   "metadata": {},
   "source": [
    "Let's extract data into the required json format:"
   ]
  },
  {
   "cell_type": "code",
   "execution_count": 8,
   "metadata": {},
   "outputs": [
    {
     "name": "stderr",
     "output_type": "stream",
     "text": [
      "100%|██████████| 1369/1369 [00:00<00:00, 100724.51it/s]\n"
     ]
    }
   ],
   "source": [
    "all_data = [extract_data(conversation[0]) for conversation in tqdm(frames['turns'].values)]"
   ]
  },
  {
   "cell_type": "markdown",
   "metadata": {},
   "source": [
    "What are the different intentName values?"
   ]
  },
  {
   "cell_type": "code",
   "execution_count": 9,
   "metadata": {},
   "outputs": [
    {
     "data": {
      "text/plain": [
       "{'greeting', 'inform', 'request', 'thankyou'}"
      ]
     },
     "execution_count": 9,
     "metadata": {},
     "output_type": "execute_result"
    }
   ],
   "source": [
    "intents = set()\n",
    "for data in all_data:\n",
    "    intents.update(data['intentName'])\n",
    "intents    "
   ]
  },
  {
   "cell_type": "markdown",
   "metadata": {},
   "source": [
    "Let's have a look at examples:"
   ]
  },
  {
   "cell_type": "code",
   "execution_count": 10,
   "metadata": {},
   "outputs": [
    {
     "data": {
      "text/html": [
       "<div>\n",
       "<style scoped>\n",
       "    .dataframe tbody tr th:only-of-type {\n",
       "        vertical-align: middle;\n",
       "    }\n",
       "\n",
       "    .dataframe tbody tr th {\n",
       "        vertical-align: top;\n",
       "    }\n",
       "\n",
       "    .dataframe thead th {\n",
       "        text-align: right;\n",
       "    }\n",
       "</style>\n",
       "<table border=\"1\" class=\"dataframe\">\n",
       "  <thead>\n",
       "    <tr style=\"text-align: right;\">\n",
       "      <th></th>\n",
       "      <th>text</th>\n",
       "      <th>intentName</th>\n",
       "      <th>entityLabels</th>\n",
       "    </tr>\n",
       "  </thead>\n",
       "  <tbody>\n",
       "    <tr>\n",
       "      <th>0</th>\n",
       "      <td>I'd like to book a trip to Atlantis from Capri...</td>\n",
       "      <td>(inform,)</td>\n",
       "      <td>[{'entityName': 'budget', 'startCharIndex': 11...</td>\n",
       "    </tr>\n",
       "    <tr>\n",
       "      <th>1</th>\n",
       "      <td>Hello, I am looking to book a vacation from Go...</td>\n",
       "      <td>(greeting, inform)</td>\n",
       "      <td>[{'entityName': 'budget', 'startCharIndex': 75...</td>\n",
       "    </tr>\n",
       "    <tr>\n",
       "      <th>2</th>\n",
       "      <td>Hello there i am looking to go on a vacation w...</td>\n",
       "      <td>(greeting, inform)</td>\n",
       "      <td>[{'entityName': 'dst_city', 'startCharIndex': ...</td>\n",
       "    </tr>\n",
       "    <tr>\n",
       "      <th>3</th>\n",
       "      <td>Hi I'd like to go to Caprica from Busan, betwe...</td>\n",
       "      <td>(greeting, inform)</td>\n",
       "      <td>[{'entityName': 'or_city', 'startCharIndex': 3...</td>\n",
       "    </tr>\n",
       "    <tr>\n",
       "      <th>4</th>\n",
       "      <td>Hello, I am looking to book a trip for 2 adult...</td>\n",
       "      <td>(greeting, inform)</td>\n",
       "      <td>[{'entityName': 'budget', 'startCharIndex': 67...</td>\n",
       "    </tr>\n",
       "    <tr>\n",
       "      <th>...</th>\n",
       "      <td>...</td>\n",
       "      <td>...</td>\n",
       "      <td>...</td>\n",
       "    </tr>\n",
       "    <tr>\n",
       "      <th>1364</th>\n",
       "      <td>Hi I've got 9 days free and I'm looking for a ...</td>\n",
       "      <td>(inform,)</td>\n",
       "      <td>[{'entityName': 'or_city', 'startCharIndex': 6...</td>\n",
       "    </tr>\n",
       "    <tr>\n",
       "      <th>1365</th>\n",
       "      <td>I need to get to Fortaleza on September 8th or...</td>\n",
       "      <td>(inform,)</td>\n",
       "      <td>[{'entityName': 'dst_city', 'startCharIndex': ...</td>\n",
       "    </tr>\n",
       "    <tr>\n",
       "      <th>1366</th>\n",
       "      <td>We're finally going on vacation isn't that ama...</td>\n",
       "      <td>(inform,)</td>\n",
       "      <td>[{'entityName': 'budget', 'startCharIndex': 75...</td>\n",
       "    </tr>\n",
       "    <tr>\n",
       "      <th>1367</th>\n",
       "      <td>Hi there, I'm looking for a place to get away ...</td>\n",
       "      <td>(inform,)</td>\n",
       "      <td>[]</td>\n",
       "    </tr>\n",
       "    <tr>\n",
       "      <th>1368</th>\n",
       "      <td>I need to book a trip for the whole family fro...</td>\n",
       "      <td>(inform,)</td>\n",
       "      <td>[{'entityName': 'or_city', 'startCharIndex': 4...</td>\n",
       "    </tr>\n",
       "  </tbody>\n",
       "</table>\n",
       "<p>1369 rows × 3 columns</p>\n",
       "</div>"
      ],
      "text/plain": [
       "                                                   text          intentName  \\\n",
       "0     I'd like to book a trip to Atlantis from Capri...           (inform,)   \n",
       "1     Hello, I am looking to book a vacation from Go...  (greeting, inform)   \n",
       "2     Hello there i am looking to go on a vacation w...  (greeting, inform)   \n",
       "3     Hi I'd like to go to Caprica from Busan, betwe...  (greeting, inform)   \n",
       "4     Hello, I am looking to book a trip for 2 adult...  (greeting, inform)   \n",
       "...                                                 ...                 ...   \n",
       "1364  Hi I've got 9 days free and I'm looking for a ...           (inform,)   \n",
       "1365  I need to get to Fortaleza on September 8th or...           (inform,)   \n",
       "1366  We're finally going on vacation isn't that ama...           (inform,)   \n",
       "1367  Hi there, I'm looking for a place to get away ...           (inform,)   \n",
       "1368  I need to book a trip for the whole family fro...           (inform,)   \n",
       "\n",
       "                                           entityLabels  \n",
       "0     [{'entityName': 'budget', 'startCharIndex': 11...  \n",
       "1     [{'entityName': 'budget', 'startCharIndex': 75...  \n",
       "2     [{'entityName': 'dst_city', 'startCharIndex': ...  \n",
       "3     [{'entityName': 'or_city', 'startCharIndex': 3...  \n",
       "4     [{'entityName': 'budget', 'startCharIndex': 67...  \n",
       "...                                                 ...  \n",
       "1364  [{'entityName': 'or_city', 'startCharIndex': 6...  \n",
       "1365  [{'entityName': 'dst_city', 'startCharIndex': ...  \n",
       "1366  [{'entityName': 'budget', 'startCharIndex': 75...  \n",
       "1367                                                 []  \n",
       "1368  [{'entityName': 'or_city', 'startCharIndex': 4...  \n",
       "\n",
       "[1369 rows x 3 columns]"
      ]
     },
     "execution_count": 10,
     "metadata": {},
     "output_type": "execute_result"
    }
   ],
   "source": [
    "all_data_df = pd.DataFrame(all_data)\n",
    "all_data_df"
   ]
  },
  {
   "cell_type": "markdown",
   "metadata": {},
   "source": [
    "What are the values in intentName?"
   ]
  },
  {
   "cell_type": "code",
   "execution_count": 11,
   "metadata": {},
   "outputs": [
    {
     "name": "stdout",
     "output_type": "stream",
     "text": [
      "('inform',)\n",
      "('greeting', 'inform')\n",
      "('greeting', 'inform', 'request')\n",
      "('greeting',)\n",
      "('inform', 'request')\n",
      "('greeting', 'inform', 'thankyou')\n",
      "()\n"
     ]
    }
   ],
   "source": [
    "intentName = all_data_df['intentName'].apply(lambda x: tuple(x)).unique()\n",
    "for item in intentName:\n",
    "    print(item)"
   ]
  },
  {
   "cell_type": "markdown",
   "metadata": {},
   "source": [
    "Which utterances have empty intentName?"
   ]
  },
  {
   "cell_type": "code",
   "execution_count": 12,
   "metadata": {},
   "outputs": [
    {
     "data": {
      "text/html": [
       "<div>\n",
       "<style scoped>\n",
       "    .dataframe tbody tr th:only-of-type {\n",
       "        vertical-align: middle;\n",
       "    }\n",
       "\n",
       "    .dataframe tbody tr th {\n",
       "        vertical-align: top;\n",
       "    }\n",
       "\n",
       "    .dataframe thead th {\n",
       "        text-align: right;\n",
       "    }\n",
       "</style>\n",
       "<table border=\"1\" class=\"dataframe\">\n",
       "  <thead>\n",
       "    <tr style=\"text-align: right;\">\n",
       "      <th></th>\n",
       "      <th>text</th>\n",
       "      <th>intentName</th>\n",
       "      <th>entityLabels</th>\n",
       "    </tr>\n",
       "  </thead>\n",
       "  <tbody>\n",
       "    <tr>\n",
       "      <th>526</th>\n",
       "      <td>Have you ever read the book \"Vernon's Travels\"?</td>\n",
       "      <td>()</td>\n",
       "      <td>[]</td>\n",
       "    </tr>\n",
       "    <tr>\n",
       "      <th>657</th>\n",
       "      <td>psssstttttt</td>\n",
       "      <td>()</td>\n",
       "      <td>[]</td>\n",
       "    </tr>\n",
       "    <tr>\n",
       "      <th>1158</th>\n",
       "      <td>Vacay time woooohooooooo</td>\n",
       "      <td>()</td>\n",
       "      <td>[]</td>\n",
       "    </tr>\n",
       "  </tbody>\n",
       "</table>\n",
       "</div>"
      ],
      "text/plain": [
       "                                                 text intentName entityLabels\n",
       "526   Have you ever read the book \"Vernon's Travels\"?         ()           []\n",
       "657                                       psssstttttt         ()           []\n",
       "1158                         Vacay time woooohooooooo         ()           []"
      ]
     },
     "execution_count": 12,
     "metadata": {},
     "output_type": "execute_result"
    }
   ],
   "source": [
    "all_data_df[all_data_df['intentName'].apply(lambda x: tuple(x))==()]"
   ]
  },
  {
   "cell_type": "markdown",
   "metadata": {},
   "source": [
    "Each utterance should have only one intent. Are the multi-intent common?"
   ]
  },
  {
   "cell_type": "code",
   "execution_count": 13,
   "metadata": {},
   "outputs": [
    {
     "data": {
      "text/plain": [
       "intentName\n",
       "()                                3\n",
       "(greeting,)                     102\n",
       "(greeting, inform)              297\n",
       "(greeting, inform, request)       5\n",
       "(greeting, inform, thankyou)      1\n",
       "(inform,)                       951\n",
       "(inform, request)                10\n",
       "dtype: int64"
      ]
     },
     "execution_count": 13,
     "metadata": {},
     "output_type": "execute_result"
    }
   ],
   "source": [
    "all_data_df.groupby('intentName').size()"
   ]
  },
  {
   "cell_type": "code",
   "execution_count": 14,
   "metadata": {},
   "outputs": [
    {
     "data": {
      "text/html": [
       "<div>\n",
       "<style scoped>\n",
       "    .dataframe tbody tr th:only-of-type {\n",
       "        vertical-align: middle;\n",
       "    }\n",
       "\n",
       "    .dataframe tbody tr th {\n",
       "        vertical-align: top;\n",
       "    }\n",
       "\n",
       "    .dataframe thead th {\n",
       "        text-align: right;\n",
       "    }\n",
       "</style>\n",
       "<table border=\"1\" class=\"dataframe\">\n",
       "  <thead>\n",
       "    <tr style=\"text-align: right;\">\n",
       "      <th></th>\n",
       "      <th>text</th>\n",
       "      <th>intentName</th>\n",
       "      <th>entityLabels</th>\n",
       "    </tr>\n",
       "  </thead>\n",
       "  <tbody>\n",
       "    <tr>\n",
       "      <th>40</th>\n",
       "      <td>Hi!</td>\n",
       "      <td>(greeting,)</td>\n",
       "      <td>[]</td>\n",
       "    </tr>\n",
       "    <tr>\n",
       "      <th>48</th>\n",
       "      <td>Heyo!</td>\n",
       "      <td>(greeting,)</td>\n",
       "      <td>[]</td>\n",
       "    </tr>\n",
       "    <tr>\n",
       "      <th>52</th>\n",
       "      <td>Good morning.</td>\n",
       "      <td>(greeting,)</td>\n",
       "      <td>[]</td>\n",
       "    </tr>\n",
       "    <tr>\n",
       "      <th>63</th>\n",
       "      <td>Hello wozbot!</td>\n",
       "      <td>(greeting,)</td>\n",
       "      <td>[]</td>\n",
       "    </tr>\n",
       "    <tr>\n",
       "      <th>106</th>\n",
       "      <td>ay whats up?</td>\n",
       "      <td>(greeting,)</td>\n",
       "      <td>[]</td>\n",
       "    </tr>\n",
       "    <tr>\n",
       "      <th>...</th>\n",
       "      <td>...</td>\n",
       "      <td>...</td>\n",
       "      <td>...</td>\n",
       "    </tr>\n",
       "    <tr>\n",
       "      <th>1165</th>\n",
       "      <td>Hi. First time trying this out. What do I do?</td>\n",
       "      <td>(greeting,)</td>\n",
       "      <td>[]</td>\n",
       "    </tr>\n",
       "    <tr>\n",
       "      <th>1170</th>\n",
       "      <td>hi</td>\n",
       "      <td>(greeting,)</td>\n",
       "      <td>[]</td>\n",
       "    </tr>\n",
       "    <tr>\n",
       "      <th>1223</th>\n",
       "      <td>Hi</td>\n",
       "      <td>(greeting,)</td>\n",
       "      <td>[]</td>\n",
       "    </tr>\n",
       "    <tr>\n",
       "      <th>1251</th>\n",
       "      <td>Hi</td>\n",
       "      <td>(greeting,)</td>\n",
       "      <td>[]</td>\n",
       "    </tr>\n",
       "    <tr>\n",
       "      <th>1348</th>\n",
       "      <td>Hi! I am very excited!!!!</td>\n",
       "      <td>(greeting,)</td>\n",
       "      <td>[]</td>\n",
       "    </tr>\n",
       "  </tbody>\n",
       "</table>\n",
       "<p>102 rows × 3 columns</p>\n",
       "</div>"
      ],
      "text/plain": [
       "                                               text   intentName entityLabels\n",
       "40                                              Hi!  (greeting,)           []\n",
       "48                                            Heyo!  (greeting,)           []\n",
       "52                                    Good morning.  (greeting,)           []\n",
       "63                                    Hello wozbot!  (greeting,)           []\n",
       "106                                    ay whats up?  (greeting,)           []\n",
       "...                                             ...          ...          ...\n",
       "1165  Hi. First time trying this out. What do I do?  (greeting,)           []\n",
       "1170                                             hi  (greeting,)           []\n",
       "1223                                             Hi  (greeting,)           []\n",
       "1251                                             Hi  (greeting,)           []\n",
       "1348                      Hi! I am very excited!!!!  (greeting,)           []\n",
       "\n",
       "[102 rows x 3 columns]"
      ]
     },
     "execution_count": 14,
     "metadata": {},
     "output_type": "execute_result"
    }
   ],
   "source": [
    "all_data_df[all_data_df['intentName']==('greeting',)]"
   ]
  },
  {
   "cell_type": "markdown",
   "metadata": {},
   "source": [
    "There are enough sample with only the inform intent and only the greeting intent, let's keep only those ones. We'll build samples for the other intent `confirm`. We won't create a negate intent at this stage."
   ]
  },
  {
   "cell_type": "code",
   "execution_count": 15,
   "metadata": {},
   "outputs": [],
   "source": [
    "confirm_utterances = [\n",
    "\"Yes, that's right\",\n",
    "\"Exactly\",\n",
    "\"I confirm\",\n",
    "\"Yes\",\n",
    "\"Absolutely\",\n",
    "\"Yeah, definitely! So happy!\",\n",
    "\"That's good, I'm OK with it\",\n",
    "\"Yes, what's the next step?\",\n",
    "\"OK, what do you propose?\",\n",
    "\"Perfect\",\n",
    "\"Sounds good to me\",\n",
    "\"Yes, I think it's OK\",\n",
    "\"Oh yeah, bring it on!\",\n",
    "\"Mmm, I think so\",\n",
    "\"Let's say yes...\",\n",
    "\"Yes, go on\",\n",
    "\"OK\",\n",
    "\"That's OK\",\n",
    "\"Yes!\",\n",
    "\"All good\",\n",
    "\"OK for me\",\n",
    "\"Let's go!\"\n",
    "]"
   ]
  },
  {
   "cell_type": "code",
   "execution_count": 16,
   "metadata": {},
   "outputs": [
    {
     "name": "stderr",
     "output_type": "stream",
     "text": [
      "/tmp/ipykernel_43343/554450390.py:3: SettingWithCopyWarning: \n",
      "A value is trying to be set on a copy of a slice from a DataFrame.\n",
      "Try using .loc[row_indexer,col_indexer] = value instead\n",
      "\n",
      "See the caveats in the documentation: https://pandas.pydata.org/pandas-docs/stable/user_guide/indexing.html#returning-a-view-versus-a-copy\n",
      "  inform_df['intentName'] ='inform'\n",
      "/tmp/ipykernel_43343/554450390.py:7: SettingWithCopyWarning: \n",
      "A value is trying to be set on a copy of a slice from a DataFrame.\n",
      "Try using .loc[row_indexer,col_indexer] = value instead\n",
      "\n",
      "See the caveats in the documentation: https://pandas.pydata.org/pandas-docs/stable/user_guide/indexing.html#returning-a-view-versus-a-copy\n",
      "  greeting_df['intentName'] = 'greeting'\n"
     ]
    }
   ],
   "source": [
    "# Select utterances with intent 'inform' only\n",
    "inform_df = all_data_df[all_data_df['intentName'] ==('inform',)]\n",
    "inform_df['intentName'] ='inform'\n",
    "\n",
    "# Select utterances with intent 'greeting' only\n",
    "greeting_df = all_data_df[all_data_df['intentName'] == ('greeting',)]\n",
    "greeting_df['intentName'] = 'greeting'\n",
    "greeting_df = greeting_df.drop_duplicates(subset=['text'])\n",
    "\n",
    "# Create dataframe with utterances for intent 'confirm' (no entity needed)\n",
    "confirm_df = pd.DataFrame(columns=all_data_df.columns)\n",
    "confirm_df['text'] = confirm_utterances\n",
    "confirm_df['intentName'] = \"confirm\"\n",
    "confirm_df['entityLabels'] = np.empty((len(confirm_df), 0)).tolist()\n"
   ]
  },
  {
   "cell_type": "code",
   "execution_count": 17,
   "metadata": {},
   "outputs": [
    {
     "data": {
      "text/html": [
       "<div>\n",
       "<style scoped>\n",
       "    .dataframe tbody tr th:only-of-type {\n",
       "        vertical-align: middle;\n",
       "    }\n",
       "\n",
       "    .dataframe tbody tr th {\n",
       "        vertical-align: top;\n",
       "    }\n",
       "\n",
       "    .dataframe thead th {\n",
       "        text-align: right;\n",
       "    }\n",
       "</style>\n",
       "<table border=\"1\" class=\"dataframe\">\n",
       "  <thead>\n",
       "    <tr style=\"text-align: right;\">\n",
       "      <th></th>\n",
       "      <th>text</th>\n",
       "      <th>intentName</th>\n",
       "      <th>entityLabels</th>\n",
       "    </tr>\n",
       "  </thead>\n",
       "  <tbody>\n",
       "    <tr>\n",
       "      <th>0</th>\n",
       "      <td>Yes, that's right</td>\n",
       "      <td>confirm</td>\n",
       "      <td>[]</td>\n",
       "    </tr>\n",
       "    <tr>\n",
       "      <th>1</th>\n",
       "      <td>Exactly</td>\n",
       "      <td>confirm</td>\n",
       "      <td>[]</td>\n",
       "    </tr>\n",
       "    <tr>\n",
       "      <th>2</th>\n",
       "      <td>I confirm</td>\n",
       "      <td>confirm</td>\n",
       "      <td>[]</td>\n",
       "    </tr>\n",
       "    <tr>\n",
       "      <th>3</th>\n",
       "      <td>Yes</td>\n",
       "      <td>confirm</td>\n",
       "      <td>[]</td>\n",
       "    </tr>\n",
       "    <tr>\n",
       "      <th>4</th>\n",
       "      <td>Absolutely</td>\n",
       "      <td>confirm</td>\n",
       "      <td>[]</td>\n",
       "    </tr>\n",
       "    <tr>\n",
       "      <th>5</th>\n",
       "      <td>Yeah, definitely! So happy!</td>\n",
       "      <td>confirm</td>\n",
       "      <td>[]</td>\n",
       "    </tr>\n",
       "    <tr>\n",
       "      <th>6</th>\n",
       "      <td>That's good, I'm OK with it</td>\n",
       "      <td>confirm</td>\n",
       "      <td>[]</td>\n",
       "    </tr>\n",
       "    <tr>\n",
       "      <th>7</th>\n",
       "      <td>Yes, what's the next step?</td>\n",
       "      <td>confirm</td>\n",
       "      <td>[]</td>\n",
       "    </tr>\n",
       "    <tr>\n",
       "      <th>8</th>\n",
       "      <td>OK, what do you propose?</td>\n",
       "      <td>confirm</td>\n",
       "      <td>[]</td>\n",
       "    </tr>\n",
       "    <tr>\n",
       "      <th>9</th>\n",
       "      <td>Perfect</td>\n",
       "      <td>confirm</td>\n",
       "      <td>[]</td>\n",
       "    </tr>\n",
       "    <tr>\n",
       "      <th>10</th>\n",
       "      <td>Sounds good to me</td>\n",
       "      <td>confirm</td>\n",
       "      <td>[]</td>\n",
       "    </tr>\n",
       "    <tr>\n",
       "      <th>11</th>\n",
       "      <td>Yes, I think it's OK</td>\n",
       "      <td>confirm</td>\n",
       "      <td>[]</td>\n",
       "    </tr>\n",
       "    <tr>\n",
       "      <th>12</th>\n",
       "      <td>Oh yeah, bring it on!</td>\n",
       "      <td>confirm</td>\n",
       "      <td>[]</td>\n",
       "    </tr>\n",
       "    <tr>\n",
       "      <th>13</th>\n",
       "      <td>Mmm, I think so</td>\n",
       "      <td>confirm</td>\n",
       "      <td>[]</td>\n",
       "    </tr>\n",
       "    <tr>\n",
       "      <th>14</th>\n",
       "      <td>Let's say yes...</td>\n",
       "      <td>confirm</td>\n",
       "      <td>[]</td>\n",
       "    </tr>\n",
       "    <tr>\n",
       "      <th>15</th>\n",
       "      <td>Yes, go on</td>\n",
       "      <td>confirm</td>\n",
       "      <td>[]</td>\n",
       "    </tr>\n",
       "    <tr>\n",
       "      <th>16</th>\n",
       "      <td>OK</td>\n",
       "      <td>confirm</td>\n",
       "      <td>[]</td>\n",
       "    </tr>\n",
       "    <tr>\n",
       "      <th>17</th>\n",
       "      <td>That's OK</td>\n",
       "      <td>confirm</td>\n",
       "      <td>[]</td>\n",
       "    </tr>\n",
       "    <tr>\n",
       "      <th>18</th>\n",
       "      <td>Yes!</td>\n",
       "      <td>confirm</td>\n",
       "      <td>[]</td>\n",
       "    </tr>\n",
       "    <tr>\n",
       "      <th>19</th>\n",
       "      <td>All good</td>\n",
       "      <td>confirm</td>\n",
       "      <td>[]</td>\n",
       "    </tr>\n",
       "    <tr>\n",
       "      <th>20</th>\n",
       "      <td>OK for me</td>\n",
       "      <td>confirm</td>\n",
       "      <td>[]</td>\n",
       "    </tr>\n",
       "    <tr>\n",
       "      <th>21</th>\n",
       "      <td>Let's go!</td>\n",
       "      <td>confirm</td>\n",
       "      <td>[]</td>\n",
       "    </tr>\n",
       "  </tbody>\n",
       "</table>\n",
       "</div>"
      ],
      "text/plain": [
       "                           text intentName entityLabels\n",
       "0             Yes, that's right    confirm           []\n",
       "1                       Exactly    confirm           []\n",
       "2                     I confirm    confirm           []\n",
       "3                           Yes    confirm           []\n",
       "4                    Absolutely    confirm           []\n",
       "5   Yeah, definitely! So happy!    confirm           []\n",
       "6   That's good, I'm OK with it    confirm           []\n",
       "7    Yes, what's the next step?    confirm           []\n",
       "8      OK, what do you propose?    confirm           []\n",
       "9                       Perfect    confirm           []\n",
       "10            Sounds good to me    confirm           []\n",
       "11         Yes, I think it's OK    confirm           []\n",
       "12        Oh yeah, bring it on!    confirm           []\n",
       "13              Mmm, I think so    confirm           []\n",
       "14             Let's say yes...    confirm           []\n",
       "15                   Yes, go on    confirm           []\n",
       "16                           OK    confirm           []\n",
       "17                    That's OK    confirm           []\n",
       "18                         Yes!    confirm           []\n",
       "19                     All good    confirm           []\n",
       "20                    OK for me    confirm           []\n",
       "21                    Let's go!    confirm           []"
      ]
     },
     "execution_count": 17,
     "metadata": {},
     "output_type": "execute_result"
    }
   ],
   "source": [
    "confirm_df"
   ]
  },
  {
   "cell_type": "code",
   "execution_count": 18,
   "metadata": {},
   "outputs": [
    {
     "data": {
      "text/plain": [
       "((951, 3), (64, 3), (22, 3))"
      ]
     },
     "execution_count": 18,
     "metadata": {},
     "output_type": "execute_result"
    }
   ],
   "source": [
    "inform_df.shape, greeting_df.shape, confirm_df.shape"
   ]
  },
  {
   "cell_type": "markdown",
   "metadata": {},
   "source": [
    "We not need all the utterances to train LUIS: according to the documentation, we can train LUIS iteratively on a first small subset of the utterances, provided that we have a good understanding of the intent. To do so, we'll use the `inform` utterances with most entities."
   ]
  },
  {
   "cell_type": "code",
   "execution_count": 19,
   "metadata": {},
   "outputs": [
    {
     "name": "stderr",
     "output_type": "stream",
     "text": [
      "/tmp/ipykernel_43343/2919607915.py:2: SettingWithCopyWarning: \n",
      "A value is trying to be set on a copy of a slice from a DataFrame.\n",
      "Try using .loc[row_indexer,col_indexer] = value instead\n",
      "\n",
      "See the caveats in the documentation: https://pandas.pydata.org/pandas-docs/stable/user_guide/indexing.html#returning-a-view-versus-a-copy\n",
      "  inform_df['nb_entities'] = inform_df['entityLabels'].apply(lambda x: len(x))\n"
     ]
    }
   ],
   "source": [
    "# Get samples with more than 3 entities in the utterance\n",
    "inform_df['nb_entities'] = inform_df['entityLabels'].apply(lambda x: len(x))\n",
    "inform_df = inform_df[inform_df['nb_entities']>3]\n",
    "inform_df  = inform_df.drop(['nb_entities'], axis=1)\n"
   ]
  },
  {
   "cell_type": "code",
   "execution_count": 20,
   "metadata": {},
   "outputs": [],
   "source": [
    "# Create train and test dataframes\n",
    "train_inform_df = inform_df.sample(frac = 0.5, random_state=42)\n",
    "train_greeting_df = greeting_df.sample(frac = 0.5, random_state=42)\n",
    "train_confirm_df = confirm_df.sample(frac = 0.5, random_state=42)\n",
    "\n",
    "test_inform_df = inform_df.drop(train_inform_df.index)\n",
    "test_greeting_df = greeting_df.drop(train_greeting_df.index)\n",
    "test_confirm_df = confirm_df.drop(train_confirm_df.index)\n",
    "\n",
    "# Convert train an test dataframes to list of dictionaries\n",
    "train_inform = [train_inform_df.loc[i].to_dict() for i in train_inform_df.index]\n",
    "train_greeting = [train_greeting_df.loc[i].to_dict() for i in train_greeting_df.index]\n",
    "train_confirm = [train_confirm_df.loc[i].to_dict() for i in train_confirm_df.index]\n",
    "\n",
    "test_inform = [test_inform_df.loc[i].to_dict() for i in test_inform_df.index]\n",
    "test_greeting = [test_greeting_df.loc[i].to_dict() for i in test_greeting_df.index]\n",
    "test_confirm = [test_confirm_df.loc[i].to_dict() for i in test_confirm_df.index]"
   ]
  },
  {
   "cell_type": "code",
   "execution_count": 21,
   "metadata": {},
   "outputs": [
    {
     "name": "stdout",
     "output_type": "stream",
     "text": [
      "Training sample:\n",
      "\"text\": \"hello, please find me a vacation between saturday august 27 2016 and wednesday september 7 2016 for under 6000$ leaving from madrid\"\n",
      "\"intentName\": \"inform\"\n",
      "\"entityLabels\": \"[{'entityName': 'budget', 'startCharIndex': 106, 'endCharIndex': 111}, {'entityName': 'or_city', 'startCharIndex': 125, 'endCharIndex': 131}, {'entityName': 'str_date', 'startCharIndex': 41, 'endCharIndex': 64}, {'entityName': 'end_date', 'startCharIndex': 69, 'endCharIndex': 95}]\"\n",
      "\n",
      "Underlying entities:\n",
      "budget : 6000$\n",
      "or_city : madrid\n",
      "str_date : saturday august 27 2016\n",
      "end_date : wednesday september 7 2016\n"
     ]
    }
   ],
   "source": [
    "single_sample = train_inform[0]\n",
    "print('Training sample:')\n",
    "for key, value in single_sample.items():\n",
    "    print('\"{}\": \"{}\"'.format(key, value))\n",
    "print()\n",
    "print('Underlying entities:')\n",
    "\n",
    "for entity_label in single_sample['entityLabels']:\n",
    "    print(entity_label['entityName'],\n",
    "    ':',\n",
    "    single_sample['text'][entity_label['startCharIndex']:entity_label['endCharIndex']])"
   ]
  },
  {
   "cell_type": "markdown",
   "metadata": {},
   "source": [
    "Data are ready. Now we can feed and train the model."
   ]
  },
  {
   "cell_type": "markdown",
   "metadata": {},
   "source": [
    "# Training LUIS"
   ]
  },
  {
   "cell_type": "code",
   "execution_count": 22,
   "metadata": {},
   "outputs": [],
   "source": [
    "from azure.cognitiveservices.language.luis.authoring import LUISAuthoringClient\n",
    "from azure.cognitiveservices.language.luis.authoring.models import ApplicationCreateObject\n",
    "from azure.cognitiveservices.language.luis.runtime import LUISRuntimeClient\n",
    "from msrest.authentication import CognitiveServicesCredentials\n",
    "from functools import reduce\n",
    "\n",
    "import json, time\n",
    "import params\n",
    "\n",
    "        \n",
    "authoringKey = params.authoringKey\n",
    "authoringEndpoint = params.authoringEndpoint\n",
    "predictionKey = params.predictionKey\n",
    "predictionEndpoint = params.predictionEndpoint\n",
    "\n",
    "appName = \"Booking recognition\"\n",
    "versionId = \"0.1\"\n",
    "\n",
    "client = LUISAuthoringClient(authoringEndpoint, \n",
    "                        CognitiveServicesCredentials(authoringKey))\n",
    "\n",
    "# define app basics\n",
    "appDefinition = ApplicationCreateObject(\n",
    "    name=appName, \n",
    "    initial_version_id=versionId, \n",
    "    culture='en-us')\n"
   ]
  },
  {
   "cell_type": "code",
   "execution_count": 23,
   "metadata": {},
   "outputs": [
    {
     "name": "stdout",
     "output_type": "stream",
     "text": [
      "Created LUIS app with ID 466354c5-919d-428a-a438-fdc18abeb4a4\n"
     ]
    }
   ],
   "source": [
    "# access or create app\n",
    "try:\n",
    "    app_id = client.apps.add(appDefinition)\n",
    "    print(f\"Created LUIS app with ID {app_id}\")\n",
    "except:\n",
    "    print(f\"App with name {appName} already exists.\")\n",
    "    app_id = client.apps.list()[0].id\n",
    "    print(f\"Using existing app with ID {app_id}\")\n"
   ]
  },
  {
   "cell_type": "code",
   "execution_count": 24,
   "metadata": {},
   "outputs": [
    {
     "name": "stdout",
     "output_type": "stream",
     "text": [
      "Created intent 'inform'.\n",
      "Created intent 'greeting'.\n",
      "Created intent 'confirm'.\n"
     ]
    }
   ],
   "source": [
    "# create intents\n",
    "for intent in ['inform', 'greeting', 'confirm']:\n",
    "    try:\n",
    "        client.model.add_intent(app_id, versionId, intent)\n",
    "        print(f\"Created intent '{intent}'.\")\n",
    "    except:\n",
    "        print(f\"Intent '{intent}' already exists.\")\n"
   ]
  },
  {
   "cell_type": "code",
   "execution_count": 25,
   "metadata": {},
   "outputs": [
    {
     "name": "stdout",
     "output_type": "stream",
     "text": [
      "Created entity 'budget'.\n",
      "Created entity 'or_city'.\n",
      "Created entity 'dst_city'.\n",
      "Created entity 'str_date'.\n",
      "Created entity 'end_date'.\n"
     ]
    }
   ],
   "source": [
    "# define machine-learned entities             \n",
    "entities = [\n",
    "        \"budget\",\n",
    "        \"or_city\",\n",
    "        \"dst_city\",\n",
    "        \"str_date\",\n",
    "        \"end_date\",\n",
    "    ]\n",
    "\n",
    "# add entities to app\n",
    "for entity in entities:\n",
    "    try:\n",
    "        client.model.add_entity(app_id, \n",
    "                                versionId, \n",
    "                                name=entity) \n",
    "        print(f\"Created entity '{entity}'.\")\n",
    "    except:\n",
    "        print(f\"Entity '{entity}' already exists.\")"
   ]
  },
  {
   "cell_type": "code",
   "execution_count": 26,
   "metadata": {},
   "outputs": [
    {
     "name": "stdout",
     "output_type": "stream",
     "text": [
      "Adding utterances for intent 'inform'...\n"
     ]
    },
    {
     "name": "stderr",
     "output_type": "stream",
     "text": [
      "100%|██████████| 64/64 [00:17<00:00,  3.72it/s]\n"
     ]
    },
    {
     "name": "stdout",
     "output_type": "stream",
     "text": [
      "Adding utterances for intent 'greeting'...\n"
     ]
    },
    {
     "name": "stderr",
     "output_type": "stream",
     "text": [
      "100%|██████████| 32/32 [00:07<00:00,  4.12it/s]\n"
     ]
    },
    {
     "name": "stdout",
     "output_type": "stream",
     "text": [
      "Adding utterances for intent 'confirm'...\n"
     ]
    },
    {
     "name": "stderr",
     "output_type": "stream",
     "text": [
      "100%|██████████| 11/11 [00:02<00:00,  4.13it/s]\n"
     ]
    }
   ],
   "source": [
    "# Add utterances examples \n",
    "for data in [train_inform, train_greeting, train_confirm]:\n",
    "    print(f\"Adding utterances for intent '{data[0]['intentName']}'...\")\n",
    "    for labeled_utterance in tqdm(data):\n",
    "        client.examples.add(app_id, versionId, labeled_utterance)"
   ]
  },
  {
   "cell_type": "code",
   "execution_count": 27,
   "metadata": {},
   "outputs": [
    {
     "name": "stdout",
     "output_type": "stream",
     "text": [
      "Waiting 10 seconds for training to complete...\n",
      "trained\n"
     ]
    }
   ],
   "source": [
    "# Train app on utterances\n",
    "client.train.train_version(app_id, versionId)\n",
    "\n",
    "# Check if training is done\n",
    "waiting = True\n",
    "while waiting:\n",
    "    info = client.train.get_status(app_id, versionId)\n",
    "\n",
    "    # get_status returns a list of training statuses, one for each model. Loop through them and make sure all are done.\n",
    "    waiting = any(map(lambda x: 'Queued' == x.details.status or 'InProgress' == x.details.status, info))\n",
    "    if waiting:\n",
    "        print (\"Waiting 10 seconds for training to complete...\")\n",
    "        time.sleep(10)\n",
    "    else: \n",
    "        print (\"trained\")\n",
    "        waiting = False"
   ]
  },
  {
   "cell_type": "markdown",
   "metadata": {},
   "source": [
    "Create json file for batch testing:"
   ]
  },
  {
   "cell_type": "code",
   "execution_count": 32,
   "metadata": {},
   "outputs": [],
   "source": [
    "test_data_df = pd.concat([test_inform_df, test_greeting_df, test_confirm_df])\n",
    "test_data_df = test_data_df.reset_index(drop=True)\n",
    "test_data_df = test_data_df.sample(frac=1)"
   ]
  },
  {
   "cell_type": "code",
   "execution_count": 66,
   "metadata": {},
   "outputs": [],
   "source": [
    "test_data_df.columns = ['text', 'intent', 'entities']"
   ]
  },
  {
   "cell_type": "code",
   "execution_count": 67,
   "metadata": {},
   "outputs": [],
   "source": [
    "test_data = [test_data_df.loc[i].to_dict() for i in test_data_df.index]"
   ]
  },
  {
   "cell_type": "code",
   "execution_count": 68,
   "metadata": {},
   "outputs": [],
   "source": [
    "\n",
    "with open('test_data.json', 'w') as f:\n",
    "    json.dump(test_data, f, indent=4)"
   ]
  },
  {
   "cell_type": "code",
   "execution_count": 28,
   "metadata": {},
   "outputs": [],
   "source": [
    "ask_for = {\n",
    "    \"str_date\": \"when do you want to go?\",\n",
    "    \"end_date\": \"when do you want to come back?\",\n",
    "    \"dst_city\": \"where do you want to fly to?\",\n",
    "    \"or_city\": \"where do you want to depart from?\",\n",
    "    \"budget\": \"what is your budget?\",\n",
    "    }\n"
   ]
  },
  {
   "cell_type": "code",
   "execution_count": 64,
   "metadata": {},
   "outputs": [
    {
     "data": {
      "text/plain": [
       "[{'text': 'Please find a flight from Beijing to Kochi for me. Sept 16 to 20',\n",
       "  'intentName': 'inform',\n",
       "  'entityLabels': [{'entityName': 'or_city',\n",
       "    'startCharIndex': 26,\n",
       "    'endCharIndex': 33},\n",
       "   {'entityName': 'dst_city', 'startCharIndex': 37, 'endCharIndex': 42},\n",
       "   {'entityName': 'str_date', 'startCharIndex': 51, 'endCharIndex': 58},\n",
       "   {'entityName': 'end_date', 'startCharIndex': 62, 'endCharIndex': 64}]},\n",
       " {'text': 'Three words: Alexandria to Cencun. Please book a trip for us. two adults. Leaving ASAP, returning before Sep 6',\n",
       "  'intentName': 'inform',\n",
       "  'entityLabels': [{'entityName': 'or_city',\n",
       "    'startCharIndex': 13,\n",
       "    'endCharIndex': 23},\n",
       "   {'entityName': 'dst_city', 'startCharIndex': 27, 'endCharIndex': 33},\n",
       "   {'entityName': 'str_date', 'startCharIndex': 82, 'endCharIndex': 86},\n",
       "   {'entityName': 'end_date', 'startCharIndex': 105, 'endCharIndex': 110}]},\n",
       " {'text': 'hiya', 'intentName': 'greeting', 'entityLabels': []},\n",
       " {'text': 'Hey', 'intentName': 'greeting', 'entityLabels': []},\n",
       " {'text': 'I need to find something between september 8th and 27th for under 4300 from frankfurt',\n",
       "  'intentName': 'inform',\n",
       "  'entityLabels': [{'entityName': 'budget',\n",
       "    'startCharIndex': 66,\n",
       "    'endCharIndex': 70},\n",
       "   {'entityName': 'or_city', 'startCharIndex': 76, 'endCharIndex': 85},\n",
       "   {'entityName': 'str_date', 'startCharIndex': 33, 'endCharIndex': 46},\n",
       "   {'entityName': 'end_date', 'startCharIndex': 51, 'endCharIndex': 55}]},\n",
       " {'text': 'I want to go to Miami from Beijing  between september 6th and 9th for 3500 and 5 adults altogether. The only thing I am flexible with is the price, if i need to I can increase it by 200',\n",
       "  'intentName': 'inform',\n",
       "  'entityLabels': [{'entityName': 'budget',\n",
       "    'startCharIndex': 70,\n",
       "    'endCharIndex': 74},\n",
       "   {'entityName': 'or_city', 'startCharIndex': 27, 'endCharIndex': 34},\n",
       "   {'entityName': 'dst_city', 'startCharIndex': 16, 'endCharIndex': 21},\n",
       "   {'entityName': 'str_date', 'startCharIndex': 44, 'endCharIndex': 57},\n",
       "   {'entityName': 'end_date', 'startCharIndex': 62, 'endCharIndex': 65}]},\n",
       " {'text': 'Yo dude.', 'intentName': 'greeting', 'entityLabels': []},\n",
       " {'text': 'Hi. First time trying this out. What do I do?',\n",
       "  'intentName': 'greeting',\n",
       "  'entityLabels': []},\n",
       " {'text': \"Hey, I'm looking to book my honeymoon from Houston to Santo Domingo for a week on August 26th. My budget is 1500.\",\n",
       "  'intentName': 'inform',\n",
       "  'entityLabels': [{'entityName': 'budget',\n",
       "    'startCharIndex': 108,\n",
       "    'endCharIndex': 112},\n",
       "   {'entityName': 'or_city', 'startCharIndex': 43, 'endCharIndex': 50},\n",
       "   {'entityName': 'dst_city', 'startCharIndex': 54, 'endCharIndex': 67},\n",
       "   {'entityName': 'str_date', 'startCharIndex': 82, 'endCharIndex': 93}]},\n",
       " {'text': 'ok so i am free to travel from september 13 until the 23.  can you tell me my options for Sao Paulo leaving from Sapporo please',\n",
       "  'intentName': 'inform',\n",
       "  'entityLabels': [{'entityName': 'or_city',\n",
       "    'startCharIndex': 113,\n",
       "    'endCharIndex': 120},\n",
       "   {'entityName': 'dst_city', 'startCharIndex': 90, 'endCharIndex': 99},\n",
       "   {'entityName': 'str_date', 'startCharIndex': 31, 'endCharIndex': 43},\n",
       "   {'entityName': 'end_date', 'startCharIndex': 54, 'endCharIndex': 56}]},\n",
       " {'text': 'I want to go to Barcelona from anywhere between the 12th and the 28th of September. I have 2100 and my assistant will be coming along. I am specifically looking for hotels near a park or beach or both.',\n",
       "  'intentName': 'inform',\n",
       "  'entityLabels': [{'entityName': 'budget',\n",
       "    'startCharIndex': 91,\n",
       "    'endCharIndex': 95},\n",
       "   {'entityName': 'dst_city', 'startCharIndex': 16, 'endCharIndex': 25},\n",
       "   {'entityName': 'str_date', 'startCharIndex': 52, 'endCharIndex': 56},\n",
       "   {'entityName': 'end_date', 'startCharIndex': 65, 'endCharIndex': 82}]},\n",
       " {'text': 'I’m good, you?', 'intentName': 'greeting', 'entityLabels': []},\n",
       " {'text': 'Hello', 'intentName': 'greeting', 'entityLabels': []},\n",
       " {'text': 'hi', 'intentName': 'greeting', 'entityLabels': []},\n",
       " {'text': 'Hello, I want to leave from Seoul on August 27 and return on September 9. You can go to Manaus.',\n",
       "  'intentName': 'inform',\n",
       "  'entityLabels': [{'entityName': 'or_city',\n",
       "    'startCharIndex': 28,\n",
       "    'endCharIndex': 33},\n",
       "   {'entityName': 'dst_city', 'startCharIndex': 88, 'endCharIndex': 94},\n",
       "   {'entityName': 'str_date', 'startCharIndex': 37, 'endCharIndex': 46},\n",
       "   {'entityName': 'end_date', 'startCharIndex': 61, 'endCharIndex': 72}]},\n",
       " {'text': 'Hi there!', 'intentName': 'greeting', 'entityLabels': []},\n",
       " {'text': 'i need to know how much it costs to go from ciudad juarez to la paz leaving august 22 to september 8',\n",
       "  'intentName': 'inform',\n",
       "  'entityLabels': [{'entityName': 'or_city',\n",
       "    'startCharIndex': 44,\n",
       "    'endCharIndex': 57},\n",
       "   {'entityName': 'dst_city', 'startCharIndex': 61, 'endCharIndex': 67},\n",
       "   {'entityName': 'str_date', 'startCharIndex': 76, 'endCharIndex': 85},\n",
       "   {'entityName': 'end_date', 'startCharIndex': 89, 'endCharIndex': 100}]},\n",
       " {'text': 'hello................',\n",
       "  'intentName': 'greeting',\n",
       "  'entityLabels': []},\n",
       " {'text': \"I'm looking for a trip to Gotham City leaving from Kakariko Village on Saturday, August 13, 2016. 3 adults for no more than $2400 USD.\",\n",
       "  'intentName': 'inform',\n",
       "  'entityLabels': [{'entityName': 'budget',\n",
       "    'startCharIndex': 124,\n",
       "    'endCharIndex': 133},\n",
       "   {'entityName': 'or_city', 'startCharIndex': 51, 'endCharIndex': 67},\n",
       "   {'entityName': 'dst_city', 'startCharIndex': 26, 'endCharIndex': 37},\n",
       "   {'entityName': 'str_date', 'startCharIndex': 71, 'endCharIndex': 96}]},\n",
       " {'text': 'Me and 3 friends are going on fall break and want to go to San Diego from Calgary from the 8th to 25th and we have 14000 between us.',\n",
       "  'intentName': 'inform',\n",
       "  'entityLabels': [{'entityName': 'budget',\n",
       "    'startCharIndex': 115,\n",
       "    'endCharIndex': 120},\n",
       "   {'entityName': 'or_city', 'startCharIndex': 74, 'endCharIndex': 81},\n",
       "   {'entityName': 'dst_city', 'startCharIndex': 59, 'endCharIndex': 68},\n",
       "   {'entityName': 'str_date', 'startCharIndex': 91, 'endCharIndex': 94},\n",
       "   {'entityName': 'end_date', 'startCharIndex': 98, 'endCharIndex': 102}]},\n",
       " {'text': 'I would like a vacation for one in Mannheim from August 17 to September 7. My city of departure is Porto Alegre. It should cost less than $3000.',\n",
       "  'intentName': 'inform',\n",
       "  'entityLabels': [{'entityName': 'budget',\n",
       "    'startCharIndex': 138,\n",
       "    'endCharIndex': 143},\n",
       "   {'entityName': 'or_city', 'startCharIndex': 99, 'endCharIndex': 111},\n",
       "   {'entityName': 'dst_city', 'startCharIndex': 35, 'endCharIndex': 43},\n",
       "   {'entityName': 'str_date', 'startCharIndex': 49, 'endCharIndex': 58},\n",
       "   {'entityName': 'end_date', 'startCharIndex': 62, 'endCharIndex': 73}]},\n",
       " {'text': \"You can help me by booking a flight out of Cordoba to Salvador for me and my friend. Leaving ASAP and back before September 8. Oh and I'll need the best hotels you can get\",\n",
       "  'intentName': 'inform',\n",
       "  'entityLabels': [{'entityName': 'or_city',\n",
       "    'startCharIndex': 43,\n",
       "    'endCharIndex': 50},\n",
       "   {'entityName': 'dst_city', 'startCharIndex': 54, 'endCharIndex': 62},\n",
       "   {'entityName': 'str_date', 'startCharIndex': 93, 'endCharIndex': 97},\n",
       "   {'entityName': 'end_date', 'startCharIndex': 114, 'endCharIndex': 125}]},\n",
       " {'text': 'I would like to find a vacation between the 24th and 27th from San Francisco to Fort Lauderdale for 3800',\n",
       "  'intentName': 'inform',\n",
       "  'entityLabels': [{'entityName': 'budget',\n",
       "    'startCharIndex': 100,\n",
       "    'endCharIndex': 104},\n",
       "   {'entityName': 'or_city', 'startCharIndex': 63, 'endCharIndex': 76},\n",
       "   {'entityName': 'dst_city', 'startCharIndex': 80, 'endCharIndex': 95},\n",
       "   {'entityName': 'str_date', 'startCharIndex': 44, 'endCharIndex': 48},\n",
       "   {'entityName': 'end_date', 'startCharIndex': 53, 'endCharIndex': 57}]},\n",
       " {'text': 'All good', 'intentName': 'confirm', 'entityLabels': []},\n",
       " {'text': 'Hi there,', 'intentName': 'greeting', 'entityLabels': []},\n",
       " {'text': 'I want to go on a vacationg from september 18th to september 22nd to Monterrey from Curritiba for under 3100',\n",
       "  'intentName': 'inform',\n",
       "  'entityLabels': [{'entityName': 'budget',\n",
       "    'startCharIndex': 104,\n",
       "    'endCharIndex': 108},\n",
       "   {'entityName': 'or_city', 'startCharIndex': 69, 'endCharIndex': 78},\n",
       "   {'entityName': 'dst_city', 'startCharIndex': 84, 'endCharIndex': 93},\n",
       "   {'entityName': 'str_date', 'startCharIndex': 33, 'endCharIndex': 47},\n",
       "   {'entityName': 'end_date', 'startCharIndex': 51, 'endCharIndex': 65}]},\n",
       " {'text': 'Yes!', 'intentName': 'confirm', 'entityLabels': []},\n",
       " {'text': 'BRASILIA TO KYOTO, SEPT 4. $4000 Budget GOOOO',\n",
       "  'intentName': 'inform',\n",
       "  'entityLabels': [{'entityName': 'budget',\n",
       "    'startCharIndex': 27,\n",
       "    'endCharIndex': 32},\n",
       "   {'entityName': 'or_city', 'startCharIndex': 0, 'endCharIndex': 8},\n",
       "   {'entityName': 'dst_city', 'startCharIndex': 12, 'endCharIndex': 17},\n",
       "   {'entityName': 'str_date', 'startCharIndex': 19, 'endCharIndex': 25}]},\n",
       " {'text': 'I want to go to denver from frankfurt for under 2900 from september 8th to 13th',\n",
       "  'intentName': 'inform',\n",
       "  'entityLabels': [{'entityName': 'budget',\n",
       "    'startCharIndex': 48,\n",
       "    'endCharIndex': 52},\n",
       "   {'entityName': 'or_city', 'startCharIndex': 28, 'endCharIndex': 37},\n",
       "   {'entityName': 'dst_city', 'startCharIndex': 16, 'endCharIndex': 22},\n",
       "   {'entityName': 'str_date', 'startCharIndex': 58, 'endCharIndex': 71},\n",
       "   {'entityName': 'end_date', 'startCharIndex': 75, 'endCharIndex': 79}]},\n",
       " {'text': 'I wanna find a dope vacation package from Ulsan to Rio de Janeiro for under 6500 between August 27th and september 16, my dates are not flexible',\n",
       "  'intentName': 'inform',\n",
       "  'entityLabels': [{'entityName': 'budget',\n",
       "    'startCharIndex': 76,\n",
       "    'endCharIndex': 80},\n",
       "   {'entityName': 'or_city', 'startCharIndex': 42, 'endCharIndex': 47},\n",
       "   {'entityName': 'dst_city', 'startCharIndex': 51, 'endCharIndex': 65},\n",
       "   {'entityName': 'str_date', 'startCharIndex': 89, 'endCharIndex': 100},\n",
       "   {'entityName': 'end_date', 'startCharIndex': 105, 'endCharIndex': 117}]},\n",
       " {'text': 'Hi hi hi', 'intentName': 'greeting', 'entityLabels': []},\n",
       " {'text': 'HI', 'intentName': 'greeting', 'entityLabels': []},\n",
       " {'text': \"Good day, I'm located in Kobe and I have been offered a possible internship in Baltimore at the heart of the action! I need you to book a flight and hotel package for me sometime between August 26 and September 10.\",\n",
       "  'intentName': 'inform',\n",
       "  'entityLabels': [{'entityName': 'or_city',\n",
       "    'startCharIndex': 25,\n",
       "    'endCharIndex': 29},\n",
       "   {'entityName': 'dst_city', 'startCharIndex': 79, 'endCharIndex': 88},\n",
       "   {'entityName': 'str_date', 'startCharIndex': 187, 'endCharIndex': 196},\n",
       "   {'entityName': 'end_date', 'startCharIndex': 201, 'endCharIndex': 213}]},\n",
       " {'text': \"ok bud I'm sure you've never dealt with this kinda thing in ur line of work but I've got a bit of a bad rap here on the streets of Burlington so I've gotta lay low for a little while... I've got 1700 dollars to burn.  can ya get me to Long Beach by the first of next month\",\n",
       "  'intentName': 'inform',\n",
       "  'entityLabels': [{'entityName': 'budget',\n",
       "    'startCharIndex': 195,\n",
       "    'endCharIndex': 199},\n",
       "   {'entityName': 'or_city', 'startCharIndex': 131, 'endCharIndex': 141},\n",
       "   {'entityName': 'dst_city', 'startCharIndex': 235, 'endCharIndex': 245},\n",
       "   {'entityName': 'str_date', 'startCharIndex': 253, 'endCharIndex': 272}]},\n",
       " {'text': 'What packages do you have available between september 7th and 13th from Columbus to Punta Cana?',\n",
       "  'intentName': 'inform',\n",
       "  'entityLabels': [{'entityName': 'or_city',\n",
       "    'startCharIndex': 72,\n",
       "    'endCharIndex': 80},\n",
       "   {'entityName': 'dst_city', 'startCharIndex': 84, 'endCharIndex': 94},\n",
       "   {'entityName': 'str_date', 'startCharIndex': 44, 'endCharIndex': 57},\n",
       "   {'entityName': 'end_date', 'startCharIndex': 62, 'endCharIndex': 66}]},\n",
       " {'text': 'ahhhh hey bud. I need to get the heck outta tel aviv ASAP\\ncan ya get me to London for, say, 2900? and TODAY please',\n",
       "  'intentName': 'inform',\n",
       "  'entityLabels': [{'entityName': 'budget',\n",
       "    'startCharIndex': 92,\n",
       "    'endCharIndex': 96},\n",
       "   {'entityName': 'or_city', 'startCharIndex': 44, 'endCharIndex': 52},\n",
       "   {'entityName': 'dst_city', 'startCharIndex': 75, 'endCharIndex': 81},\n",
       "   {'entityName': 'str_date', 'startCharIndex': 102, 'endCharIndex': 107}]},\n",
       " {'text': 'heyo', 'intentName': 'greeting', 'entityLabels': []},\n",
       " {'text': 'OK', 'intentName': 'confirm', 'entityLabels': []},\n",
       " {'text': 'hey so i need 2 get my parents out of town. where can u ship em between septemeber 2 and 13th for 3500 dollars?\\nleaving from montreal ',\n",
       "  'intentName': 'inform',\n",
       "  'entityLabels': [{'entityName': 'budget',\n",
       "    'startCharIndex': 98,\n",
       "    'endCharIndex': 110},\n",
       "   {'entityName': 'or_city', 'startCharIndex': 125, 'endCharIndex': 133},\n",
       "   {'entityName': 'str_date', 'startCharIndex': 72, 'endCharIndex': 84},\n",
       "   {'entityName': 'end_date', 'startCharIndex': 89, 'endCharIndex': 93}]},\n",
       " {'text': \"Hi. I'd like to book a trip from Nagoya to Phoenix from August 15th to August 29th.\",\n",
       "  'intentName': 'inform',\n",
       "  'entityLabels': [{'entityName': 'or_city',\n",
       "    'startCharIndex': 33,\n",
       "    'endCharIndex': 39},\n",
       "   {'entityName': 'dst_city', 'startCharIndex': 43, 'endCharIndex': 50},\n",
       "   {'entityName': 'str_date', 'startCharIndex': 56, 'endCharIndex': 67},\n",
       "   {'entityName': 'end_date', 'startCharIndex': 71, 'endCharIndex': 82}]},\n",
       " {'text': \"Let's say yes...\", 'intentName': 'confirm', 'entityLabels': []},\n",
       " {'text': \"That's good, I'm OK with it\",\n",
       "  'intentName': 'confirm',\n",
       "  'entityLabels': []},\n",
       " {'text': 'sept 12 to 22. toluca to naples',\n",
       "  'intentName': 'inform',\n",
       "  'entityLabels': [{'entityName': 'or_city',\n",
       "    'startCharIndex': 15,\n",
       "    'endCharIndex': 21},\n",
       "   {'entityName': 'dst_city', 'startCharIndex': 25, 'endCharIndex': 31},\n",
       "   {'entityName': 'str_date', 'startCharIndex': 0, 'endCharIndex': 7},\n",
       "   {'entityName': 'end_date', 'startCharIndex': 11, 'endCharIndex': 13}]},\n",
       " {'text': 'sup ', 'intentName': 'greeting', 'entityLabels': []},\n",
       " {'text': 'San Jose to Porto Alegre please. oh it needs to be between sept 18 to 22',\n",
       "  'intentName': 'inform',\n",
       "  'entityLabels': [{'entityName': 'or_city',\n",
       "    'startCharIndex': 0,\n",
       "    'endCharIndex': 8},\n",
       "   {'entityName': 'dst_city', 'startCharIndex': 12, 'endCharIndex': 24},\n",
       "   {'entityName': 'str_date', 'startCharIndex': 59, 'endCharIndex': 66},\n",
       "   {'entityName': 'end_date', 'startCharIndex': 70, 'endCharIndex': 72}]},\n",
       " {'text': \"I'd like to get away from Monday, August 15, 2016 to Wednesday, August 31, 2016. My budget is $3200 and I would leave from Detroit.\",\n",
       "  'intentName': 'inform',\n",
       "  'entityLabels': [{'entityName': 'budget',\n",
       "    'startCharIndex': 94,\n",
       "    'endCharIndex': 99},\n",
       "   {'entityName': 'or_city', 'startCharIndex': 123, 'endCharIndex': 130},\n",
       "   {'entityName': 'str_date', 'startCharIndex': 26, 'endCharIndex': 49},\n",
       "   {'entityName': 'end_date', 'startCharIndex': 53, 'endCharIndex': 79}]},\n",
       " {'text': 'I want to go to Leon from Nagoya between the 13th and october 2nd.',\n",
       "  'intentName': 'inform',\n",
       "  'entityLabels': [{'entityName': 'or_city',\n",
       "    'startCharIndex': 26,\n",
       "    'endCharIndex': 32},\n",
       "   {'entityName': 'dst_city', 'startCharIndex': 16, 'endCharIndex': 20},\n",
       "   {'entityName': 'str_date', 'startCharIndex': 45, 'endCharIndex': 49},\n",
       "   {'entityName': 'end_date', 'startCharIndex': 54, 'endCharIndex': 65}]},\n",
       " {'text': 'I would like to take my soon to be wife on a great honeymoon, she deserves the best but we can only afford something up to 4200 for 6 days. We had discussed going to Punta Cana from Sapporo where our wedding will take place on the 17th, we can leave after that.',\n",
       "  'intentName': 'inform',\n",
       "  'entityLabels': [{'entityName': 'budget',\n",
       "    'startCharIndex': 123,\n",
       "    'endCharIndex': 127},\n",
       "   {'entityName': 'or_city', 'startCharIndex': 182, 'endCharIndex': 189},\n",
       "   {'entityName': 'dst_city', 'startCharIndex': 166, 'endCharIndex': 176},\n",
       "   {'entityName': 'str_date', 'startCharIndex': 231, 'endCharIndex': 235}]},\n",
       " {'text': 'I confirm', 'intentName': 'confirm', 'entityLabels': []},\n",
       " {'text': 'hey', 'intentName': 'greeting', 'entityLabels': []},\n",
       " {'text': 'Hey how are you?', 'intentName': 'greeting', 'entityLabels': []},\n",
       " {'text': 'Hey, i want to go to rome from kochi. Can you find me some packages between september 2nd and 6th for 4300',\n",
       "  'intentName': 'inform',\n",
       "  'entityLabels': [{'entityName': 'budget',\n",
       "    'startCharIndex': 102,\n",
       "    'endCharIndex': 106},\n",
       "   {'entityName': 'or_city', 'startCharIndex': 31, 'endCharIndex': 36},\n",
       "   {'entityName': 'dst_city', 'startCharIndex': 21, 'endCharIndex': 25},\n",
       "   {'entityName': 'str_date', 'startCharIndex': 86, 'endCharIndex': 89},\n",
       "   {'entityName': 'end_date', 'startCharIndex': 94, 'endCharIndex': 97}]},\n",
       " {'text': \"I'm traveling alone, from Minneapolis to Ciudad Juarez. Sept 2 to Sept 22. Do you have any flights that fit?\",\n",
       "  'intentName': 'inform',\n",
       "  'entityLabels': [{'entityName': 'or_city',\n",
       "    'startCharIndex': 26,\n",
       "    'endCharIndex': 37},\n",
       "   {'entityName': 'dst_city', 'startCharIndex': 41, 'endCharIndex': 54},\n",
       "   {'entityName': 'str_date', 'startCharIndex': 56, 'endCharIndex': 62},\n",
       "   {'entityName': 'end_date', 'startCharIndex': 66, 'endCharIndex': 73}]},\n",
       " {'text': 'haayyyyy', 'intentName': 'greeting', 'entityLabels': []},\n",
       " {'text': 'I need to find MEWTWO!!!!! I need to get to Paris from Kingston on or after the 6th. I have a friend tagging along to help me and we have 6000',\n",
       "  'intentName': 'inform',\n",
       "  'entityLabels': [{'entityName': 'budget',\n",
       "    'startCharIndex': 138,\n",
       "    'endCharIndex': 142},\n",
       "   {'entityName': 'or_city', 'startCharIndex': 55, 'endCharIndex': 63},\n",
       "   {'entityName': 'dst_city', 'startCharIndex': 44, 'endCharIndex': 49},\n",
       "   {'entityName': 'str_date', 'startCharIndex': 80, 'endCharIndex': 83}]},\n",
       " {'text': 'Salvador to Recife, Sept 1 for 1, $1000 budget. I want the best hotel in Recife',\n",
       "  'intentName': 'inform',\n",
       "  'entityLabels': [{'entityName': 'budget',\n",
       "    'startCharIndex': 34,\n",
       "    'endCharIndex': 39},\n",
       "   {'entityName': 'or_city', 'startCharIndex': 0, 'endCharIndex': 8},\n",
       "   {'entityName': 'dst_city', 'startCharIndex': 12, 'endCharIndex': 18},\n",
       "   {'entityName': 'str_date', 'startCharIndex': 20, 'endCharIndex': 26}]},\n",
       " {'text': 'I need to find a vacation between today and September 14th from Punta Cana to San Francisco',\n",
       "  'intentName': 'inform',\n",
       "  'entityLabels': [{'entityName': 'or_city',\n",
       "    'startCharIndex': 64,\n",
       "    'endCharIndex': 74},\n",
       "   {'entityName': 'dst_city', 'startCharIndex': 78, 'endCharIndex': 91},\n",
       "   {'entityName': 'str_date', 'startCharIndex': 34, 'endCharIndex': 39},\n",
       "   {'entityName': 'end_date', 'startCharIndex': 44, 'endCharIndex': 58}]},\n",
       " {'text': 'from 22nd-28nd of september i just wanna flee town and forget about work, family, my mortgage, responsibilities, my alcoholism, etc.. i am thinking Ciudad Juarez\\nfrom Dalle',\n",
       "  'intentName': 'inform',\n",
       "  'entityLabels': [{'entityName': 'or_city',\n",
       "    'startCharIndex': 167,\n",
       "    'endCharIndex': 172},\n",
       "   {'entityName': 'dst_city', 'startCharIndex': 148, 'endCharIndex': 161},\n",
       "   {'entityName': 'str_date', 'startCharIndex': 5, 'endCharIndex': 9},\n",
       "   {'entityName': 'end_date', 'startCharIndex': 10, 'endCharIndex': 27}]},\n",
       " {'text': \"Yes, what's the next step?\",\n",
       "  'intentName': 'confirm',\n",
       "  'entityLabels': []},\n",
       " {'text': 'EXCUSE ME', 'intentName': 'greeting', 'entityLabels': []},\n",
       " {'text': 'Goiania to Montreal on Sept 10 to 11th ONLY',\n",
       "  'intentName': 'inform',\n",
       "  'entityLabels': [{'entityName': 'or_city',\n",
       "    'startCharIndex': 0,\n",
       "    'endCharIndex': 7},\n",
       "   {'entityName': 'dst_city', 'startCharIndex': 11, 'endCharIndex': 19},\n",
       "   {'entityName': 'str_date', 'startCharIndex': 23, 'endCharIndex': 30},\n",
       "   {'entityName': 'end_date', 'startCharIndex': 34, 'endCharIndex': 38}]},\n",
       " {'text': 'Hi, I need to go to Mos Eisley for a wedding, leaving on Saturday, August 13, 2016 and returning on Tuesday, August 16, 2016. Preferably for $3700.',\n",
       "  'intentName': 'inform',\n",
       "  'entityLabels': [{'entityName': 'budget',\n",
       "    'startCharIndex': 141,\n",
       "    'endCharIndex': 146},\n",
       "   {'entityName': 'dst_city', 'startCharIndex': 20, 'endCharIndex': 30},\n",
       "   {'entityName': 'str_date', 'startCharIndex': 57, 'endCharIndex': 82},\n",
       "   {'entityName': 'end_date', 'startCharIndex': 100, 'endCharIndex': 124}]},\n",
       " {'text': 'suh', 'intentName': 'greeting', 'entityLabels': []},\n",
       " {'text': 'I wanna find a vacation between yesterday and the 24th for under 3200 and leaving from Tijuana',\n",
       "  'intentName': 'inform',\n",
       "  'entityLabels': [{'entityName': 'budget',\n",
       "    'startCharIndex': 65,\n",
       "    'endCharIndex': 69},\n",
       "   {'entityName': 'or_city', 'startCharIndex': 87, 'endCharIndex': 94},\n",
       "   {'entityName': 'str_date', 'startCharIndex': 32, 'endCharIndex': 41},\n",
       "   {'entityName': 'end_date', 'startCharIndex': 50, 'endCharIndex': 54}]},\n",
       " {'text': \"I'm not having a good day so I'm going to keep this short\",\n",
       "  'intentName': 'greeting',\n",
       "  'entityLabels': []},\n",
       " {'text': 'Sounds good to me', 'intentName': 'confirm', 'entityLabels': []},\n",
       " {'text': 'Hi', 'intentName': 'greeting', 'entityLabels': []},\n",
       " {'text': 'ay bruh i got 3300 and some naggy ass parental figures i need out of my hair. where can u get 2 adults from maceio between like ... september 11th and 24th within my budgeT?',\n",
       "  'intentName': 'inform',\n",
       "  'entityLabels': [{'entityName': 'budget',\n",
       "    'startCharIndex': 14,\n",
       "    'endCharIndex': 18},\n",
       "   {'entityName': 'or_city', 'startCharIndex': 108, 'endCharIndex': 114},\n",
       "   {'entityName': 'str_date', 'startCharIndex': 132, 'endCharIndex': 146},\n",
       "   {'entityName': 'end_date', 'startCharIndex': 151, 'endCharIndex': 155}]},\n",
       " {'text': 'SO! I am travelling with my family for a reunion\\nWe are all leaving from Beijing and need to get to Toluca.\\nThere will be six of us adults travelling and we need to leave between August 24 to August 27.\\nWhat can you find me?',\n",
       "  'intentName': 'inform',\n",
       "  'entityLabels': [{'entityName': 'or_city',\n",
       "    'startCharIndex': 73,\n",
       "    'endCharIndex': 80},\n",
       "   {'entityName': 'dst_city', 'startCharIndex': 100, 'endCharIndex': 106},\n",
       "   {'entityName': 'str_date', 'startCharIndex': 179, 'endCharIndex': 188},\n",
       "   {'entityName': 'end_date', 'startCharIndex': 192, 'endCharIndex': 201}]},\n",
       " {'text': 'Hey there', 'intentName': 'greeting', 'entityLabels': []},\n",
       " {'text': 'I want to find a vacation between September 12th and 18th to San Diego from Calgary for under 1800.',\n",
       "  'intentName': 'inform',\n",
       "  'entityLabels': [{'entityName': 'budget',\n",
       "    'startCharIndex': 94,\n",
       "    'endCharIndex': 98},\n",
       "   {'entityName': 'or_city', 'startCharIndex': 76, 'endCharIndex': 83},\n",
       "   {'entityName': 'dst_city', 'startCharIndex': 61, 'endCharIndex': 70},\n",
       "   {'entityName': 'str_date', 'startCharIndex': 34, 'endCharIndex': 48},\n",
       "   {'entityName': 'end_date', 'startCharIndex': 53, 'endCharIndex': 57}]},\n",
       " {'text': 'Heyyyy there', 'intentName': 'greeting', 'entityLabels': []},\n",
       " {'text': \"Hi My cousin is getting married so I'm looking for a place to stay in Milan from August 27th to September 1st :slightly_smiling_face: I'd be leaving from Punta Cana\",\n",
       "  'intentName': 'inform',\n",
       "  'entityLabels': [{'entityName': 'or_city',\n",
       "    'startCharIndex': 154,\n",
       "    'endCharIndex': 164},\n",
       "   {'entityName': 'dst_city', 'startCharIndex': 70, 'endCharIndex': 75},\n",
       "   {'entityName': 'str_date', 'startCharIndex': 81, 'endCharIndex': 92},\n",
       "   {'entityName': 'end_date', 'startCharIndex': 96, 'endCharIndex': 109}]},\n",
       " {'text': 'Hi, this is quite urgent, my sister needs me to book a trip for her. She needs to go to Queenstown between september 9-24 leaving from Queenstown. What do you have?',\n",
       "  'intentName': 'inform',\n",
       "  'entityLabels': [{'entityName': 'or_city',\n",
       "    'startCharIndex': 88,\n",
       "    'endCharIndex': 98},\n",
       "   {'entityName': 'dst_city', 'startCharIndex': 88, 'endCharIndex': 98},\n",
       "   {'entityName': 'str_date', 'startCharIndex': 107, 'endCharIndex': 118},\n",
       "   {'entityName': 'end_date', 'startCharIndex': 119, 'endCharIndex': 121}]},\n",
       " {'text': 'Heyo!', 'intentName': 'greeting', 'entityLabels': []},\n",
       " {'text': 'Any week long trips to Brasilia from Mannheim between august 30 and september 15?',\n",
       "  'intentName': 'inform',\n",
       "  'entityLabels': [{'entityName': 'or_city',\n",
       "    'startCharIndex': 37,\n",
       "    'endCharIndex': 45},\n",
       "   {'entityName': 'dst_city', 'startCharIndex': 23, 'endCharIndex': 31},\n",
       "   {'entityName': 'str_date', 'startCharIndex': 54, 'endCharIndex': 63},\n",
       "   {'entityName': 'end_date', 'startCharIndex': 68, 'endCharIndex': 80}]},\n",
       " {'text': 'ay i need to get my parents out of SL this month ok??? can u book them somewhere from St. Louis til the 28th for 4300 bucks and get em out of here today if u can',\n",
       "  'intentName': 'inform',\n",
       "  'entityLabels': [{'entityName': 'budget',\n",
       "    'startCharIndex': 113,\n",
       "    'endCharIndex': 117},\n",
       "   {'entityName': 'or_city', 'startCharIndex': 86, 'endCharIndex': 95},\n",
       "   {'entityName': 'str_date', 'startCharIndex': 147, 'endCharIndex': 152},\n",
       "   {'entityName': 'end_date', 'startCharIndex': 104, 'endCharIndex': 108},\n",
       "   {'entityName': 'or_city', 'startCharIndex': 35, 'endCharIndex': 37}]},\n",
       " {'text': 'I need to find a vacation between the 12 of september and 2nd of October for under 6500, leaving from Sydney.',\n",
       "  'intentName': 'inform',\n",
       "  'entityLabels': [{'entityName': 'budget',\n",
       "    'startCharIndex': 83,\n",
       "    'endCharIndex': 87},\n",
       "   {'entityName': 'or_city', 'startCharIndex': 102, 'endCharIndex': 108},\n",
       "   {'entityName': 'str_date', 'startCharIndex': 38, 'endCharIndex': 53},\n",
       "   {'entityName': 'end_date', 'startCharIndex': 58, 'endCharIndex': 72}]},\n",
       " {'text': 'hello.', 'intentName': 'greeting', 'entityLabels': []},\n",
       " {'text': 'I would like to find a vacation between september 20th and October 4th from Sao Paulo to Leon',\n",
       "  'intentName': 'inform',\n",
       "  'entityLabels': [{'entityName': 'or_city',\n",
       "    'startCharIndex': 76,\n",
       "    'endCharIndex': 85},\n",
       "   {'entityName': 'dst_city', 'startCharIndex': 89, 'endCharIndex': 93},\n",
       "   {'entityName': 'str_date', 'startCharIndex': 40, 'endCharIndex': 54},\n",
       "   {'entityName': 'end_date', 'startCharIndex': 59, 'endCharIndex': 70}]},\n",
       " {'text': 'I want to find a vacay between sept.12 and 19 for under 5500, leaving from Mannheim',\n",
       "  'intentName': 'inform',\n",
       "  'entityLabels': [{'entityName': 'budget',\n",
       "    'startCharIndex': 56,\n",
       "    'endCharIndex': 60},\n",
       "   {'entityName': 'or_city', 'startCharIndex': 75, 'endCharIndex': 83},\n",
       "   {'entityName': 'str_date', 'startCharIndex': 31, 'endCharIndex': 38},\n",
       "   {'entityName': 'end_date', 'startCharIndex': 43, 'endCharIndex': 45}]},\n",
       " {'text': 'helllo', 'intentName': 'greeting', 'entityLabels': []},\n",
       " {'text': 'spring break gurl whats up yaassss',\n",
       "  'intentName': 'greeting',\n",
       "  'entityLabels': []},\n",
       " {'text': 'Belem to Busan. Aug 28 or later. $6200 budget. Nicest hotel you got capisci?',\n",
       "  'intentName': 'inform',\n",
       "  'entityLabels': [{'entityName': 'budget',\n",
       "    'startCharIndex': 33,\n",
       "    'endCharIndex': 38},\n",
       "   {'entityName': 'or_city', 'startCharIndex': 0, 'endCharIndex': 5},\n",
       "   {'entityName': 'dst_city', 'startCharIndex': 9, 'endCharIndex': 14},\n",
       "   {'entityName': 'str_date', 'startCharIndex': 16, 'endCharIndex': 22}]},\n",
       " {'text': \"So Hey, I'm an intern- it's pretty fantastic/exciting. So anyways I need to go to Monterrey between August 27 and September 15. What do you have leaving from Stuttgart?\",\n",
       "  'intentName': 'inform',\n",
       "  'entityLabels': [{'entityName': 'or_city',\n",
       "    'startCharIndex': 158,\n",
       "    'endCharIndex': 167},\n",
       "   {'entityName': 'dst_city', 'startCharIndex': 82, 'endCharIndex': 91},\n",
       "   {'entityName': 'str_date', 'startCharIndex': 100, 'endCharIndex': 109},\n",
       "   {'entityName': 'end_date', 'startCharIndex': 114, 'endCharIndex': 126}]},\n",
       " {'text': 'I’m looking to book a vacation between september 18th and 22nd to Vitoria from North Vancouver for under 2700',\n",
       "  'intentName': 'inform',\n",
       "  'entityLabels': [{'entityName': 'budget',\n",
       "    'startCharIndex': 105,\n",
       "    'endCharIndex': 109},\n",
       "   {'entityName': 'or_city', 'startCharIndex': 79, 'endCharIndex': 94},\n",
       "   {'entityName': 'dst_city', 'startCharIndex': 66, 'endCharIndex': 73},\n",
       "   {'entityName': 'str_date', 'startCharIndex': 39, 'endCharIndex': 53},\n",
       "   {'entityName': 'end_date', 'startCharIndex': 58, 'endCharIndex': 62}]},\n",
       " {'text': \"Let's go!\", 'intentName': 'confirm', 'entityLabels': []},\n",
       " {'text': 'IM IN TIJUANA FIND ME A FLIGHT TO CURITIBA AUG 27 TO SEPT 4',\n",
       "  'intentName': 'inform',\n",
       "  'entityLabels': [{'entityName': 'or_city',\n",
       "    'startCharIndex': 6,\n",
       "    'endCharIndex': 13},\n",
       "   {'entityName': 'dst_city', 'startCharIndex': 34, 'endCharIndex': 42},\n",
       "   {'entityName': 'str_date', 'startCharIndex': 43, 'endCharIndex': 49},\n",
       "   {'entityName': 'end_date', 'startCharIndex': 53, 'endCharIndex': 59}]},\n",
       " {'text': 'melbourne to fukuoka august 24 to august 27',\n",
       "  'intentName': 'inform',\n",
       "  'entityLabels': [{'entityName': 'or_city',\n",
       "    'startCharIndex': 0,\n",
       "    'endCharIndex': 9},\n",
       "   {'entityName': 'dst_city', 'startCharIndex': 13, 'endCharIndex': 20},\n",
       "   {'entityName': 'str_date', 'startCharIndex': 21, 'endCharIndex': 30},\n",
       "   {'entityName': 'end_date', 'startCharIndex': 34, 'endCharIndex': 43}]},\n",
       " {'text': \"I'd like to go to Manaus from Miami between August 19th and September 2nd.\",\n",
       "  'intentName': 'inform',\n",
       "  'entityLabels': [{'entityName': 'or_city',\n",
       "    'startCharIndex': 30,\n",
       "    'endCharIndex': 35},\n",
       "   {'entityName': 'dst_city', 'startCharIndex': 18, 'endCharIndex': 24},\n",
       "   {'entityName': 'str_date', 'startCharIndex': 44, 'endCharIndex': 55},\n",
       "   {'entityName': 'end_date', 'startCharIndex': 60, 'endCharIndex': 73}]},\n",
       " {'text': 'can you get me a trip to pittsburgh, from barcelona? between sep 3 and 18',\n",
       "  'intentName': 'inform',\n",
       "  'entityLabels': [{'entityName': 'or_city',\n",
       "    'startCharIndex': 42,\n",
       "    'endCharIndex': 51},\n",
       "   {'entityName': 'dst_city', 'startCharIndex': 25, 'endCharIndex': 35},\n",
       "   {'entityName': 'str_date', 'startCharIndex': 61, 'endCharIndex': 66},\n",
       "   {'entityName': 'end_date', 'startCharIndex': 71, 'endCharIndex': 73}]},\n",
       " {'text': 'Oh yeah, bring it on!',\n",
       "  'intentName': 'confirm',\n",
       "  'entityLabels': []},\n",
       " {'text': 'Take me from Beijing to Salvador from the 24th to 27th for 2500 or under',\n",
       "  'intentName': 'inform',\n",
       "  'entityLabels': [{'entityName': 'budget',\n",
       "    'startCharIndex': 59,\n",
       "    'endCharIndex': 63},\n",
       "   {'entityName': 'or_city', 'startCharIndex': 13, 'endCharIndex': 20},\n",
       "   {'entityName': 'dst_city', 'startCharIndex': 24, 'endCharIndex': 32},\n",
       "   {'entityName': 'str_date', 'startCharIndex': 42, 'endCharIndex': 46},\n",
       "   {'entityName': 'end_date', 'startCharIndex': 50, 'endCharIndex': 54}]},\n",
       " {'text': 'i want you to recommend me a package in rome that leaves from las vegas. i have a travel window between 20 and 26 september',\n",
       "  'intentName': 'inform',\n",
       "  'entityLabels': [{'entityName': 'or_city',\n",
       "    'startCharIndex': 62,\n",
       "    'endCharIndex': 71},\n",
       "   {'entityName': 'dst_city', 'startCharIndex': 40, 'endCharIndex': 44},\n",
       "   {'entityName': 'str_date', 'startCharIndex': 104, 'endCharIndex': 106},\n",
       "   {'entityName': 'end_date', 'startCharIndex': 111, 'endCharIndex': 123}]},\n",
       " {'text': 'Beijing to Tijuana Sept 6-Sept 9',\n",
       "  'intentName': 'inform',\n",
       "  'entityLabels': [{'entityName': 'or_city',\n",
       "    'startCharIndex': 0,\n",
       "    'endCharIndex': 7},\n",
       "   {'entityName': 'dst_city', 'startCharIndex': 11, 'endCharIndex': 18},\n",
       "   {'entityName': 'str_date', 'startCharIndex': 19, 'endCharIndex': 25},\n",
       "   {'entityName': 'end_date', 'startCharIndex': 26, 'endCharIndex': 32}]},\n",
       " {'text': \"I'd like to find a vacation between tomorrow and September 14th from Santos to Leon\",\n",
       "  'intentName': 'inform',\n",
       "  'entityLabels': [{'entityName': 'or_city',\n",
       "    'startCharIndex': 69,\n",
       "    'endCharIndex': 75},\n",
       "   {'entityName': 'dst_city', 'startCharIndex': 79, 'endCharIndex': 83},\n",
       "   {'entityName': 'str_date', 'startCharIndex': 36, 'endCharIndex': 44},\n",
       "   {'entityName': 'end_date', 'startCharIndex': 49, 'endCharIndex': 63}]},\n",
       " {'text': 'Hi! I am very excited!!!!',\n",
       "  'intentName': 'greeting',\n",
       "  'entityLabels': []},\n",
       " {'text': 'Hey there!', 'intentName': 'greeting', 'entityLabels': []},\n",
       " {'text': 'Hi ', 'intentName': 'greeting', 'entityLabels': []},\n",
       " {'text': 'Good morning.', 'intentName': 'greeting', 'entityLabels': []},\n",
       " {'text': 'Ok so I need to get from Vitoria to a bunch of possible places between September 2 and 21. budget is strictly 3200. can you first look at paris pls',\n",
       "  'intentName': 'inform',\n",
       "  'entityLabels': [{'entityName': 'budget',\n",
       "    'startCharIndex': 110,\n",
       "    'endCharIndex': 114},\n",
       "   {'entityName': 'or_city', 'startCharIndex': 25, 'endCharIndex': 32},\n",
       "   {'entityName': 'dst_city', 'startCharIndex': 138, 'endCharIndex': 143},\n",
       "   {'entityName': 'str_date', 'startCharIndex': 71, 'endCharIndex': 82},\n",
       "   {'entityName': 'end_date', 'startCharIndex': 87, 'endCharIndex': 89}]},\n",
       " {'text': 'I want to go somewhere from toronto. ideally between spt 9 and spt 24. we will be 1 adult and 4 children. we have 13700.',\n",
       "  'intentName': 'inform',\n",
       "  'entityLabels': [{'entityName': 'budget',\n",
       "    'startCharIndex': 114,\n",
       "    'endCharIndex': 119},\n",
       "   {'entityName': 'or_city', 'startCharIndex': 28, 'endCharIndex': 35},\n",
       "   {'entityName': 'str_date', 'startCharIndex': 53, 'endCharIndex': 58},\n",
       "   {'entityName': 'end_date', 'startCharIndex': 63, 'endCharIndex': 69}]},\n",
       " {'text': 'I need a trip to Marseille on these exact dates: September 9 to September 13\\nFlying from Manaus',\n",
       "  'intentName': 'inform',\n",
       "  'entityLabels': [{'entityName': 'or_city',\n",
       "    'startCharIndex': 89,\n",
       "    'endCharIndex': 95},\n",
       "   {'entityName': 'dst_city', 'startCharIndex': 17, 'endCharIndex': 26},\n",
       "   {'entityName': 'str_date', 'startCharIndex': 49, 'endCharIndex': 60},\n",
       "   {'entityName': 'end_date', 'startCharIndex': 64, 'endCharIndex': 76}]},\n",
       " {'text': 'You can help me by finding me a vacation from Munich to San Juan between August 27 and September 3.',\n",
       "  'intentName': 'inform',\n",
       "  'entityLabels': [{'entityName': 'or_city',\n",
       "    'startCharIndex': 46,\n",
       "    'endCharIndex': 52},\n",
       "   {'entityName': 'dst_city', 'startCharIndex': 56, 'endCharIndex': 64},\n",
       "   {'entityName': 'str_date', 'startCharIndex': 73, 'endCharIndex': 82},\n",
       "   {'entityName': 'end_date', 'startCharIndex': 87, 'endCharIndex': 98}]},\n",
       " {'text': 'Perfect', 'intentName': 'confirm', 'entityLabels': []},\n",
       " {'text': 'Heya', 'intentName': 'greeting', 'entityLabels': []}]"
      ]
     },
     "execution_count": 64,
     "metadata": {},
     "output_type": "execute_result"
    }
   ],
   "source": [
    "test_data"
   ]
  },
  {
   "cell_type": "code",
   "execution_count": 63,
   "metadata": {},
   "outputs": [],
   "source": [
    "luis_sample = [\n",
    "    {\n",
    "        \"text\": \"hey dad, are you hungry?\",\n",
    "        \"intent\": \"None\",\n",
    "        \"entities\": [\n",
    "            {\n",
    "                \"entity\": \"FamilyMember\",\n",
    "                \"startPos\": 4,\n",
    "                \"endPos\": 6\n",
    "            }\n",
    "        ]\n",
    "    },\n",
    "    {\n",
    "        \"text\": \"hey dad, are you hungry?\",\n",
    "        \"intent\": \"None\",\n",
    "        \"entities\": [\n",
    "            {\n",
    "                \"entity\": \"FamilyMember\",\n",
    "                \"startPos\": 4,\n",
    "                \"endPos\": 6\n",
    "            }\n",
    "        ]\n",
    "    }\n",
    "]\n",
    "with open('essai', \"w\") as f:\n",
    "    json.dump(luis_sample, f, indent=4)"
   ]
  },
  {
   "cell_type": "code",
   "execution_count": null,
   "metadata": {},
   "outputs": [],
   "source": []
  }
 ],
 "metadata": {
  "kernelspec": {
   "display_name": "Python 3 (ipykernel)",
   "language": "python",
   "name": "python3"
  },
  "language_info": {
   "codemirror_mode": {
    "name": "ipython",
    "version": 3
   },
   "file_extension": ".py",
   "mimetype": "text/x-python",
   "name": "python",
   "nbconvert_exporter": "python",
   "pygments_lexer": "ipython3",
   "version": "3.8.10"
  },
  "vscode": {
   "interpreter": {
    "hash": "49ca45737546250f42b496f9f3202c989425b870612331f517aa0e5640df5f91"
   }
  },
  "widgets": {
   "application/vnd.jupyter.widget-state+json": {
    "state": {
     "002e7ce1982e43dd89cd1083bdcec0fc": {
      "model_module": "@jupyter-widgets/controls",
      "model_module_version": "1.5.0",
      "model_name": "HTMLModel",
      "state": {
       "layout": "IPY_MODEL_911696d6f17f490fbc3750c30634b687",
       "style": "IPY_MODEL_9dbeee376e6e4300bd93ec6d62edd11f",
       "value": "100%"
      }
     },
     "00399e52794747ceb5b96b601b3d0e0f": {
      "model_module": "@jupyter-widgets/base",
      "model_module_version": "1.2.0",
      "model_name": "LayoutModel",
      "state": {}
     },
     "04b4a0ea228644d4abb5187c7ae0bbdc": {
      "model_module": "@jupyter-widgets/controls",
      "model_module_version": "1.5.0",
      "model_name": "ProgressStyleModel",
      "state": {
       "description_width": ""
      }
     },
     "08d7514506354be98b1fbf1263bd8f31": {
      "model_module": "@jupyter-widgets/base",
      "model_module_version": "1.2.0",
      "model_name": "LayoutModel",
      "state": {}
     },
     "099e2e68347f4071bb2557101986d329": {
      "model_module": "@jupyter-widgets/base",
      "model_module_version": "1.2.0",
      "model_name": "LayoutModel",
      "state": {}
     },
     "1e15caf4f1fb49a7a84901179179b1da": {
      "model_module": "@jupyter-widgets/controls",
      "model_module_version": "1.5.0",
      "model_name": "HTMLModel",
      "state": {
       "layout": "IPY_MODEL_7f7a7b6622ba4c618ac43ce4c51a5ac0",
       "style": "IPY_MODEL_46cc82bd598d444bbf9e72b6c6be5ca9",
       "value": " 1369/1369 [00:09&lt;00:00, 73.80it/s]"
      }
     },
     "1e27f479afa440b6b016417faa915b8f": {
      "model_module": "@jupyter-widgets/controls",
      "model_module_version": "1.5.0",
      "model_name": "FloatProgressModel",
      "state": {
       "bar_style": "success",
       "layout": "IPY_MODEL_f18bfada1cbf4b1fa370c8126e75752a",
       "max": 10407,
       "style": "IPY_MODEL_d4c45308cca540e7982e6f0d33aed950",
       "value": 10407
      }
     },
     "2057058966464fdc80825578ffb1a708": {
      "model_module": "@jupyter-widgets/controls",
      "model_module_version": "1.5.0",
      "model_name": "DescriptionStyleModel",
      "state": {
       "description_width": ""
      }
     },
     "2632fef837ad47dfb9614b9cec44930f": {
      "model_module": "@jupyter-widgets/base",
      "model_module_version": "1.2.0",
      "model_name": "LayoutModel",
      "state": {}
     },
     "2a380e91411740aa894957ef6534eb50": {
      "model_module": "@jupyter-widgets/controls",
      "model_module_version": "1.5.0",
      "model_name": "FloatProgressModel",
      "state": {
       "bar_style": "success",
       "layout": "IPY_MODEL_fb540b483c524065be2d0ae5ee3a2d1c",
       "max": 1369,
       "style": "IPY_MODEL_04b4a0ea228644d4abb5187c7ae0bbdc",
       "value": 1369
      }
     },
     "308e80cd54b7458bb73d741879bf230b": {
      "model_module": "@jupyter-widgets/controls",
      "model_module_version": "1.5.0",
      "model_name": "HBoxModel",
      "state": {
       "children": [
        "IPY_MODEL_f752c81e67b74704ae5dac1e103814e8",
        "IPY_MODEL_c9d15c54bce142bba6a27bf158c53874",
        "IPY_MODEL_1e15caf4f1fb49a7a84901179179b1da"
       ],
       "layout": "IPY_MODEL_2632fef837ad47dfb9614b9cec44930f"
      }
     },
     "402f381a9af4438ba4946e0923a42dd0": {
      "model_module": "@jupyter-widgets/controls",
      "model_module_version": "1.5.0",
      "model_name": "DescriptionStyleModel",
      "state": {
       "description_width": ""
      }
     },
     "4285875bce864c88b241234179278c92": {
      "model_module": "@jupyter-widgets/controls",
      "model_module_version": "1.5.0",
      "model_name": "HTMLModel",
      "state": {
       "layout": "IPY_MODEL_c49f3d6a88694253aba15f5537a4f9c5",
       "style": "IPY_MODEL_2057058966464fdc80825578ffb1a708",
       "value": "100%"
      }
     },
     "46cc82bd598d444bbf9e72b6c6be5ca9": {
      "model_module": "@jupyter-widgets/controls",
      "model_module_version": "1.5.0",
      "model_name": "DescriptionStyleModel",
      "state": {
       "description_width": ""
      }
     },
     "54f2889a44eb453794587b8ddcf27bde": {
      "model_module": "@jupyter-widgets/controls",
      "model_module_version": "1.5.0",
      "model_name": "HTMLModel",
      "state": {
       "layout": "IPY_MODEL_00399e52794747ceb5b96b601b3d0e0f",
       "style": "IPY_MODEL_95abaf5d70e54a1c906933d42d2edca8",
       "value": " 1369/1369 [00:08&lt;00:00, 83.04it/s]"
      }
     },
     "62273309d4eb405eb6de3119541282c1": {
      "model_module": "@jupyter-widgets/controls",
      "model_module_version": "1.5.0",
      "model_name": "HBoxModel",
      "state": {
       "children": [
        "IPY_MODEL_002e7ce1982e43dd89cd1083bdcec0fc",
        "IPY_MODEL_1e27f479afa440b6b016417faa915b8f",
        "IPY_MODEL_ba7a0d2c208243ebb1fd098cf2647600"
       ],
       "layout": "IPY_MODEL_de2e780daa394ac3aee720f21f508142"
      }
     },
     "7f7a7b6622ba4c618ac43ce4c51a5ac0": {
      "model_module": "@jupyter-widgets/base",
      "model_module_version": "1.2.0",
      "model_name": "LayoutModel",
      "state": {}
     },
     "911696d6f17f490fbc3750c30634b687": {
      "model_module": "@jupyter-widgets/base",
      "model_module_version": "1.2.0",
      "model_name": "LayoutModel",
      "state": {}
     },
     "92f3a3867d3044789d98b7c79b3b90da": {
      "model_module": "@jupyter-widgets/controls",
      "model_module_version": "1.5.0",
      "model_name": "DescriptionStyleModel",
      "state": {
       "description_width": ""
      }
     },
     "95abaf5d70e54a1c906933d42d2edca8": {
      "model_module": "@jupyter-widgets/controls",
      "model_module_version": "1.5.0",
      "model_name": "DescriptionStyleModel",
      "state": {
       "description_width": ""
      }
     },
     "9dbeee376e6e4300bd93ec6d62edd11f": {
      "model_module": "@jupyter-widgets/controls",
      "model_module_version": "1.5.0",
      "model_name": "DescriptionStyleModel",
      "state": {
       "description_width": ""
      }
     },
     "a5c935632cdb4dc4a9124c29949d1510": {
      "model_module": "@jupyter-widgets/base",
      "model_module_version": "1.2.0",
      "model_name": "LayoutModel",
      "state": {}
     },
     "b19b42d3d6854488b6dacc0620193cfa": {
      "model_module": "@jupyter-widgets/controls",
      "model_module_version": "1.5.0",
      "model_name": "ProgressStyleModel",
      "state": {
       "description_width": ""
      }
     },
     "ba7a0d2c208243ebb1fd098cf2647600": {
      "model_module": "@jupyter-widgets/controls",
      "model_module_version": "1.5.0",
      "model_name": "HTMLModel",
      "state": {
       "layout": "IPY_MODEL_08d7514506354be98b1fbf1263bd8f31",
       "style": "IPY_MODEL_92f3a3867d3044789d98b7c79b3b90da",
       "value": " 10407/10407 [00:00&lt;00:00, 105943.81it/s]"
      }
     },
     "c49f3d6a88694253aba15f5537a4f9c5": {
      "model_module": "@jupyter-widgets/base",
      "model_module_version": "1.2.0",
      "model_name": "LayoutModel",
      "state": {}
     },
     "c9d15c54bce142bba6a27bf158c53874": {
      "model_module": "@jupyter-widgets/controls",
      "model_module_version": "1.5.0",
      "model_name": "FloatProgressModel",
      "state": {
       "bar_style": "success",
       "layout": "IPY_MODEL_a5c935632cdb4dc4a9124c29949d1510",
       "max": 1369,
       "style": "IPY_MODEL_b19b42d3d6854488b6dacc0620193cfa",
       "value": 1369
      }
     },
     "d4c45308cca540e7982e6f0d33aed950": {
      "model_module": "@jupyter-widgets/controls",
      "model_module_version": "1.5.0",
      "model_name": "ProgressStyleModel",
      "state": {
       "description_width": ""
      }
     },
     "dd161d6f567f46718390cfb6b27de086": {
      "model_module": "@jupyter-widgets/base",
      "model_module_version": "1.2.0",
      "model_name": "LayoutModel",
      "state": {}
     },
     "de2e780daa394ac3aee720f21f508142": {
      "model_module": "@jupyter-widgets/base",
      "model_module_version": "1.2.0",
      "model_name": "LayoutModel",
      "state": {}
     },
     "ed5b94aae9e64d23a20a2bc4961065e2": {
      "model_module": "@jupyter-widgets/controls",
      "model_module_version": "1.5.0",
      "model_name": "HBoxModel",
      "state": {
       "children": [
        "IPY_MODEL_4285875bce864c88b241234179278c92",
        "IPY_MODEL_2a380e91411740aa894957ef6534eb50",
        "IPY_MODEL_54f2889a44eb453794587b8ddcf27bde"
       ],
       "layout": "IPY_MODEL_099e2e68347f4071bb2557101986d329"
      }
     },
     "f18bfada1cbf4b1fa370c8126e75752a": {
      "model_module": "@jupyter-widgets/base",
      "model_module_version": "1.2.0",
      "model_name": "LayoutModel",
      "state": {}
     },
     "f752c81e67b74704ae5dac1e103814e8": {
      "model_module": "@jupyter-widgets/controls",
      "model_module_version": "1.5.0",
      "model_name": "HTMLModel",
      "state": {
       "layout": "IPY_MODEL_dd161d6f567f46718390cfb6b27de086",
       "style": "IPY_MODEL_402f381a9af4438ba4946e0923a42dd0",
       "value": "100%"
      }
     },
     "fb540b483c524065be2d0ae5ee3a2d1c": {
      "model_module": "@jupyter-widgets/base",
      "model_module_version": "1.2.0",
      "model_name": "LayoutModel",
      "state": {}
     }
    },
    "version_major": 2,
    "version_minor": 0
   }
  }
 },
 "nbformat": 4,
 "nbformat_minor": 4
}
