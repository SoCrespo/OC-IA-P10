{
 "cells": [
  {
   "cell_type": "markdown",
   "metadata": {},
   "source": [
    "# OC-IA-P10 - CHATBOT"
   ]
  },
  {
   "cell_type": "markdown",
   "metadata": {},
   "source": [
    "# DATA EXPLORATION"
   ]
  },
  {
   "cell_type": "markdown",
   "metadata": {},
   "source": [
    "We are given an existing dataset, more complete than what we need. Let's explore it and extract only the desired information."
   ]
  },
  {
   "cell_type": "code",
   "execution_count": 1,
   "metadata": {},
   "outputs": [],
   "source": [
    "# import sys\n",
    "# !{sys.executable} -m pip install -r requirements.txt"
   ]
  },
  {
   "cell_type": "code",
   "execution_count": 2,
   "metadata": {},
   "outputs": [],
   "source": [
    "import pandas as pd\n",
    "import numpy as np\n",
    "from tqdm import tqdm\n",
    "tqdm.pandas()\n",
    "import json"
   ]
  },
  {
   "cell_type": "code",
   "execution_count": 3,
   "metadata": {},
   "outputs": [
    {
     "data": {
      "text/plain": [
       "0       [{'text': 'I'd like to book a trip to Atlantis...\n",
       "1       [{'text': 'Hello, I am looking to book a vacat...\n",
       "2       [{'text': 'Hello there i am looking to go on a...\n",
       "3       [{'text': 'Hi I'd like to go to Caprica from B...\n",
       "4       [{'text': 'Hello, I am looking to book a trip ...\n",
       "                              ...                        \n",
       "1364    [{'text': 'Hi I've got 9 days free and I'm loo...\n",
       "1365    [{'text': 'I need to get to Fortaleza on Septe...\n",
       "1366    [{'text': 'We're finally going on vacation isn...\n",
       "1367    [{'text': 'Hi there, I'm looking for a place t...\n",
       "1368    [{'text': 'I need to book a trip for the whole...\n",
       "Name: turns, Length: 1369, dtype: object"
      ]
     },
     "execution_count": 3,
     "metadata": {},
     "output_type": "execute_result"
    }
   ],
   "source": [
    "frames = pd.read_json('frames/frames.json')\n",
    "frames['turns']\n"
   ]
  },
  {
   "cell_type": "markdown",
   "metadata": {},
   "source": [
    "Let's have a look at a conversation. For ease of reading the values are sent to a json file."
   ]
  },
  {
   "cell_type": "code",
   "execution_count": 4,
   "metadata": {},
   "outputs": [],
   "source": [
    "with open('sample.json', \"w\") as f:\n",
    "    json.dump(frames.loc[0]['turns'], f, indent=4)"
   ]
  },
  {
   "cell_type": "markdown",
   "metadata": {},
   "source": [
    "We'll use only user data (not wizard's answers), and among them we'll use the `text` and the `acts_without_refs` values. Let's have a look at the values we can find inside:"
   ]
  },
  {
   "cell_type": "code",
   "execution_count": 5,
   "metadata": {},
   "outputs": [
    {
     "name": "stderr",
     "output_type": "stream",
     "text": [
      "100%|██████████| 1/1 [00:00<00:00, 11554.56it/s]\n"
     ]
    },
    {
     "data": {
      "text/plain": [
       "{'budget',\n",
       " 'dst_city',\n",
       " 'end_date',\n",
       " 'flex',\n",
       " 'intent',\n",
       " 'n_adults',\n",
       " 'or_city',\n",
       " 'ref',\n",
       " 'str_date'}"
      ]
     },
     "execution_count": 5,
     "metadata": {},
     "output_type": "execute_result"
    }
   ],
   "source": [
    "all_entities = set()\n",
    "for conversation in tqdm(frames['turns'][:1]):\n",
    "    for turn in conversation:\n",
    "        for act in turn['labels']['acts']:\n",
    "            for arg in act['args']:\n",
    "                all_entities.add(arg['key'])\n",
    "       \n",
    "all_entities"
   ]
  },
  {
   "cell_type": "markdown",
   "metadata": {},
   "source": [
    "\n",
    "We'll specifically stick to the values we want to process in this MVP:\n",
    "- departure city ('or_city')\n",
    "- arrival city ('dest_city')\n",
    "- departure date ('str_date')\n",
    "- end date ('end_date')\n",
    "- budget ('budget')"
   ]
  },
  {
   "cell_type": "markdown",
   "metadata": {},
   "source": [
    "Note : a first pass on this part showed that extracting the \"intent\" entity is not interesting at this stage of our work : this intent can be \"book\" or \"None\", which is not useful for us."
   ]
  },
  {
   "cell_type": "markdown",
   "metadata": {},
   "source": [
    "\n",
    "Moreover, since in this MVP we do not want to manage any historical aspect, we'll only keep the first utterance of each conversation."
   ]
  },
  {
   "cell_type": "markdown",
   "metadata": {},
   "source": [
    "Example of json file format for training LUIS:"
   ]
  },
  {
   "cell_type": "markdown",
   "metadata": {},
   "source": [
    "```Python\n",
    "[\n",
    "  {\n",
    "    \"text\": \"order a pizza\",\n",
    "    \"intentName\": \"ModifyOrder\",\n",
    "    \"entityLabels\": [\n",
    "      {\n",
    "        \"entityName\": \"Order\",\n",
    "        \"startCharIndex\": 6,\n",
    "        \"endCharIndex\": 12\n",
    "      }\n",
    "    ]\n",
    "  },\n",
    "  {\n",
    "    \"text\": \"order a large pepperoni pizza\",\n",
    "    \"intentName\": \"ModifyOrder\",\n",
    "    \"entityLabels\": [\n",
    "      {\n",
    "        \"entityName\": \"Order\",\n",
    "        \"startCharIndex\": 6,\n",
    "        \"endCharIndex\": 28\n",
    "      },\n",
    "      {\n",
    "        \"entityName\": \"FullPizzaWithModifiers\",\n",
    "        \"startCharIndex\": 6,\n",
    "        \"endCharIndex\": 28\n",
    "      },\n",
    "      {\n",
    "        \"entityName\": \"PizzaType\",\n",
    "        \"startCharIndex\": 14,\n",
    "        \"endCharIndex\": 28\n",
    "      },\n",
    "      {\n",
    "        \"entityName\": \"Size\",\n",
    "        \"startCharIndex\": 8,\n",
    "        \"endCharIndex\": 12\n",
    "      }\n",
    "    ]\n",
    "  },\n",
    "  {\n",
    "    \"text\": \"I want two large pepperoni pizzas on thin crust\",\n",
    "    \"intentName\": \"ModifyOrder\",\n",
    "    \"entityLabels\": [\n",
    "      {\n",
    "        \"entityName\": \"Order\",\n",
    "        \"startCharIndex\": 7,\n",
    "        \"endCharIndex\": 46\n",
    "      },\n",
    "      {\n",
    "        \"entityName\": \"FullPizzaWithModifiers\",\n",
    "        \"startCharIndex\": 7,\n",
    "        \"endCharIndex\": 46\n",
    "      },\n",
    "      {\n",
    "        \"entityName\": \"PizzaType\",\n",
    "        \"startCharIndex\": 17,\n",
    "        \"endCharIndex\": 32\n",
    "      },\n",
    "      {\n",
    "        \"entityName\": \"Size\",\n",
    "        \"startCharIndex\": 11,\n",
    "        \"endCharIndex\": 15\n",
    "      },\n",
    "      {\n",
    "        \"entityName\": \"Quantity\",\n",
    "        \"startCharIndex\": 7,\n",
    "        \"endCharIndex\": 9\n",
    "      },\n",
    "      {\n",
    "        \"entityName\": \"Crust\",\n",
    "        \"startCharIndex\": 37,\n",
    "        \"endCharIndex\": 46\n",
    "      }\n",
    "    ]\n",
    "  }\n",
    "]\n",
    "```"
   ]
  },
  {
   "cell_type": "code",
   "execution_count": 6,
   "metadata": {},
   "outputs": [],
   "source": [
    "entities = [\n",
    "    'budget',\n",
    "    'or_city',\n",
    "    'dst_city',\n",
    "    'str_date',\n",
    "    'end_date',\n",
    " ]\n",
    "\n",
    "def merge_elements(list_of_same_entities):\n",
    "    \"\"\"\n",
    "    Merge entities of same category into one. E.g. (for the sentence\n",
    "    'I want to go to Paris on the 5th of May'):\n",
    "\n",
    "    list_of_same_entities = [\n",
    "        {\n",
    "            'entityName': 'str_date',\n",
    "            'startCharIndex': 29,  # index of '5'\n",
    "            'endCharIndex': 31,\n",
    "        },\n",
    "        {\n",
    "            'entityName': 'str_date',\n",
    "            'startCharIndex': 36,  # index of 'May'\n",
    "            'endCharIndex': 38,\n",
    "        },  \n",
    "    ]\n",
    "    output = [\n",
    "        {\n",
    "            'entityName': 'str_date',\n",
    "            'startCharIndex': 29,  # index of '5'\n",
    "            'endCharIndex': 38, # end index of 'May'\n",
    "        },  \n",
    "    ]   \n",
    "        \n",
    "    \"\"\"\n",
    "    list_of_same_entities = sorted(list_of_same_entities, key=lambda x: x['startCharIndex'])\n",
    "    entity_name = list_of_same_entities[0]['entityName']\n",
    "    start_index = list_of_same_entities[0]['startCharIndex']\n",
    "    end_index = list_of_same_entities[-1]['endCharIndex']\n",
    "    result = [{    \n",
    "        'entityName': entity_name,\n",
    "        'startCharIndex': start_index,\n",
    "        'endCharIndex': end_index,\n",
    "    }]\n",
    "    return result \n",
    "    \n",
    "\n",
    "def extract_args(text, arg, entities=entities):\n",
    "    \"\"\"\n",
    "    Formats args of arg into a list of dicts as follows:\n",
    "    [\n",
    "        {\n",
    "            'entityName': '...',\n",
    "            'startCharIndex': ...,\n",
    "            'endCharIndex': ...,\n",
    "        },  \n",
    "    ]\n",
    "    If entities is provided (default behaviour), only those entities are returned.\n",
    "    Otherwise, all entities are returned.\n",
    "    \"\"\"\n",
    "    results = []\n",
    "    for item in arg['args']:\n",
    "        key = item['key']\n",
    "        val = item['val']\n",
    "        if key not in entities:\n",
    "            continue\n",
    "        if not (val and isinstance(val, str) and val in text):\n",
    "            continue\n",
    "        start_index = text.index(val)\n",
    "        end_index = start_index + len(val)\n",
    "        results.append({\n",
    "            'entityName': key,\n",
    "            'startCharIndex': start_index,\n",
    "            'endCharIndex': end_index,  \n",
    "        })\n",
    "    \n",
    "    # Some data, such as dates, may be split into multiple entities,\n",
    "    # we need to merge them\n",
    "    merged_results = []\n",
    "    for entity in entities:\n",
    "        elements_for_entity = [item for item in results \n",
    "                                if item['entityName'] == entity]\n",
    "        if len(elements_for_entity) > 1:\n",
    "            merged_results.extend(merge_elements(elements_for_entity))\n",
    "        elif len(elements_for_entity) == 1:\n",
    "            merged_results.extend(elements_for_entity)\n",
    "    return merged_results   \n",
    "\n",
    "    \n",
    "def extract_intent_name(arg):\n",
    "    return arg['name'] \n",
    "\n",
    "\n",
    "def extract_data(sentence):\n",
    "    \"\"\"\n",
    "    Return selected data from sentence\n",
    "    (a round of a counversation) in following format:\n",
    "    {\n",
    "        'intent': ['...'],\n",
    "        'entities': [\n",
    "            {\n",
    "                'entityName': '...',\n",
    "                'startCharIndex': ...,\n",
    "                'endCharIndex': ...,\n",
    "            },\n",
    "        ],\n",
    "    }\n",
    "    \"\"\"\n",
    "    data = dict()\n",
    "    text = sentence['text']\n",
    "    args = sentence['labels']['acts_without_refs']\n",
    "    entities = []\n",
    "    data['text'] = text\n",
    "    data['intentName'] = tuple(sorted(list(set([extract_intent_name(arg) for arg in args]))))\n",
    "    for arg in args:\n",
    "        entities.extend(extract_args(text, arg))\n",
    "    data['entityLabels'] = entities\n",
    "    return data\n",
    "\n",
    "    "
   ]
  },
  {
   "cell_type": "code",
   "execution_count": 7,
   "metadata": {},
   "outputs": [
    {
     "name": "stdout",
     "output_type": "stream",
     "text": [
      "All tests passed!\n"
     ]
    }
   ],
   "source": [
    "###############################################################################\n",
    "#  DATA FOR TESTS\n",
    "###############################################################################\n",
    "\n",
    "text = \"I'd like to book a trip to Atlantis from Caprica on Saturday, August 13, 2016 for 8 adults. I have a tight budget of 1700.\"\n",
    "\n",
    "arg_1 = {'args': [\n",
    "                {'val': 'book', 'key': 'intent'}\n",
    "                ], \n",
    "        'name': 'inform'}\n",
    "\n",
    "arg_2 = {'args': [\n",
    "                {'val': 'Caprica', 'key': 'or_city'}, \n",
    "                {'val': 'Saturday', 'key': 'str_date'}, \n",
    "                {'val': 'August', 'key': 'str_date'}, \n",
    "                {'val': '2016', 'key': 'str_date'}, \n",
    "                {'val': '8', 'key': 'adults'}, \n",
    "                {'val': '1700', 'key': 'budget'}\n",
    "                ], \n",
    "        'name': 'request'}\n",
    "\n",
    "excerpt_1 = {'text': \"I'd like to book a trip to Atlantis from Caprica on Saturday, August 13, 2016 for 8 adults. I have a tight budget of 1700.\",\n",
    " 'labels': {'acts': [{'args': [{'val': 'book', 'key': 'intent'}],\n",
    "    'name': 'inform'},\n",
    "   {'args': [{'val': 'Atlantis', 'key': 'dst_city'},\n",
    "     {'val': 'Caprica', 'key': 'or_city'},\n",
    "     {'val': 'Saturday, August 13, 2016', 'key': 'str_date'},\n",
    "     {'val': '8', 'key': 'n_adults'},\n",
    "     {'val': '1700', 'key': 'budget'}],\n",
    "    'name': 'inform'}],\n",
    "  'acts_without_refs': [{'args': [{'val': 'book', 'key': 'intent'}],\n",
    "    'name': 'inform'},\n",
    "   {'args': [{'val': 'Atlantis', 'key': 'dst_city'},\n",
    "     {'val': 'Caprica', 'key': 'or_city'},\n",
    "     {'val': 'Saturday, August 13, 2016', 'key': 'str_date'},\n",
    "     {'val': '8', 'key': 'n_adults'},\n",
    "     {'val': '1700', 'key': 'budget'}],\n",
    "    'name': 'inform'}],\n",
    "  'active_frame': 1,\n",
    "  'frames': [{'info': {'intent': [{'val': 'book', 'negated': False}],\n",
    "     'budget': [{'val': '1700.0', 'negated': False}],\n",
    "     'dst_city': [{'val': 'Atlantis', 'negated': False}],\n",
    "     'or_city': [{'val': 'Caprica', 'negated': False}],\n",
    "     'str_date': [{'val': 'august 13', 'negated': False}],\n",
    "     'n_adults': [{'val': '8', 'negated': False}]},\n",
    "    'frame_id': 1,\n",
    "    'requests': [],\n",
    "    'frame_parent_id': None,\n",
    "    'binary_questions': [],\n",
    "    'compare_requests': []}]},\n",
    " 'author': 'user',\n",
    " 'timestamp': 1471272019730.0}\n",
    "\n",
    "excerpt_2 = {'text': 'Hello there i am looking to go on a vacation with my family to Gotham City, can you help me?',\n",
    " 'labels': {'acts': [{'args': [{'val': 'book', 'key': 'intent'}],\n",
    "    'name': 'inform'},\n",
    "   {'args': [{'val': 'Gotham City', 'key': 'dst_city'}], 'name': 'inform'},\n",
    "   {'args': [], 'name': 'greeting'}],\n",
    "  'acts_without_refs': [{'args': [{'val': 'book', 'key': 'intent'}],\n",
    "    'name': 'inform'},\n",
    "   {'args': [{'val': 'Gotham City', 'key': 'dst_city'}], 'name': 'inform'},\n",
    "   {'args': [], 'name': 'greeting'}],\n",
    "  'active_frame': 1,\n",
    "  'frames': [{'info': {'intent': [{'val': 'book', 'negated': False}],\n",
    "     'dst_city': [{'val': 'Gotham City', 'negated': False}]},\n",
    "    'frame_id': 1,\n",
    "    'requests': [],\n",
    "    'frame_parent_id': None,\n",
    "    'binary_questions': [],\n",
    "    'compare_requests': []}]},\n",
    " 'author': 'user',\n",
    " 'timestamp': 1471273579715.0}\n",
    "\n",
    "###############################################################################\n",
    "# TEST FUNCTIONS\n",
    "###############################################################################\n",
    "\n",
    "def test_merge_elements():\n",
    "    assert merge_elements([\n",
    "            {\n",
    "                'entityName': 'str_date',\n",
    "                'startCharIndex': 29,  # index of '5'\n",
    "                'endCharIndex': 31,\n",
    "            },\n",
    "            {\n",
    "                'entityName': 'str_date',\n",
    "                'startCharIndex': 36,  # index of 'May'\n",
    "                'endCharIndex': 38,\n",
    "            },  \n",
    "                        ]) == [\n",
    "            {\n",
    "                'entityName': 'str_date',\n",
    "                'startCharIndex': 29,  # index of '5'\n",
    "                'endCharIndex': 38, # end index of 'May'\n",
    "            }   \n",
    "                            ]\n",
    "\n",
    "def test_extract_args_unique_args():\n",
    "    assert extract_args(text, arg_1) == [] # the only entity is the intent, that we don't want to extract\n",
    "\n",
    "def test_extract_args_multiple_args():\n",
    "    assert extract_args(text, arg_2) == [\n",
    "                {'entityName': 'budget', 'startCharIndex': 117, 'endCharIndex': 121},\n",
    "                {'entityName': 'or_city', 'startCharIndex': 41, 'endCharIndex': 48},\n",
    "                {'entityName': 'str_date', 'startCharIndex': 52, 'endCharIndex': 77}]\n",
    "\n",
    "\n",
    "def test_extract_intent_name():\n",
    "  assert extract_intent_name(excerpt_1['labels']['acts'][0]) == 'inform'\n",
    "  assert extract_intent_name(excerpt_2['labels']['acts'][0]) == 'inform'\n",
    "\n",
    "def test_extract_data():\n",
    "  assert extract_data(excerpt_1) == {\n",
    "\n",
    "    'text': \"I'd like to book a trip to Atlantis from Caprica on Saturday, August 13, 2016 for 8 adults. I have a tight budget of 1700.\",\n",
    "    'intentName': ('inform',),\n",
    "    'entityLabels': [\n",
    "\n",
    "        {'entityName': 'budget', 'startCharIndex': 117, 'endCharIndex': 121},\n",
    "        {'entityName': 'or_city', 'startCharIndex': 41, 'endCharIndex': 48},\n",
    "        {'entityName': 'dst_city', 'startCharIndex': 27, 'endCharIndex': 35},\n",
    "        {'entityName': 'str_date', 'startCharIndex': 52, 'endCharIndex': 77}\n",
    "                    ],         \n",
    "                                }\n",
    "  assert extract_data(excerpt_2) == {\n",
    "      'text': 'Hello there i am looking to go on a vacation with my family to Gotham City, can you help me?',\n",
    "      'intentName': ('greeting', 'inform'),\n",
    "      'entityLabels': [\n",
    "          {\n",
    "            'entityName': 'dst_city',\n",
    "            'startCharIndex': 63,\n",
    "            'endCharIndex': 74\n",
    "            }]}\n",
    "            \n",
    "###############################################################################\n",
    "# RUN TESTS\n",
    "###############################################################################\n",
    "\n",
    "err_counter = 0\n",
    "for test_func in [\n",
    "test_merge_elements,\n",
    "test_extract_args_multiple_args,\n",
    "test_extract_args_unique_args,\n",
    "test_extract_intent_name,\n",
    "test_extract_data,\n",
    "]:\n",
    "    try:\n",
    "        test_func()\n",
    "    except AssertionError:\n",
    "        print('Test failed: {}'.format(test_func.__name__))\n",
    "        err_counter += 1\n",
    "if err_counter == 0:\n",
    "    print('All tests passed!')        \n"
   ]
  },
  {
   "cell_type": "markdown",
   "metadata": {},
   "source": [
    "Let's extract data into the required json format:"
   ]
  },
  {
   "cell_type": "code",
   "execution_count": 8,
   "metadata": {},
   "outputs": [
    {
     "name": "stderr",
     "output_type": "stream",
     "text": [
      "100%|██████████| 1369/1369 [00:00<00:00, 144126.56it/s]\n"
     ]
    }
   ],
   "source": [
    "all_data = [extract_data(conversation[0]) for conversation in tqdm(frames['turns'].values)]"
   ]
  },
  {
   "cell_type": "markdown",
   "metadata": {},
   "source": [
    "What are the different intentName values?"
   ]
  },
  {
   "cell_type": "code",
   "execution_count": 9,
   "metadata": {},
   "outputs": [
    {
     "data": {
      "text/plain": [
       "{'greeting', 'inform', 'request', 'thankyou'}"
      ]
     },
     "execution_count": 9,
     "metadata": {},
     "output_type": "execute_result"
    }
   ],
   "source": [
    "intents = set()\n",
    "for data in all_data:\n",
    "    intents.update(data['intentName'])\n",
    "intents    "
   ]
  },
  {
   "cell_type": "markdown",
   "metadata": {},
   "source": [
    "Let's have a look at examples:"
   ]
  },
  {
   "cell_type": "code",
   "execution_count": 10,
   "metadata": {},
   "outputs": [
    {
     "data": {
      "text/html": [
       "<div>\n",
       "<style scoped>\n",
       "    .dataframe tbody tr th:only-of-type {\n",
       "        vertical-align: middle;\n",
       "    }\n",
       "\n",
       "    .dataframe tbody tr th {\n",
       "        vertical-align: top;\n",
       "    }\n",
       "\n",
       "    .dataframe thead th {\n",
       "        text-align: right;\n",
       "    }\n",
       "</style>\n",
       "<table border=\"1\" class=\"dataframe\">\n",
       "  <thead>\n",
       "    <tr style=\"text-align: right;\">\n",
       "      <th></th>\n",
       "      <th>text</th>\n",
       "      <th>intentName</th>\n",
       "      <th>entityLabels</th>\n",
       "    </tr>\n",
       "  </thead>\n",
       "  <tbody>\n",
       "    <tr>\n",
       "      <th>0</th>\n",
       "      <td>I'd like to book a trip to Atlantis from Capri...</td>\n",
       "      <td>(inform,)</td>\n",
       "      <td>[{'entityName': 'budget', 'startCharIndex': 11...</td>\n",
       "    </tr>\n",
       "    <tr>\n",
       "      <th>1</th>\n",
       "      <td>Hello, I am looking to book a vacation from Go...</td>\n",
       "      <td>(greeting, inform)</td>\n",
       "      <td>[{'entityName': 'budget', 'startCharIndex': 75...</td>\n",
       "    </tr>\n",
       "    <tr>\n",
       "      <th>2</th>\n",
       "      <td>Hello there i am looking to go on a vacation w...</td>\n",
       "      <td>(greeting, inform)</td>\n",
       "      <td>[{'entityName': 'dst_city', 'startCharIndex': ...</td>\n",
       "    </tr>\n",
       "    <tr>\n",
       "      <th>3</th>\n",
       "      <td>Hi I'd like to go to Caprica from Busan, betwe...</td>\n",
       "      <td>(greeting, inform)</td>\n",
       "      <td>[{'entityName': 'or_city', 'startCharIndex': 3...</td>\n",
       "    </tr>\n",
       "    <tr>\n",
       "      <th>4</th>\n",
       "      <td>Hello, I am looking to book a trip for 2 adult...</td>\n",
       "      <td>(greeting, inform)</td>\n",
       "      <td>[{'entityName': 'budget', 'startCharIndex': 67...</td>\n",
       "    </tr>\n",
       "    <tr>\n",
       "      <th>...</th>\n",
       "      <td>...</td>\n",
       "      <td>...</td>\n",
       "      <td>...</td>\n",
       "    </tr>\n",
       "    <tr>\n",
       "      <th>1364</th>\n",
       "      <td>Hi I've got 9 days free and I'm looking for a ...</td>\n",
       "      <td>(inform,)</td>\n",
       "      <td>[{'entityName': 'or_city', 'startCharIndex': 6...</td>\n",
       "    </tr>\n",
       "    <tr>\n",
       "      <th>1365</th>\n",
       "      <td>I need to get to Fortaleza on September 8th or...</td>\n",
       "      <td>(inform,)</td>\n",
       "      <td>[{'entityName': 'dst_city', 'startCharIndex': ...</td>\n",
       "    </tr>\n",
       "    <tr>\n",
       "      <th>1366</th>\n",
       "      <td>We're finally going on vacation isn't that ama...</td>\n",
       "      <td>(inform,)</td>\n",
       "      <td>[{'entityName': 'budget', 'startCharIndex': 75...</td>\n",
       "    </tr>\n",
       "    <tr>\n",
       "      <th>1367</th>\n",
       "      <td>Hi there, I'm looking for a place to get away ...</td>\n",
       "      <td>(inform,)</td>\n",
       "      <td>[]</td>\n",
       "    </tr>\n",
       "    <tr>\n",
       "      <th>1368</th>\n",
       "      <td>I need to book a trip for the whole family fro...</td>\n",
       "      <td>(inform,)</td>\n",
       "      <td>[{'entityName': 'or_city', 'startCharIndex': 4...</td>\n",
       "    </tr>\n",
       "  </tbody>\n",
       "</table>\n",
       "<p>1369 rows × 3 columns</p>\n",
       "</div>"
      ],
      "text/plain": [
       "                                                   text          intentName  \\\n",
       "0     I'd like to book a trip to Atlantis from Capri...           (inform,)   \n",
       "1     Hello, I am looking to book a vacation from Go...  (greeting, inform)   \n",
       "2     Hello there i am looking to go on a vacation w...  (greeting, inform)   \n",
       "3     Hi I'd like to go to Caprica from Busan, betwe...  (greeting, inform)   \n",
       "4     Hello, I am looking to book a trip for 2 adult...  (greeting, inform)   \n",
       "...                                                 ...                 ...   \n",
       "1364  Hi I've got 9 days free and I'm looking for a ...           (inform,)   \n",
       "1365  I need to get to Fortaleza on September 8th or...           (inform,)   \n",
       "1366  We're finally going on vacation isn't that ama...           (inform,)   \n",
       "1367  Hi there, I'm looking for a place to get away ...           (inform,)   \n",
       "1368  I need to book a trip for the whole family fro...           (inform,)   \n",
       "\n",
       "                                           entityLabels  \n",
       "0     [{'entityName': 'budget', 'startCharIndex': 11...  \n",
       "1     [{'entityName': 'budget', 'startCharIndex': 75...  \n",
       "2     [{'entityName': 'dst_city', 'startCharIndex': ...  \n",
       "3     [{'entityName': 'or_city', 'startCharIndex': 3...  \n",
       "4     [{'entityName': 'budget', 'startCharIndex': 67...  \n",
       "...                                                 ...  \n",
       "1364  [{'entityName': 'or_city', 'startCharIndex': 6...  \n",
       "1365  [{'entityName': 'dst_city', 'startCharIndex': ...  \n",
       "1366  [{'entityName': 'budget', 'startCharIndex': 75...  \n",
       "1367                                                 []  \n",
       "1368  [{'entityName': 'or_city', 'startCharIndex': 4...  \n",
       "\n",
       "[1369 rows x 3 columns]"
      ]
     },
     "execution_count": 10,
     "metadata": {},
     "output_type": "execute_result"
    }
   ],
   "source": [
    "all_data_df = pd.DataFrame(all_data)\n",
    "all_data_df"
   ]
  },
  {
   "cell_type": "markdown",
   "metadata": {},
   "source": [
    "What are the values in intentName?"
   ]
  },
  {
   "cell_type": "code",
   "execution_count": 11,
   "metadata": {},
   "outputs": [
    {
     "name": "stdout",
     "output_type": "stream",
     "text": [
      "('inform',)\n",
      "('greeting', 'inform')\n",
      "('greeting', 'inform', 'request')\n",
      "('greeting',)\n",
      "('inform', 'request')\n",
      "('greeting', 'inform', 'thankyou')\n",
      "()\n"
     ]
    }
   ],
   "source": [
    "intentName = all_data_df['intentName'].apply(lambda x: tuple(x)).unique()\n",
    "for item in intentName:\n",
    "    print(item)"
   ]
  },
  {
   "cell_type": "markdown",
   "metadata": {},
   "source": [
    "Which utterances have empty intentName?"
   ]
  },
  {
   "cell_type": "code",
   "execution_count": 12,
   "metadata": {},
   "outputs": [
    {
     "data": {
      "text/html": [
       "<div>\n",
       "<style scoped>\n",
       "    .dataframe tbody tr th:only-of-type {\n",
       "        vertical-align: middle;\n",
       "    }\n",
       "\n",
       "    .dataframe tbody tr th {\n",
       "        vertical-align: top;\n",
       "    }\n",
       "\n",
       "    .dataframe thead th {\n",
       "        text-align: right;\n",
       "    }\n",
       "</style>\n",
       "<table border=\"1\" class=\"dataframe\">\n",
       "  <thead>\n",
       "    <tr style=\"text-align: right;\">\n",
       "      <th></th>\n",
       "      <th>text</th>\n",
       "      <th>intentName</th>\n",
       "      <th>entityLabels</th>\n",
       "    </tr>\n",
       "  </thead>\n",
       "  <tbody>\n",
       "    <tr>\n",
       "      <th>526</th>\n",
       "      <td>Have you ever read the book \"Vernon's Travels\"?</td>\n",
       "      <td>()</td>\n",
       "      <td>[]</td>\n",
       "    </tr>\n",
       "    <tr>\n",
       "      <th>657</th>\n",
       "      <td>psssstttttt</td>\n",
       "      <td>()</td>\n",
       "      <td>[]</td>\n",
       "    </tr>\n",
       "    <tr>\n",
       "      <th>1158</th>\n",
       "      <td>Vacay time woooohooooooo</td>\n",
       "      <td>()</td>\n",
       "      <td>[]</td>\n",
       "    </tr>\n",
       "  </tbody>\n",
       "</table>\n",
       "</div>"
      ],
      "text/plain": [
       "                                                 text intentName entityLabels\n",
       "526   Have you ever read the book \"Vernon's Travels\"?         ()           []\n",
       "657                                       psssstttttt         ()           []\n",
       "1158                         Vacay time woooohooooooo         ()           []"
      ]
     },
     "execution_count": 12,
     "metadata": {},
     "output_type": "execute_result"
    }
   ],
   "source": [
    "all_data_df[all_data_df['intentName'].apply(lambda x: tuple(x))==()]"
   ]
  },
  {
   "cell_type": "markdown",
   "metadata": {},
   "source": [
    "Each utterance should have only one intent. Are the multi-intent common?"
   ]
  },
  {
   "cell_type": "code",
   "execution_count": 13,
   "metadata": {},
   "outputs": [
    {
     "data": {
      "text/plain": [
       "intentName\n",
       "()                                3\n",
       "(greeting,)                     102\n",
       "(greeting, inform)              297\n",
       "(greeting, inform, request)       5\n",
       "(greeting, inform, thankyou)      1\n",
       "(inform,)                       951\n",
       "(inform, request)                10\n",
       "dtype: int64"
      ]
     },
     "execution_count": 13,
     "metadata": {},
     "output_type": "execute_result"
    }
   ],
   "source": [
    "all_data_df.groupby('intentName').size()"
   ]
  },
  {
   "cell_type": "markdown",
   "metadata": {},
   "source": [
    "There are enough sample with only the inform intent, let's keep only those ones."
   ]
  },
  {
   "cell_type": "code",
   "execution_count": 14,
   "metadata": {},
   "outputs": [
    {
     "name": "stderr",
     "output_type": "stream",
     "text": [
      "/tmp/ipykernel_28299/488805023.py:2: SettingWithCopyWarning: \n",
      "A value is trying to be set on a copy of a slice from a DataFrame.\n",
      "Try using .loc[row_indexer,col_indexer] = value instead\n",
      "\n",
      "See the caveats in the documentation: https://pandas.pydata.org/pandas-docs/stable/user_guide/indexing.html#returning-a-view-versus-a-copy\n",
      "  inform_df['intentName']='inform'\n"
     ]
    }
   ],
   "source": [
    "inform_df = all_data_df[all_data_df['intentName']==('inform',)]\n",
    "inform_df['intentName']='inform'\n"
   ]
  },
  {
   "cell_type": "markdown",
   "metadata": {},
   "source": [
    "We'll manually create samples for greeting, thanks, and validation."
   ]
  },
  {
   "cell_type": "markdown",
   "metadata": {},
   "source": [
    "Moreover, we do not need all the utterances to train LUIS: according to the documentation, we can train LUIS iteratively on a first small subset of the utterances, provided that we have a good understanding of the intent. To do so, we'll use the utterances with most entities."
   ]
  },
  {
   "cell_type": "code",
   "execution_count": 15,
   "metadata": {},
   "outputs": [
    {
     "data": {
      "text/html": [
       "<div>\n",
       "<style scoped>\n",
       "    .dataframe tbody tr th:only-of-type {\n",
       "        vertical-align: middle;\n",
       "    }\n",
       "\n",
       "    .dataframe tbody tr th {\n",
       "        vertical-align: top;\n",
       "    }\n",
       "\n",
       "    .dataframe thead th {\n",
       "        text-align: right;\n",
       "    }\n",
       "</style>\n",
       "<table border=\"1\" class=\"dataframe\">\n",
       "  <thead>\n",
       "    <tr style=\"text-align: right;\">\n",
       "      <th></th>\n",
       "      <th>text</th>\n",
       "      <th>intentName</th>\n",
       "      <th>entityLabels</th>\n",
       "    </tr>\n",
       "  </thead>\n",
       "  <tbody>\n",
       "    <tr>\n",
       "      <th>0</th>\n",
       "      <td>I'd like to book a trip to Atlantis from Capri...</td>\n",
       "      <td>inform</td>\n",
       "      <td>[{'entityName': 'budget', 'startCharIndex': 11...</td>\n",
       "    </tr>\n",
       "    <tr>\n",
       "      <th>6</th>\n",
       "      <td>I'm looking for a trip to Gotham City leaving ...</td>\n",
       "      <td>inform</td>\n",
       "      <td>[{'entityName': 'budget', 'startCharIndex': 12...</td>\n",
       "    </tr>\n",
       "    <tr>\n",
       "      <th>9</th>\n",
       "      <td>Hi, I need to go to Mos Eisley for a wedding, ...</td>\n",
       "      <td>inform</td>\n",
       "      <td>[{'entityName': 'budget', 'startCharIndex': 14...</td>\n",
       "    </tr>\n",
       "    <tr>\n",
       "      <th>10</th>\n",
       "      <td>I'd like to get away from Monday, August 15, 2...</td>\n",
       "      <td>inform</td>\n",
       "      <td>[{'entityName': 'budget', 'startCharIndex': 94...</td>\n",
       "    </tr>\n",
       "    <tr>\n",
       "      <th>11</th>\n",
       "      <td>Good day, please book me a trip from Vancouver...</td>\n",
       "      <td>inform</td>\n",
       "      <td>[{'entityName': 'or_city', 'startCharIndex': 3...</td>\n",
       "    </tr>\n",
       "    <tr>\n",
       "      <th>...</th>\n",
       "      <td>...</td>\n",
       "      <td>...</td>\n",
       "      <td>...</td>\n",
       "    </tr>\n",
       "    <tr>\n",
       "      <th>1364</th>\n",
       "      <td>Hi I've got 9 days free and I'm looking for a ...</td>\n",
       "      <td>inform</td>\n",
       "      <td>[{'entityName': 'or_city', 'startCharIndex': 6...</td>\n",
       "    </tr>\n",
       "    <tr>\n",
       "      <th>1365</th>\n",
       "      <td>I need to get to Fortaleza on September 8th or...</td>\n",
       "      <td>inform</td>\n",
       "      <td>[{'entityName': 'dst_city', 'startCharIndex': ...</td>\n",
       "    </tr>\n",
       "    <tr>\n",
       "      <th>1366</th>\n",
       "      <td>We're finally going on vacation isn't that ama...</td>\n",
       "      <td>inform</td>\n",
       "      <td>[{'entityName': 'budget', 'startCharIndex': 75...</td>\n",
       "    </tr>\n",
       "    <tr>\n",
       "      <th>1367</th>\n",
       "      <td>Hi there, I'm looking for a place to get away ...</td>\n",
       "      <td>inform</td>\n",
       "      <td>[]</td>\n",
       "    </tr>\n",
       "    <tr>\n",
       "      <th>1368</th>\n",
       "      <td>I need to book a trip for the whole family fro...</td>\n",
       "      <td>inform</td>\n",
       "      <td>[{'entityName': 'or_city', 'startCharIndex': 4...</td>\n",
       "    </tr>\n",
       "  </tbody>\n",
       "</table>\n",
       "<p>951 rows × 3 columns</p>\n",
       "</div>"
      ],
      "text/plain": [
       "                                                   text intentName  \\\n",
       "0     I'd like to book a trip to Atlantis from Capri...     inform   \n",
       "6     I'm looking for a trip to Gotham City leaving ...     inform   \n",
       "9     Hi, I need to go to Mos Eisley for a wedding, ...     inform   \n",
       "10    I'd like to get away from Monday, August 15, 2...     inform   \n",
       "11    Good day, please book me a trip from Vancouver...     inform   \n",
       "...                                                 ...        ...   \n",
       "1364  Hi I've got 9 days free and I'm looking for a ...     inform   \n",
       "1365  I need to get to Fortaleza on September 8th or...     inform   \n",
       "1366  We're finally going on vacation isn't that ama...     inform   \n",
       "1367  Hi there, I'm looking for a place to get away ...     inform   \n",
       "1368  I need to book a trip for the whole family fro...     inform   \n",
       "\n",
       "                                           entityLabels  \n",
       "0     [{'entityName': 'budget', 'startCharIndex': 11...  \n",
       "6     [{'entityName': 'budget', 'startCharIndex': 12...  \n",
       "9     [{'entityName': 'budget', 'startCharIndex': 14...  \n",
       "10    [{'entityName': 'budget', 'startCharIndex': 94...  \n",
       "11    [{'entityName': 'or_city', 'startCharIndex': 3...  \n",
       "...                                                 ...  \n",
       "1364  [{'entityName': 'or_city', 'startCharIndex': 6...  \n",
       "1365  [{'entityName': 'dst_city', 'startCharIndex': ...  \n",
       "1366  [{'entityName': 'budget', 'startCharIndex': 75...  \n",
       "1367                                                 []  \n",
       "1368  [{'entityName': 'or_city', 'startCharIndex': 4...  \n",
       "\n",
       "[951 rows x 3 columns]"
      ]
     },
     "execution_count": 15,
     "metadata": {},
     "output_type": "execute_result"
    }
   ],
   "source": [
    "inform_df"
   ]
  },
  {
   "cell_type": "code",
   "execution_count": 16,
   "metadata": {},
   "outputs": [
    {
     "name": "stderr",
     "output_type": "stream",
     "text": [
      "/tmp/ipykernel_28299/4275190530.py:2: SettingWithCopyWarning: \n",
      "A value is trying to be set on a copy of a slice from a DataFrame.\n",
      "Try using .loc[row_indexer,col_indexer] = value instead\n",
      "\n",
      "See the caveats in the documentation: https://pandas.pydata.org/pandas-docs/stable/user_guide/indexing.html#returning-a-view-versus-a-copy\n",
      "  inform_df['nb_entities'] = inform_df['entityLabels'].apply(lambda x: len(x))\n"
     ]
    }
   ],
   "source": [
    "# Get samples with more than 3 entities in the utterance\n",
    "inform_df['nb_entities'] = inform_df['entityLabels'].apply(lambda x: len(x))\n",
    "samples_df = inform_df[inform_df['nb_entities']>3]\n",
    "samples_df  = samples_df.drop(['nb_entities'], axis=1)\n",
    "\n",
    "# Convert to train_data and test_data lists of dicts\n",
    "train_samples_df = samples_df.sample(frac=0.5, random_state=42)\n",
    "test_samples_df = samples_df.drop(train_samples_df.index)\n",
    "train_data = [train_samples_df.loc[i].to_dict() for i in train_samples_df.index]\n",
    "test_data = [test_samples_df.loc[i].to_dict() for i in test_samples_df.index]"
   ]
  },
  {
   "cell_type": "code",
   "execution_count": 17,
   "metadata": {},
   "outputs": [
    {
     "data": {
      "text/plain": [
       "(64, 63)"
      ]
     },
     "execution_count": 17,
     "metadata": {},
     "output_type": "execute_result"
    }
   ],
   "source": [
    "len(train_data), len(test_data)"
   ]
  },
  {
   "cell_type": "code",
   "execution_count": 18,
   "metadata": {},
   "outputs": [
    {
     "name": "stdout",
     "output_type": "stream",
     "text": [
      "Training sample:\n",
      "\"text\": \"hello, please find me a vacation between saturday august 27 2016 and wednesday september 7 2016 for under 6000$ leaving from madrid\"\n",
      "\"intentName\": \"inform\"\n",
      "\"entityLabels\": \"[{'entityName': 'budget', 'startCharIndex': 106, 'endCharIndex': 111}, {'entityName': 'or_city', 'startCharIndex': 125, 'endCharIndex': 131}, {'entityName': 'str_date', 'startCharIndex': 41, 'endCharIndex': 64}, {'entityName': 'end_date', 'startCharIndex': 69, 'endCharIndex': 95}]\"\n",
      "\n",
      "Underlying entities:\n",
      "budget : 6000$\n",
      "or_city : madrid\n",
      "str_date : saturday august 27 2016\n",
      "end_date : wednesday september 7 2016\n"
     ]
    }
   ],
   "source": [
    "single_sample = train_data[0]\n",
    "print('Training sample:')\n",
    "for key, value in single_sample.items():\n",
    "    print('\"{}\": \"{}\"'.format(key, value))\n",
    "print()\n",
    "print('Underlying entities:')\n",
    "\n",
    "for entity_label in single_sample['entityLabels']:\n",
    "    print(entity_label['entityName'],\n",
    "    ':',\n",
    "    single_sample['text'][entity_label['startCharIndex']:entity_label['endCharIndex']])"
   ]
  },
  {
   "cell_type": "code",
   "execution_count": 19,
   "metadata": {},
   "outputs": [],
   "source": [
    "with open('train_data.json', \"w\") as f:\n",
    "    json.dump(train_data, f, indent=4)\n",
    "\n",
    "with open('test_data.json', \"w\") as f:\n",
    "    json.dump(test_data, f, indent=4)"
   ]
  },
  {
   "cell_type": "code",
   "execution_count": 20,
   "metadata": {},
   "outputs": [],
   "source": [
    "ask_for = {\n",
    "    \"str_date\": \"when do you want to go?\",\n",
    "    \"end_date\": \"when do you want to come back?\",\n",
    "    \"dst_city\": \"where do you want to fly to?\",\n",
    "    \"or_city\": \"where do you want to depart from?\",\n",
    "    \"budget\": \"what is your budget?\",\n",
    "    }\n"
   ]
  },
  {
   "cell_type": "markdown",
   "metadata": {},
   "source": [
    "# Training LUIS"
   ]
  },
  {
   "cell_type": "code",
   "execution_count": 21,
   "metadata": {},
   "outputs": [],
   "source": [
    "from azure.cognitiveservices.language.luis.authoring import LUISAuthoringClient\n",
    "from azure.cognitiveservices.language.luis.authoring.models import ApplicationCreateObject\n",
    "from azure.cognitiveservices.language.luis.runtime import LUISRuntimeClient\n",
    "from msrest.authentication import CognitiveServicesCredentials\n",
    "from functools import reduce\n",
    "\n",
    "import json, time\n",
    "import params\n",
    "\n",
    "        \n",
    "authoringKey = params.authoringKey\n",
    "authoringEndpoint = params.authoringEndpoint\n",
    "predictionKey = params.predictionKey\n",
    "predictionEndpoint = params.predictionEndpoint\n",
    "\n",
    "appName = \"Booking recognition\"\n",
    "versionId = \"0.1\"\n",
    "\n",
    "client = LUISAuthoringClient(authoringEndpoint, \n",
    "                        CognitiveServicesCredentials(authoringKey))\n",
    "\n",
    "# define app basics\n",
    "appDefinition = ApplicationCreateObject(\n",
    "    name=appName, \n",
    "    initial_version_id=versionId, \n",
    "    culture='en-us')\n"
   ]
  },
  {
   "cell_type": "code",
   "execution_count": 24,
   "metadata": {},
   "outputs": [
    {
     "name": "stdout",
     "output_type": "stream",
     "text": [
      "Created LUIS app with ID b36ecefe-bcd8-4f25-b4a9-fd6e448a44f2\n"
     ]
    }
   ],
   "source": [
    "# access or create app\n",
    "try:\n",
    "    app_id = client.apps.add(appDefinition)\n",
    "    print(f\"Created LUIS app with ID {app_id}\")\n",
    "except:\n",
    "    print(f\"App with name {appName} already exists.\")\n",
    "    app_id = client.apps.list()[0].id\n",
    "    print(f\"Using existing app with ID {app_id}\")\n"
   ]
  },
  {
   "cell_type": "code",
   "execution_count": 25,
   "metadata": {},
   "outputs": [
    {
     "name": "stdout",
     "output_type": "stream",
     "text": [
      "Created intent 'inform'\n",
      "Created intent 'greeting'\n",
      "Created intent 'thankyou'\n",
      "Created intent 'confirm'\n"
     ]
    }
   ],
   "source": [
    "# create intents\n",
    "for intent in ['inform', 'greeting', 'thankyou', 'confirm']:\n",
    "    try:\n",
    "        client.model.add_intent(app_id, versionId, intent)\n",
    "        print(f\"Created intent '{intent}'.\")\n",
    "    except:\n",
    "        print(f\"Intent '{intent}' already exists.\")\n"
   ]
  },
  {
   "cell_type": "code",
   "execution_count": 26,
   "metadata": {},
   "outputs": [
    {
     "name": "stdout",
     "output_type": "stream",
     "text": [
      "Created entity 'budget'.\n",
      "Created entity 'or_city'.\n",
      "Created entity 'dst_city'.\n",
      "Created entity 'str_date'.\n",
      "Created entity 'end_date'.\n"
     ]
    }
   ],
   "source": [
    "# define machine-learned entities             \n",
    "entities = [\n",
    "        \"budget\",\n",
    "        \"or_city\",\n",
    "        \"dst_city\",\n",
    "        \"str_date\",\n",
    "        \"end_date\",\n",
    "    ]\n",
    "\n",
    "# add entities to app\n",
    "for entity in entities:\n",
    "    try:\n",
    "        client.model.add_entity(app_id, \n",
    "                                versionId, \n",
    "                                name=entity) \n",
    "        print(f\"Created entity '{entity}'.\")\n",
    "    except:\n",
    "        print(f\"Entity '{entity}' already exists.\")"
   ]
  },
  {
   "cell_type": "code",
   "execution_count": 27,
   "metadata": {},
   "outputs": [
    {
     "name": "stderr",
     "output_type": "stream",
     "text": [
      "100%|██████████| 64/64 [00:17<00:00,  3.65it/s]\n"
     ]
    }
   ],
   "source": [
    "# Add utterances examples\n",
    "for labeled_utterance in tqdm(train_data):\n",
    "    client.examples.add(app_id, versionId, labeled_utterance)"
   ]
  },
  {
   "cell_type": "code",
   "execution_count": 28,
   "metadata": {},
   "outputs": [
    {
     "name": "stdout",
     "output_type": "stream",
     "text": [
      "Waiting 10 seconds for training to complete...\n",
      "trained\n"
     ]
    }
   ],
   "source": [
    "# Train app on utterances\n",
    "client.train.train_version(app_id, versionId)\n",
    "\n",
    "# Check if training is done\n",
    "waiting = True\n",
    "while waiting:\n",
    "    info = client.train.get_status(app_id, versionId)\n",
    "\n",
    "    # get_status returns a list of training statuses, one for each model. Loop through them and make sure all are done.\n",
    "    waiting = any(map(lambda x: 'Queued' == x.details.status or 'InProgress' == x.details.status, info))\n",
    "    if waiting:\n",
    "        print (\"Waiting 10 seconds for training to complete...\")\n",
    "        time.sleep(10)\n",
    "    else: \n",
    "        print (\"trained\")\n",
    "        waiting = False"
   ]
  },
  {
   "cell_type": "markdown",
   "metadata": {},
   "source": [
    "Now let's manually add utterances for other intents.\n"
   ]
  },
  {
   "cell_type": "code",
   "execution_count": 44,
   "metadata": {},
   "outputs": [],
   "source": [
    "entities_terms = {\n",
    "'greeting': [\"hi\", \"hello\", \"hola\", \"good morning\",\"good evening\", \"good afternoon\", \"good night\"],\n",
    "'thankyou': [\"thank you\", \"thanks\"], \n",
    "'confirm': [\"yes\", \"OK\", \"true\", \"indeed\", \"exactly\", \"perfect\", \"that's it\", \"absolutely\"]\n",
    "}\n",
    "\n",
    "entities_list = [{\"canonicalForm\": key, \"list\": value} for key, value in entities_terms.items()]"
   ]
  },
  {
   "cell_type": "code",
   "execution_count": null,
   "metadata": {},
   "outputs": [],
   "source": []
  }
 ],
 "metadata": {
  "kernelspec": {
   "display_name": "Python 3 (ipykernel)",
   "language": "python",
   "name": "python3"
  },
  "language_info": {
   "codemirror_mode": {
    "name": "ipython",
    "version": 3
   },
   "file_extension": ".py",
   "mimetype": "text/x-python",
   "name": "python",
   "nbconvert_exporter": "python",
   "pygments_lexer": "ipython3",
   "version": "3.8.10"
  },
  "vscode": {
   "interpreter": {
    "hash": "49ca45737546250f42b496f9f3202c989425b870612331f517aa0e5640df5f91"
   }
  },
  "widgets": {
   "application/vnd.jupyter.widget-state+json": {
    "state": {
     "002e7ce1982e43dd89cd1083bdcec0fc": {
      "model_module": "@jupyter-widgets/controls",
      "model_module_version": "1.5.0",
      "model_name": "HTMLModel",
      "state": {
       "layout": "IPY_MODEL_911696d6f17f490fbc3750c30634b687",
       "style": "IPY_MODEL_9dbeee376e6e4300bd93ec6d62edd11f",
       "value": "100%"
      }
     },
     "00399e52794747ceb5b96b601b3d0e0f": {
      "model_module": "@jupyter-widgets/base",
      "model_module_version": "1.2.0",
      "model_name": "LayoutModel",
      "state": {}
     },
     "04b4a0ea228644d4abb5187c7ae0bbdc": {
      "model_module": "@jupyter-widgets/controls",
      "model_module_version": "1.5.0",
      "model_name": "ProgressStyleModel",
      "state": {
       "description_width": ""
      }
     },
     "08d7514506354be98b1fbf1263bd8f31": {
      "model_module": "@jupyter-widgets/base",
      "model_module_version": "1.2.0",
      "model_name": "LayoutModel",
      "state": {}
     },
     "099e2e68347f4071bb2557101986d329": {
      "model_module": "@jupyter-widgets/base",
      "model_module_version": "1.2.0",
      "model_name": "LayoutModel",
      "state": {}
     },
     "1e15caf4f1fb49a7a84901179179b1da": {
      "model_module": "@jupyter-widgets/controls",
      "model_module_version": "1.5.0",
      "model_name": "HTMLModel",
      "state": {
       "layout": "IPY_MODEL_7f7a7b6622ba4c618ac43ce4c51a5ac0",
       "style": "IPY_MODEL_46cc82bd598d444bbf9e72b6c6be5ca9",
       "value": " 1369/1369 [00:09&lt;00:00, 73.80it/s]"
      }
     },
     "1e27f479afa440b6b016417faa915b8f": {
      "model_module": "@jupyter-widgets/controls",
      "model_module_version": "1.5.0",
      "model_name": "FloatProgressModel",
      "state": {
       "bar_style": "success",
       "layout": "IPY_MODEL_f18bfada1cbf4b1fa370c8126e75752a",
       "max": 10407,
       "style": "IPY_MODEL_d4c45308cca540e7982e6f0d33aed950",
       "value": 10407
      }
     },
     "2057058966464fdc80825578ffb1a708": {
      "model_module": "@jupyter-widgets/controls",
      "model_module_version": "1.5.0",
      "model_name": "DescriptionStyleModel",
      "state": {
       "description_width": ""
      }
     },
     "2632fef837ad47dfb9614b9cec44930f": {
      "model_module": "@jupyter-widgets/base",
      "model_module_version": "1.2.0",
      "model_name": "LayoutModel",
      "state": {}
     },
     "2a380e91411740aa894957ef6534eb50": {
      "model_module": "@jupyter-widgets/controls",
      "model_module_version": "1.5.0",
      "model_name": "FloatProgressModel",
      "state": {
       "bar_style": "success",
       "layout": "IPY_MODEL_fb540b483c524065be2d0ae5ee3a2d1c",
       "max": 1369,
       "style": "IPY_MODEL_04b4a0ea228644d4abb5187c7ae0bbdc",
       "value": 1369
      }
     },
     "308e80cd54b7458bb73d741879bf230b": {
      "model_module": "@jupyter-widgets/controls",
      "model_module_version": "1.5.0",
      "model_name": "HBoxModel",
      "state": {
       "children": [
        "IPY_MODEL_f752c81e67b74704ae5dac1e103814e8",
        "IPY_MODEL_c9d15c54bce142bba6a27bf158c53874",
        "IPY_MODEL_1e15caf4f1fb49a7a84901179179b1da"
       ],
       "layout": "IPY_MODEL_2632fef837ad47dfb9614b9cec44930f"
      }
     },
     "402f381a9af4438ba4946e0923a42dd0": {
      "model_module": "@jupyter-widgets/controls",
      "model_module_version": "1.5.0",
      "model_name": "DescriptionStyleModel",
      "state": {
       "description_width": ""
      }
     },
     "4285875bce864c88b241234179278c92": {
      "model_module": "@jupyter-widgets/controls",
      "model_module_version": "1.5.0",
      "model_name": "HTMLModel",
      "state": {
       "layout": "IPY_MODEL_c49f3d6a88694253aba15f5537a4f9c5",
       "style": "IPY_MODEL_2057058966464fdc80825578ffb1a708",
       "value": "100%"
      }
     },
     "46cc82bd598d444bbf9e72b6c6be5ca9": {
      "model_module": "@jupyter-widgets/controls",
      "model_module_version": "1.5.0",
      "model_name": "DescriptionStyleModel",
      "state": {
       "description_width": ""
      }
     },
     "54f2889a44eb453794587b8ddcf27bde": {
      "model_module": "@jupyter-widgets/controls",
      "model_module_version": "1.5.0",
      "model_name": "HTMLModel",
      "state": {
       "layout": "IPY_MODEL_00399e52794747ceb5b96b601b3d0e0f",
       "style": "IPY_MODEL_95abaf5d70e54a1c906933d42d2edca8",
       "value": " 1369/1369 [00:08&lt;00:00, 83.04it/s]"
      }
     },
     "62273309d4eb405eb6de3119541282c1": {
      "model_module": "@jupyter-widgets/controls",
      "model_module_version": "1.5.0",
      "model_name": "HBoxModel",
      "state": {
       "children": [
        "IPY_MODEL_002e7ce1982e43dd89cd1083bdcec0fc",
        "IPY_MODEL_1e27f479afa440b6b016417faa915b8f",
        "IPY_MODEL_ba7a0d2c208243ebb1fd098cf2647600"
       ],
       "layout": "IPY_MODEL_de2e780daa394ac3aee720f21f508142"
      }
     },
     "7f7a7b6622ba4c618ac43ce4c51a5ac0": {
      "model_module": "@jupyter-widgets/base",
      "model_module_version": "1.2.0",
      "model_name": "LayoutModel",
      "state": {}
     },
     "911696d6f17f490fbc3750c30634b687": {
      "model_module": "@jupyter-widgets/base",
      "model_module_version": "1.2.0",
      "model_name": "LayoutModel",
      "state": {}
     },
     "92f3a3867d3044789d98b7c79b3b90da": {
      "model_module": "@jupyter-widgets/controls",
      "model_module_version": "1.5.0",
      "model_name": "DescriptionStyleModel",
      "state": {
       "description_width": ""
      }
     },
     "95abaf5d70e54a1c906933d42d2edca8": {
      "model_module": "@jupyter-widgets/controls",
      "model_module_version": "1.5.0",
      "model_name": "DescriptionStyleModel",
      "state": {
       "description_width": ""
      }
     },
     "9dbeee376e6e4300bd93ec6d62edd11f": {
      "model_module": "@jupyter-widgets/controls",
      "model_module_version": "1.5.0",
      "model_name": "DescriptionStyleModel",
      "state": {
       "description_width": ""
      }
     },
     "a5c935632cdb4dc4a9124c29949d1510": {
      "model_module": "@jupyter-widgets/base",
      "model_module_version": "1.2.0",
      "model_name": "LayoutModel",
      "state": {}
     },
     "b19b42d3d6854488b6dacc0620193cfa": {
      "model_module": "@jupyter-widgets/controls",
      "model_module_version": "1.5.0",
      "model_name": "ProgressStyleModel",
      "state": {
       "description_width": ""
      }
     },
     "ba7a0d2c208243ebb1fd098cf2647600": {
      "model_module": "@jupyter-widgets/controls",
      "model_module_version": "1.5.0",
      "model_name": "HTMLModel",
      "state": {
       "layout": "IPY_MODEL_08d7514506354be98b1fbf1263bd8f31",
       "style": "IPY_MODEL_92f3a3867d3044789d98b7c79b3b90da",
       "value": " 10407/10407 [00:00&lt;00:00, 105943.81it/s]"
      }
     },
     "c49f3d6a88694253aba15f5537a4f9c5": {
      "model_module": "@jupyter-widgets/base",
      "model_module_version": "1.2.0",
      "model_name": "LayoutModel",
      "state": {}
     },
     "c9d15c54bce142bba6a27bf158c53874": {
      "model_module": "@jupyter-widgets/controls",
      "model_module_version": "1.5.0",
      "model_name": "FloatProgressModel",
      "state": {
       "bar_style": "success",
       "layout": "IPY_MODEL_a5c935632cdb4dc4a9124c29949d1510",
       "max": 1369,
       "style": "IPY_MODEL_b19b42d3d6854488b6dacc0620193cfa",
       "value": 1369
      }
     },
     "d4c45308cca540e7982e6f0d33aed950": {
      "model_module": "@jupyter-widgets/controls",
      "model_module_version": "1.5.0",
      "model_name": "ProgressStyleModel",
      "state": {
       "description_width": ""
      }
     },
     "dd161d6f567f46718390cfb6b27de086": {
      "model_module": "@jupyter-widgets/base",
      "model_module_version": "1.2.0",
      "model_name": "LayoutModel",
      "state": {}
     },
     "de2e780daa394ac3aee720f21f508142": {
      "model_module": "@jupyter-widgets/base",
      "model_module_version": "1.2.0",
      "model_name": "LayoutModel",
      "state": {}
     },
     "ed5b94aae9e64d23a20a2bc4961065e2": {
      "model_module": "@jupyter-widgets/controls",
      "model_module_version": "1.5.0",
      "model_name": "HBoxModel",
      "state": {
       "children": [
        "IPY_MODEL_4285875bce864c88b241234179278c92",
        "IPY_MODEL_2a380e91411740aa894957ef6534eb50",
        "IPY_MODEL_54f2889a44eb453794587b8ddcf27bde"
       ],
       "layout": "IPY_MODEL_099e2e68347f4071bb2557101986d329"
      }
     },
     "f18bfada1cbf4b1fa370c8126e75752a": {
      "model_module": "@jupyter-widgets/base",
      "model_module_version": "1.2.0",
      "model_name": "LayoutModel",
      "state": {}
     },
     "f752c81e67b74704ae5dac1e103814e8": {
      "model_module": "@jupyter-widgets/controls",
      "model_module_version": "1.5.0",
      "model_name": "HTMLModel",
      "state": {
       "layout": "IPY_MODEL_dd161d6f567f46718390cfb6b27de086",
       "style": "IPY_MODEL_402f381a9af4438ba4946e0923a42dd0",
       "value": "100%"
      }
     },
     "fb540b483c524065be2d0ae5ee3a2d1c": {
      "model_module": "@jupyter-widgets/base",
      "model_module_version": "1.2.0",
      "model_name": "LayoutModel",
      "state": {}
     }
    },
    "version_major": 2,
    "version_minor": 0
   }
  }
 },
 "nbformat": 4,
 "nbformat_minor": 4
}
