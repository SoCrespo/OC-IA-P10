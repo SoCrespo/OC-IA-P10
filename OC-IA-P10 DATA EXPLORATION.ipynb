{
 "cells": [
  {
   "cell_type": "markdown",
   "metadata": {},
   "source": [
    "# OC-IA-P10 DATA EXPLORATION"
   ]
  },
  {
   "cell_type": "code",
   "execution_count": 1,
   "metadata": {},
   "outputs": [],
   "source": [
    "# import sys\n",
    "# !{sys.executable} -m pip install -r requirements.txt"
   ]
  },
  {
   "cell_type": "code",
   "execution_count": 2,
   "metadata": {},
   "outputs": [],
   "source": [
    "import pandas as pd\n",
    "import numpy as np\n",
    "from tqdm.notebook import tqdm\n",
    "tqdm.pandas()\n",
    "import json"
   ]
  },
  {
   "cell_type": "code",
   "execution_count": 3,
   "metadata": {},
   "outputs": [
    {
     "data": {
      "text/plain": [
       "0       [{'text': 'I'd like to book a trip to Atlantis...\n",
       "1       [{'text': 'Hello, I am looking to book a vacat...\n",
       "2       [{'text': 'Hello there i am looking to go on a...\n",
       "3       [{'text': 'Hi I'd like to go to Caprica from B...\n",
       "4       [{'text': 'Hello, I am looking to book a trip ...\n",
       "                              ...                        \n",
       "1364    [{'text': 'Hi I've got 9 days free and I'm loo...\n",
       "1365    [{'text': 'I need to get to Fortaleza on Septe...\n",
       "1366    [{'text': 'We're finally going on vacation isn...\n",
       "1367    [{'text': 'Hi there, I'm looking for a place t...\n",
       "1368    [{'text': 'I need to book a trip for the whole...\n",
       "Name: turns, Length: 1369, dtype: object"
      ]
     },
     "execution_count": 3,
     "metadata": {},
     "output_type": "execute_result"
    }
   ],
   "source": [
    "frames = pd.read_json('frames/frames.json')\n",
    "frames['turns']\n"
   ]
  },
  {
   "cell_type": "markdown",
   "metadata": {},
   "source": [
    "Let's have a look at a conversation. For ease of reading the values are sent to a json file."
   ]
  },
  {
   "cell_type": "code",
   "execution_count": 4,
   "metadata": {},
   "outputs": [],
   "source": [
    "with open('sample.json', \"w\") as f:\n",
    "    json.dump(frames.loc[0]['turns'], f, indent=4)"
   ]
  },
  {
   "cell_type": "markdown",
   "metadata": {},
   "source": [
    "We'll use only user data (not wizard's answers), and among them we'll use the text and the acts_without_refs values. Let's have a look at the values we can find inside:"
   ]
  },
  {
   "cell_type": "code",
   "execution_count": 5,
   "metadata": {},
   "outputs": [
    {
     "data": {
      "application/vnd.jupyter.widget-view+json": {
       "model_id": "738f934c11bd4aa49da026a175a83f1a",
       "version_major": 2,
       "version_minor": 0
      },
      "text/plain": [
       "  0%|          | 0/1 [00:00<?, ?it/s]"
      ]
     },
     "metadata": {},
     "output_type": "display_data"
    },
    {
     "data": {
      "text/plain": [
       "{'budget',\n",
       " 'dst_city',\n",
       " 'end_date',\n",
       " 'flex',\n",
       " 'intent',\n",
       " 'n_adults',\n",
       " 'or_city',\n",
       " 'ref',\n",
       " 'str_date'}"
      ]
     },
     "execution_count": 5,
     "metadata": {},
     "output_type": "execute_result"
    }
   ],
   "source": [
    "all_entities = set()\n",
    "for conversation in tqdm(frames['turns'][:1]):\n",
    "    for turn in conversation:\n",
    "        for act in turn['labels']['acts']:\n",
    "            for arg in act['args']:\n",
    "                all_entities.add(arg['key'])\n",
    "       \n",
    "all_entities"
   ]
  },
  {
   "cell_type": "markdown",
   "metadata": {},
   "source": [
    "\n",
    "We'll specifically stick to the values we want to process in this MVP:\n",
    "- departure city ('or_city')\n",
    "- arrival city ('dest_city')\n",
    "- departure date ('str_date')\n",
    "- end date ('end_date')\n",
    "- budget ('budget')"
   ]
  },
  {
   "cell_type": "code",
   "execution_count": 6,
   "metadata": {},
   "outputs": [],
   "source": [
    "entities = [\n",
    "    'budget',\n",
    "    'or_city',\n",
    "    'dst_city',\n",
    "    'str_date',\n",
    "    'end_date',\n",
    "    'intent',\n",
    " ]\n"
   ]
  },
  {
   "cell_type": "markdown",
   "metadata": {},
   "source": [
    "Example of json file format for training LUIS:"
   ]
  },
  {
   "cell_type": "markdown",
   "metadata": {},
   "source": [
    "```Python\n",
    "[\n",
    "  {\n",
    "    \"text\": \"order a pizza\",\n",
    "    \"intentName\": \"ModifyOrder\",\n",
    "    \"entityLabels\": [\n",
    "      {\n",
    "        \"entityName\": \"Order\",\n",
    "        \"startCharIndex\": 6,\n",
    "        \"endCharIndex\": 12\n",
    "      }\n",
    "    ]\n",
    "  },\n",
    "  {\n",
    "    \"text\": \"order a large pepperoni pizza\",\n",
    "    \"intentName\": \"ModifyOrder\",\n",
    "    \"entityLabels\": [\n",
    "      {\n",
    "        \"entityName\": \"Order\",\n",
    "        \"startCharIndex\": 6,\n",
    "        \"endCharIndex\": 28\n",
    "      },\n",
    "      {\n",
    "        \"entityName\": \"FullPizzaWithModifiers\",\n",
    "        \"startCharIndex\": 6,\n",
    "        \"endCharIndex\": 28\n",
    "      },\n",
    "      {\n",
    "        \"entityName\": \"PizzaType\",\n",
    "        \"startCharIndex\": 14,\n",
    "        \"endCharIndex\": 28\n",
    "      },\n",
    "      {\n",
    "        \"entityName\": \"Size\",\n",
    "        \"startCharIndex\": 8,\n",
    "        \"endCharIndex\": 12\n",
    "      }\n",
    "    ]\n",
    "  },\n",
    "  {\n",
    "    \"text\": \"I want two large pepperoni pizzas on thin crust\",\n",
    "    \"intentName\": \"ModifyOrder\",\n",
    "    \"entityLabels\": [\n",
    "      {\n",
    "        \"entityName\": \"Order\",\n",
    "        \"startCharIndex\": 7,\n",
    "        \"endCharIndex\": 46\n",
    "      },\n",
    "      {\n",
    "        \"entityName\": \"FullPizzaWithModifiers\",\n",
    "        \"startCharIndex\": 7,\n",
    "        \"endCharIndex\": 46\n",
    "      },\n",
    "      {\n",
    "        \"entityName\": \"PizzaType\",\n",
    "        \"startCharIndex\": 17,\n",
    "        \"endCharIndex\": 32\n",
    "      },\n",
    "      {\n",
    "        \"entityName\": \"Size\",\n",
    "        \"startCharIndex\": 11,\n",
    "        \"endCharIndex\": 15\n",
    "      },\n",
    "      {\n",
    "        \"entityName\": \"Quantity\",\n",
    "        \"startCharIndex\": 7,\n",
    "        \"endCharIndex\": 9\n",
    "      },\n",
    "      {\n",
    "        \"entityName\": \"Crust\",\n",
    "        \"startCharIndex\": 37,\n",
    "        \"endCharIndex\": 46\n",
    "      }\n",
    "    ]\n",
    "  }\n",
    "]\n",
    "```"
   ]
  },
  {
   "cell_type": "markdown",
   "metadata": {},
   "source": [
    "Let's extract data into the required json format:"
   ]
  },
  {
   "cell_type": "code",
   "execution_count": 7,
   "metadata": {},
   "outputs": [],
   "source": [
    "def extract_data(turn):\n",
    "    \"\"\"\n",
    "    Return dict of entities from turn.\n",
    "    \"\"\"\n",
    "\n",
    "    data = dict.fromkeys(['text', 'intentName', 'entityLabels'])\n",
    "    data['text'] = turn['text']\n",
    "    intent_name = 'None'\n",
    "    entity_labels = []\n",
    "    for act in turn['labels']['acts_without_refs']:\n",
    "\n",
    "        if 'name' in act:\n",
    "            intent_name = act['name']\n",
    "\n",
    "        for item in act['args']:\n",
    "            entity_name = item['key']\n",
    "            if entity_name in entities:\n",
    "                entity_value = item['val']\n",
    "                if entity_value and entity_value in turn['text']:\n",
    "                    start_char_index = turn['text'].index(entity_value)\n",
    "                    end_char_index = start_char_index + len(entity_value)\n",
    "                    entity_labels.append({'entityName': entity_name, \n",
    "                                        'startCharIndex': start_char_index, \n",
    "                                        'endCharIndex': end_char_index})\n",
    "    data['intentName'] = intent_name\n",
    "    data['entityLabels'] = entity_labels\n",
    "    return data"
   ]
  },
  {
   "cell_type": "code",
   "execution_count": 8,
   "metadata": {},
   "outputs": [
    {
     "data": {
      "text/plain": [
       "{'text': \"I'd like to book a trip to Atlantis from Caprica on Saturday, August 13, 2016 for 8 adults. I have a tight budget of 1700.\",\n",
       " 'intentName': 'inform',\n",
       " 'entityLabels': [{'entityName': 'intent',\n",
       "   'startCharIndex': 12,\n",
       "   'endCharIndex': 16},\n",
       "  {'entityName': 'dst_city', 'startCharIndex': 27, 'endCharIndex': 35},\n",
       "  {'entityName': 'or_city', 'startCharIndex': 41, 'endCharIndex': 48},\n",
       "  {'entityName': 'str_date', 'startCharIndex': 52, 'endCharIndex': 77},\n",
       "  {'entityName': 'budget', 'startCharIndex': 117, 'endCharIndex': 121}]}"
      ]
     },
     "execution_count": 8,
     "metadata": {},
     "output_type": "execute_result"
    }
   ],
   "source": [
    "extract_data(frames['turns'][0][0])"
   ]
  },
  {
   "cell_type": "code",
   "execution_count": 9,
   "metadata": {},
   "outputs": [
    {
     "data": {
      "application/vnd.jupyter.widget-view+json": {
       "model_id": "dae2898967e5443c88dcbe8805289825",
       "version_major": 2,
       "version_minor": 0
      },
      "text/plain": [
       "  0%|          | 0/1369 [00:00<?, ?it/s]"
      ]
     },
     "metadata": {},
     "output_type": "display_data"
    }
   ],
   "source": [
    "all_data = []\n",
    "for conversation in tqdm(frames['turns']):\n",
    "    for turn in conversation:\n",
    "        if turn['author']=='user':\n",
    "            data = extract_data(turn)\n",
    "            all_data.append(data)"
   ]
  },
  {
   "cell_type": "markdown",
   "metadata": {},
   "source": [
    "Let's have a look at the result:"
   ]
  },
  {
   "cell_type": "code",
   "execution_count": 10,
   "metadata": {},
   "outputs": [
    {
     "data": {
      "text/plain": [
       "[{'text': \"I'd like to book a trip to Atlantis from Caprica on Saturday, August 13, 2016 for 8 adults. I have a tight budget of 1700.\",\n",
       "  'intentName': 'inform',\n",
       "  'entityLabels': [{'entityName': 'intent',\n",
       "    'startCharIndex': 12,\n",
       "    'endCharIndex': 16},\n",
       "   {'entityName': 'dst_city', 'startCharIndex': 27, 'endCharIndex': 35},\n",
       "   {'entityName': 'or_city', 'startCharIndex': 41, 'endCharIndex': 48},\n",
       "   {'entityName': 'str_date', 'startCharIndex': 52, 'endCharIndex': 77},\n",
       "   {'entityName': 'budget', 'startCharIndex': 117, 'endCharIndex': 121}]},\n",
       " {'text': 'Yes, how about going to Neverland from Caprica on August 13, 2016 for 5 adults. For this trip, my budget would be 1900.',\n",
       "  'intentName': 'inform',\n",
       "  'entityLabels': [{'entityName': 'dst_city',\n",
       "    'startCharIndex': 24,\n",
       "    'endCharIndex': 33},\n",
       "   {'entityName': 'budget', 'startCharIndex': 114, 'endCharIndex': 118},\n",
       "   {'entityName': 'or_city', 'startCharIndex': 39, 'endCharIndex': 46},\n",
       "   {'entityName': 'str_date', 'startCharIndex': 50, 'endCharIndex': 65}]},\n",
       " {'text': 'I have no flexibility for dates... but I can leave from Atlantis rather than Caprica. How about that?',\n",
       "  'intentName': 'negate',\n",
       "  'entityLabels': [{'entityName': 'or_city',\n",
       "    'startCharIndex': 56,\n",
       "    'endCharIndex': 64},\n",
       "   {'entityName': 'or_city', 'startCharIndex': 77, 'endCharIndex': 84}]},\n",
       " {'text': \"I suppose I'll speak with my husband to see if we can choose other dates, and then I'll come back to you.Thanks for your help\",\n",
       "  'intentName': 'thankyou',\n",
       "  'entityLabels': []},\n",
       " {'text': 'Hello, I am looking to book a vacation from Gotham City to Mos Eisley for $2100.',\n",
       "  'intentName': 'greeting',\n",
       "  'entityLabels': [{'entityName': 'intent',\n",
       "    'startCharIndex': 23,\n",
       "    'endCharIndex': 27},\n",
       "   {'entityName': 'dst_city', 'startCharIndex': 59, 'endCharIndex': 69},\n",
       "   {'entityName': 'or_city', 'startCharIndex': 44, 'endCharIndex': 55},\n",
       "   {'entityName': 'budget', 'startCharIndex': 75, 'endCharIndex': 79}]}]"
      ]
     },
     "execution_count": 10,
     "metadata": {},
     "output_type": "execute_result"
    }
   ],
   "source": [
    "all_data[:5]"
   ]
  },
  {
   "cell_type": "markdown",
   "metadata": {},
   "source": [
    "What are the different intentName values?"
   ]
  },
  {
   "cell_type": "code",
   "execution_count": 11,
   "metadata": {},
   "outputs": [
    {
     "data": {
      "text/plain": [
       "{'None',\n",
       " 'affirm',\n",
       " 'confirm',\n",
       " 'goodbye',\n",
       " 'greeting',\n",
       " 'inform',\n",
       " 'moreinfo',\n",
       " 'negate',\n",
       " 'request',\n",
       " 'request_alts',\n",
       " 'request_compare',\n",
       " 'switch_frame',\n",
       " 'thankyou'}"
      ]
     },
     "execution_count": 11,
     "metadata": {},
     "output_type": "execute_result"
    }
   ],
   "source": [
    "intents = set()\n",
    "for data in all_data:\n",
    "    intents.add(data['intentName'])\n",
    "intents    "
   ]
  },
  {
   "cell_type": "markdown",
   "metadata": {},
   "source": [
    "Let's have a look at examples:"
   ]
  },
  {
   "cell_type": "code",
   "execution_count": 12,
   "metadata": {},
   "outputs": [
    {
     "name": "stdout",
     "output_type": "stream",
     "text": [
      "\n",
      "INTENT: inform\n",
      "TEXT: What about Neverland on the same budget?\n",
      "NB OF ENTITY LABELS: 1\n",
      "\n",
      "INTENT: inform\n",
      "TEXT: No I cannot do another location. What if I increased my budget by $400?\n",
      "NB OF ENTITY LABELS: 1\n",
      "\n",
      "INTENT: inform\n",
      "TEXT: nor Coruscant?\n",
      "NB OF ENTITY LABELS: 1\n",
      "\n",
      "INTENT: thankyou\n",
      "TEXT: Ok thanks.\n",
      "NB OF ENTITY LABELS: 0\n",
      "\n",
      "INTENT: switch_frame\n",
      "TEXT: what is the hotel like?\n",
      "NB OF ENTITY LABELS: 0\n",
      "\n",
      "INTENT: request\n",
      "TEXT: what type of flight is that going to be?\n",
      "NB OF ENTITY LABELS: 0\n",
      "\n",
      "INTENT: thankyou\n",
      "TEXT: Thank you\n",
      "NB OF ENTITY LABELS: 0\n",
      "\n",
      "INTENT: switch_frame\n",
      "TEXT: Do you have any information on what activities are included in the package?\n",
      "NB OF ENTITY LABELS: 0\n",
      "\n",
      "INTENT: request\n",
      "TEXT: Is this a direct flight to Kingston or do we have to make a transfer? Are the tickets business class?\n",
      "NB OF ENTITY LABELS: 1\n",
      "\n",
      "INTENT: thankyou\n",
      "TEXT: Yes, I'll take it. Thank you\n",
      "NB OF ENTITY LABELS: 0\n",
      "\n",
      "INTENT: request_compare\n",
      "TEXT: How many stars do the hotels have and what's included with the hotel?\n",
      "NB OF ENTITY LABELS: 0\n",
      "\n",
      "INTENT: request_alts\n",
      "TEXT: I prefer 3 stars and above. I'm flexible with my budget, is there anything else in Columbo?\n",
      "NB OF ENTITY LABELS: 1\n",
      "\n",
      "INTENT: moreinfo\n",
      "TEXT: Porto would be great. Can you tell me more about the hotel.\n",
      "NB OF ENTITY LABELS: 1\n",
      "\n",
      "INTENT: switch_frame\n",
      "TEXT: sure lets try Vancouver then\n",
      "NB OF ENTITY LABELS: 1\n",
      "\n",
      "INTENT: greeting\n",
      "TEXT: Hey man, imma leave from Godric's Hollow on August 27, 2016 and go to Goiania. Can't pay more than 4300USD. Watcha got?\n",
      "NB OF ENTITY LABELS: 4\n",
      "\n",
      "INTENT: confirm\n",
      "TEXT: that's leaving on August 27th?\n",
      "NB OF ENTITY LABELS: 1\n",
      "\n",
      "INTENT: request_alts\n",
      "TEXT: nothing closer to the 27th?\n",
      "NB OF ENTITY LABELS: 1\n",
      "\n",
      "INTENT: greeting\n",
      "TEXT: Hi im from termina can we find a vacation that starts on the 13th?\n",
      "NB OF ENTITY LABELS: 2\n",
      "\n",
      "INTENT: request\n",
      "TEXT: How about if i leave from Vancouver where would i be able to go?\n",
      "NB OF ENTITY LABELS: 1\n",
      "\n",
      "INTENT: request_compare\n",
      "TEXT: I like the Fortaleza package. How about the Ciudad Juarez and Burlington packages, is there free wifi and parking in addition to breakfast?\n",
      "NB OF ENTITY LABELS: 2\n",
      "\n",
      "INTENT: greeting\n",
      "TEXT: Hi looking to go on vacation on the 13th of august\n",
      "NB OF ENTITY LABELS: 1\n",
      "\n",
      "INTENT: moreinfo\n",
      "TEXT: ya that sounds interesting can you tell me more about this package?\n",
      "NB OF ENTITY LABELS: 0\n",
      "\n",
      "INTENT: request_alts\n",
      "TEXT: are there any other Hotels?\n",
      "NB OF ENTITY LABELS: 0\n",
      "\n",
      "INTENT: confirm\n",
      "TEXT: can we upgrade it?\n",
      "NB OF ENTITY LABELS: 0\n",
      "\n",
      "INTENT: request_compare\n",
      "TEXT: I'd like to compare the Cairo and Punta Cana packages. What are the hotels, how many stars, free wifi, free breakfast?\n",
      "NB OF ENTITY LABELS: 2\n",
      "\n",
      "INTENT: None\n",
      "TEXT: Would you be able to tell me which airline I would be flying with?\n",
      "NB OF ENTITY LABELS: 0\n",
      "\n",
      "INTENT: None\n",
      "TEXT: Could you tell me if either of these hotels allows pets?\n",
      "NB OF ENTITY LABELS: 0\n",
      "\n",
      "INTENT: None\n",
      "TEXT: Is there an indoor pool at the hotel?\n",
      "NB OF ENTITY LABELS: 0\n",
      "\n",
      "INTENT: confirm\n",
      "TEXT: yes actually that would be wonderful can i upgrade the flight?\n",
      "NB OF ENTITY LABELS: 0\n",
      "\n",
      "INTENT: moreinfo\n",
      "TEXT: What are my options for hotels?\n",
      "NB OF ENTITY LABELS: 0\n",
      "\n",
      "INTENT: affirm\n",
      "TEXT: Yes please.\n",
      "NB OF ENTITY LABELS: 0\n",
      "\n",
      "INTENT: affirm\n",
      "TEXT: Yes, please.\n",
      "NB OF ENTITY LABELS: 0\n",
      "\n",
      "INTENT: negate\n",
      "TEXT: that's just a little over my budget... what about for 3 adults instead of 7?\n",
      "NB OF ENTITY LABELS: 0\n"
     ]
    }
   ],
   "source": [
    "sample_counts = dict.fromkeys(intents, 0)\n",
    "for data in all_data[100:300]:\n",
    "    intent = data['intentName']\n",
    "    if sample_counts[intent] < 3:\n",
    "        print('\\nINTENT:', intent)\n",
    "        print('TEXT:', data['text'])\n",
    "        print('NB OF ENTITY LABELS:', len(data['entityLabels']))\n",
    "        sample_counts[intent] += 1\n",
    "        \n",
    "\n"
   ]
  },
  {
   "cell_type": "code",
   "execution_count": 13,
   "metadata": {},
   "outputs": [
    {
     "data": {
      "text/html": [
       "<div>\n",
       "<style scoped>\n",
       "    .dataframe tbody tr th:only-of-type {\n",
       "        vertical-align: middle;\n",
       "    }\n",
       "\n",
       "    .dataframe tbody tr th {\n",
       "        vertical-align: top;\n",
       "    }\n",
       "\n",
       "    .dataframe thead th {\n",
       "        text-align: right;\n",
       "    }\n",
       "</style>\n",
       "<table border=\"1\" class=\"dataframe\">\n",
       "  <thead>\n",
       "    <tr style=\"text-align: right;\">\n",
       "      <th></th>\n",
       "      <th>text</th>\n",
       "      <th>intentName</th>\n",
       "      <th>entityLabels</th>\n",
       "    </tr>\n",
       "  </thead>\n",
       "  <tbody>\n",
       "    <tr>\n",
       "      <th>0</th>\n",
       "      <td>I'd like to book a trip to Atlantis from Capri...</td>\n",
       "      <td>inform</td>\n",
       "      <td>[{'entityName': 'intent', 'startCharIndex': 12...</td>\n",
       "    </tr>\n",
       "    <tr>\n",
       "      <th>1</th>\n",
       "      <td>Yes, how about going to Neverland from Caprica...</td>\n",
       "      <td>inform</td>\n",
       "      <td>[{'entityName': 'dst_city', 'startCharIndex': ...</td>\n",
       "    </tr>\n",
       "    <tr>\n",
       "      <th>2</th>\n",
       "      <td>I have no flexibility for dates... but I can l...</td>\n",
       "      <td>negate</td>\n",
       "      <td>[{'entityName': 'or_city', 'startCharIndex': 5...</td>\n",
       "    </tr>\n",
       "    <tr>\n",
       "      <th>3</th>\n",
       "      <td>I suppose I'll speak with my husband to see if...</td>\n",
       "      <td>thankyou</td>\n",
       "      <td>[]</td>\n",
       "    </tr>\n",
       "    <tr>\n",
       "      <th>4</th>\n",
       "      <td>Hello, I am looking to book a vacation from Go...</td>\n",
       "      <td>greeting</td>\n",
       "      <td>[{'entityName': 'intent', 'startCharIndex': 23...</td>\n",
       "    </tr>\n",
       "    <tr>\n",
       "      <th>...</th>\n",
       "      <td>...</td>\n",
       "      <td>...</td>\n",
       "      <td>...</td>\n",
       "    </tr>\n",
       "    <tr>\n",
       "      <th>10402</th>\n",
       "      <td>5 adults and 7 kids! Yup, the lot of us. We wa...</td>\n",
       "      <td>inform</td>\n",
       "      <td>[{'entityName': 'budget', 'startCharIndex': 71...</td>\n",
       "    </tr>\n",
       "    <tr>\n",
       "      <th>10403</th>\n",
       "      <td>Oh yes! Between September 12 and 26!</td>\n",
       "      <td>inform</td>\n",
       "      <td>[{'entityName': 'str_date', 'startCharIndex': ...</td>\n",
       "    </tr>\n",
       "    <tr>\n",
       "      <th>10404</th>\n",
       "      <td>That sounds amazing, and it's within those dat...</td>\n",
       "      <td>request</td>\n",
       "      <td>[]</td>\n",
       "    </tr>\n",
       "    <tr>\n",
       "      <th>10405</th>\n",
       "      <td>Ok perfect, book me!</td>\n",
       "      <td>inform</td>\n",
       "      <td>[{'entityName': 'intent', 'startCharIndex': 12...</td>\n",
       "    </tr>\n",
       "    <tr>\n",
       "      <th>10406</th>\n",
       "      <td>Thanks!</td>\n",
       "      <td>thankyou</td>\n",
       "      <td>[]</td>\n",
       "    </tr>\n",
       "  </tbody>\n",
       "</table>\n",
       "<p>10407 rows × 3 columns</p>\n",
       "</div>"
      ],
      "text/plain": [
       "                                                    text intentName  \\\n",
       "0      I'd like to book a trip to Atlantis from Capri...     inform   \n",
       "1      Yes, how about going to Neverland from Caprica...     inform   \n",
       "2      I have no flexibility for dates... but I can l...     negate   \n",
       "3      I suppose I'll speak with my husband to see if...   thankyou   \n",
       "4      Hello, I am looking to book a vacation from Go...   greeting   \n",
       "...                                                  ...        ...   \n",
       "10402  5 adults and 7 kids! Yup, the lot of us. We wa...     inform   \n",
       "10403               Oh yes! Between September 12 and 26!     inform   \n",
       "10404  That sounds amazing, and it's within those dat...    request   \n",
       "10405                               Ok perfect, book me!     inform   \n",
       "10406                                            Thanks!   thankyou   \n",
       "\n",
       "                                            entityLabels  \n",
       "0      [{'entityName': 'intent', 'startCharIndex': 12...  \n",
       "1      [{'entityName': 'dst_city', 'startCharIndex': ...  \n",
       "2      [{'entityName': 'or_city', 'startCharIndex': 5...  \n",
       "3                                                     []  \n",
       "4      [{'entityName': 'intent', 'startCharIndex': 23...  \n",
       "...                                                  ...  \n",
       "10402  [{'entityName': 'budget', 'startCharIndex': 71...  \n",
       "10403  [{'entityName': 'str_date', 'startCharIndex': ...  \n",
       "10404                                                 []  \n",
       "10405  [{'entityName': 'intent', 'startCharIndex': 12...  \n",
       "10406                                                 []  \n",
       "\n",
       "[10407 rows x 3 columns]"
      ]
     },
     "execution_count": 13,
     "metadata": {},
     "output_type": "execute_result"
    }
   ],
   "source": [
    "all_data_df = pd.DataFrame(all_data)\n",
    "all_data_df"
   ]
  },
  {
   "cell_type": "code",
   "execution_count": 14,
   "metadata": {},
   "outputs": [
    {
     "data": {
      "text/html": [
       "<div>\n",
       "<style scoped>\n",
       "    .dataframe tbody tr th:only-of-type {\n",
       "        vertical-align: middle;\n",
       "    }\n",
       "\n",
       "    .dataframe tbody tr th {\n",
       "        vertical-align: top;\n",
       "    }\n",
       "\n",
       "    .dataframe thead th {\n",
       "        text-align: right;\n",
       "    }\n",
       "</style>\n",
       "<table border=\"1\" class=\"dataframe\">\n",
       "  <thead>\n",
       "    <tr style=\"text-align: right;\">\n",
       "      <th></th>\n",
       "      <th>text</th>\n",
       "      <th>intentName</th>\n",
       "      <th>entityLabels</th>\n",
       "    </tr>\n",
       "  </thead>\n",
       "  <tbody>\n",
       "    <tr>\n",
       "      <th>count</th>\n",
       "      <td>10407</td>\n",
       "      <td>10407</td>\n",
       "      <td>10407</td>\n",
       "    </tr>\n",
       "    <tr>\n",
       "      <th>unique</th>\n",
       "      <td>9695</td>\n",
       "      <td>13</td>\n",
       "      <td>3565</td>\n",
       "    </tr>\n",
       "    <tr>\n",
       "      <th>top</th>\n",
       "      <td>Thanks!</td>\n",
       "      <td>inform</td>\n",
       "      <td>[]</td>\n",
       "    </tr>\n",
       "    <tr>\n",
       "      <th>freq</th>\n",
       "      <td>73</td>\n",
       "      <td>6162</td>\n",
       "      <td>4803</td>\n",
       "    </tr>\n",
       "  </tbody>\n",
       "</table>\n",
       "</div>"
      ],
      "text/plain": [
       "           text intentName entityLabels\n",
       "count     10407      10407        10407\n",
       "unique     9695         13         3565\n",
       "top     Thanks!     inform           []\n",
       "freq         73       6162         4803"
      ]
     },
     "execution_count": 14,
     "metadata": {},
     "output_type": "execute_result"
    }
   ],
   "source": [
    "all_data_df.describe(include='all')"
   ]
  },
  {
   "cell_type": "markdown",
   "metadata": {},
   "source": [
    "We do not need all the utterances to train LUIS: according to the documentation, we can train LUIS on a subset of the utterances, provided that we have a good understanding of the intent. To do so, we'll use the intentName value to filter the utterances and keep those that convey most information: i.e. those where all the entities are present.\n",
    "\n",
    "Let's extract which entities are present in the utterances:"
   ]
  },
  {
   "cell_type": "code",
   "execution_count": 15,
   "metadata": {},
   "outputs": [],
   "source": [
    "def available_entities(labels):\n",
    "    \"\"\"\n",
    "    Return list of available entities in data.\n",
    "    \"\"\"\n",
    "\n",
    "    entities_in_labels = dict.fromkeys(entities, False)\n",
    "    for label in labels:\n",
    "        entities_in_labels[label['entityName']] = True\n",
    "    return entities_in_labels    "
   ]
  },
  {
   "cell_type": "code",
   "execution_count": 16,
   "metadata": {},
   "outputs": [
    {
     "data": {
      "text/html": [
       "<div>\n",
       "<style scoped>\n",
       "    .dataframe tbody tr th:only-of-type {\n",
       "        vertical-align: middle;\n",
       "    }\n",
       "\n",
       "    .dataframe tbody tr th {\n",
       "        vertical-align: top;\n",
       "    }\n",
       "\n",
       "    .dataframe thead th {\n",
       "        text-align: right;\n",
       "    }\n",
       "</style>\n",
       "<table border=\"1\" class=\"dataframe\">\n",
       "  <thead>\n",
       "    <tr style=\"text-align: right;\">\n",
       "      <th></th>\n",
       "      <th>text</th>\n",
       "      <th>intentName</th>\n",
       "      <th>entityLabels</th>\n",
       "      <th>budget</th>\n",
       "      <th>or_city</th>\n",
       "      <th>dst_city</th>\n",
       "      <th>str_date</th>\n",
       "      <th>end_date</th>\n",
       "      <th>intent</th>\n",
       "    </tr>\n",
       "  </thead>\n",
       "  <tbody>\n",
       "    <tr>\n",
       "      <th>0</th>\n",
       "      <td>I'd like to book a trip to Atlantis from Capri...</td>\n",
       "      <td>inform</td>\n",
       "      <td>[{'entityName': 'intent', 'startCharIndex': 12...</td>\n",
       "      <td>True</td>\n",
       "      <td>True</td>\n",
       "      <td>True</td>\n",
       "      <td>True</td>\n",
       "      <td>False</td>\n",
       "      <td>True</td>\n",
       "    </tr>\n",
       "    <tr>\n",
       "      <th>1</th>\n",
       "      <td>Yes, how about going to Neverland from Caprica...</td>\n",
       "      <td>inform</td>\n",
       "      <td>[{'entityName': 'dst_city', 'startCharIndex': ...</td>\n",
       "      <td>True</td>\n",
       "      <td>True</td>\n",
       "      <td>True</td>\n",
       "      <td>True</td>\n",
       "      <td>False</td>\n",
       "      <td>False</td>\n",
       "    </tr>\n",
       "    <tr>\n",
       "      <th>2</th>\n",
       "      <td>I have no flexibility for dates... but I can l...</td>\n",
       "      <td>negate</td>\n",
       "      <td>[{'entityName': 'or_city', 'startCharIndex': 5...</td>\n",
       "      <td>False</td>\n",
       "      <td>True</td>\n",
       "      <td>False</td>\n",
       "      <td>False</td>\n",
       "      <td>False</td>\n",
       "      <td>False</td>\n",
       "    </tr>\n",
       "    <tr>\n",
       "      <th>3</th>\n",
       "      <td>I suppose I'll speak with my husband to see if...</td>\n",
       "      <td>thankyou</td>\n",
       "      <td>[]</td>\n",
       "      <td>False</td>\n",
       "      <td>False</td>\n",
       "      <td>False</td>\n",
       "      <td>False</td>\n",
       "      <td>False</td>\n",
       "      <td>False</td>\n",
       "    </tr>\n",
       "    <tr>\n",
       "      <th>4</th>\n",
       "      <td>Hello, I am looking to book a vacation from Go...</td>\n",
       "      <td>greeting</td>\n",
       "      <td>[{'entityName': 'intent', 'startCharIndex': 23...</td>\n",
       "      <td>True</td>\n",
       "      <td>True</td>\n",
       "      <td>True</td>\n",
       "      <td>False</td>\n",
       "      <td>False</td>\n",
       "      <td>True</td>\n",
       "    </tr>\n",
       "    <tr>\n",
       "      <th>...</th>\n",
       "      <td>...</td>\n",
       "      <td>...</td>\n",
       "      <td>...</td>\n",
       "      <td>...</td>\n",
       "      <td>...</td>\n",
       "      <td>...</td>\n",
       "      <td>...</td>\n",
       "      <td>...</td>\n",
       "      <td>...</td>\n",
       "    </tr>\n",
       "    <tr>\n",
       "      <th>10402</th>\n",
       "      <td>5 adults and 7 kids! Yup, the lot of us. We wa...</td>\n",
       "      <td>inform</td>\n",
       "      <td>[{'entityName': 'budget', 'startCharIndex': 71...</td>\n",
       "      <td>True</td>\n",
       "      <td>False</td>\n",
       "      <td>False</td>\n",
       "      <td>False</td>\n",
       "      <td>False</td>\n",
       "      <td>False</td>\n",
       "    </tr>\n",
       "    <tr>\n",
       "      <th>10403</th>\n",
       "      <td>Oh yes! Between September 12 and 26!</td>\n",
       "      <td>inform</td>\n",
       "      <td>[{'entityName': 'str_date', 'startCharIndex': ...</td>\n",
       "      <td>False</td>\n",
       "      <td>False</td>\n",
       "      <td>False</td>\n",
       "      <td>True</td>\n",
       "      <td>True</td>\n",
       "      <td>False</td>\n",
       "    </tr>\n",
       "    <tr>\n",
       "      <th>10404</th>\n",
       "      <td>That sounds amazing, and it's within those dat...</td>\n",
       "      <td>request</td>\n",
       "      <td>[]</td>\n",
       "      <td>False</td>\n",
       "      <td>False</td>\n",
       "      <td>False</td>\n",
       "      <td>False</td>\n",
       "      <td>False</td>\n",
       "      <td>False</td>\n",
       "    </tr>\n",
       "    <tr>\n",
       "      <th>10405</th>\n",
       "      <td>Ok perfect, book me!</td>\n",
       "      <td>inform</td>\n",
       "      <td>[{'entityName': 'intent', 'startCharIndex': 12...</td>\n",
       "      <td>False</td>\n",
       "      <td>False</td>\n",
       "      <td>False</td>\n",
       "      <td>False</td>\n",
       "      <td>False</td>\n",
       "      <td>True</td>\n",
       "    </tr>\n",
       "    <tr>\n",
       "      <th>10406</th>\n",
       "      <td>Thanks!</td>\n",
       "      <td>thankyou</td>\n",
       "      <td>[]</td>\n",
       "      <td>False</td>\n",
       "      <td>False</td>\n",
       "      <td>False</td>\n",
       "      <td>False</td>\n",
       "      <td>False</td>\n",
       "      <td>False</td>\n",
       "    </tr>\n",
       "  </tbody>\n",
       "</table>\n",
       "<p>10407 rows × 9 columns</p>\n",
       "</div>"
      ],
      "text/plain": [
       "                                                    text intentName  \\\n",
       "0      I'd like to book a trip to Atlantis from Capri...     inform   \n",
       "1      Yes, how about going to Neverland from Caprica...     inform   \n",
       "2      I have no flexibility for dates... but I can l...     negate   \n",
       "3      I suppose I'll speak with my husband to see if...   thankyou   \n",
       "4      Hello, I am looking to book a vacation from Go...   greeting   \n",
       "...                                                  ...        ...   \n",
       "10402  5 adults and 7 kids! Yup, the lot of us. We wa...     inform   \n",
       "10403               Oh yes! Between September 12 and 26!     inform   \n",
       "10404  That sounds amazing, and it's within those dat...    request   \n",
       "10405                               Ok perfect, book me!     inform   \n",
       "10406                                            Thanks!   thankyou   \n",
       "\n",
       "                                            entityLabels  budget  or_city  \\\n",
       "0      [{'entityName': 'intent', 'startCharIndex': 12...    True     True   \n",
       "1      [{'entityName': 'dst_city', 'startCharIndex': ...    True     True   \n",
       "2      [{'entityName': 'or_city', 'startCharIndex': 5...   False     True   \n",
       "3                                                     []   False    False   \n",
       "4      [{'entityName': 'intent', 'startCharIndex': 23...    True     True   \n",
       "...                                                  ...     ...      ...   \n",
       "10402  [{'entityName': 'budget', 'startCharIndex': 71...    True    False   \n",
       "10403  [{'entityName': 'str_date', 'startCharIndex': ...   False    False   \n",
       "10404                                                 []   False    False   \n",
       "10405  [{'entityName': 'intent', 'startCharIndex': 12...   False    False   \n",
       "10406                                                 []   False    False   \n",
       "\n",
       "       dst_city  str_date  end_date  intent  \n",
       "0          True      True     False    True  \n",
       "1          True      True     False   False  \n",
       "2         False     False     False   False  \n",
       "3         False     False     False   False  \n",
       "4          True     False     False    True  \n",
       "...         ...       ...       ...     ...  \n",
       "10402     False     False     False   False  \n",
       "10403     False      True      True   False  \n",
       "10404     False     False     False   False  \n",
       "10405     False     False     False    True  \n",
       "10406     False     False     False   False  \n",
       "\n",
       "[10407 rows x 9 columns]"
      ]
     },
     "execution_count": 16,
     "metadata": {},
     "output_type": "execute_result"
    }
   ],
   "source": [
    "all_available_entities = [available_entities(labels) for labels in all_data_df['entityLabels']]\n",
    "all_data_df = pd.concat((all_data_df, pd.DataFrame(all_available_entities)), axis=1)\n",
    "all_data_df"
   ]
  },
  {
   "cell_type": "code",
   "execution_count": 17,
   "metadata": {},
   "outputs": [],
   "source": [
    "all_data_df['total'] = all_data_df[entities].astype(int).sum(axis=1)"
   ]
  },
  {
   "cell_type": "code",
   "execution_count": 18,
   "metadata": {},
   "outputs": [
    {
     "data": {
      "text/plain": [
       "(54, 10)"
      ]
     },
     "execution_count": 18,
     "metadata": {},
     "output_type": "execute_result"
    }
   ],
   "source": [
    "complete_samples = all_data_df[all_data_df['total']>4]\n",
    "complete_samples.shape"
   ]
  },
  {
   "cell_type": "code",
   "execution_count": 19,
   "metadata": {},
   "outputs": [
    {
     "data": {
      "text/html": [
       "<div>\n",
       "<style scoped>\n",
       "    .dataframe tbody tr th:only-of-type {\n",
       "        vertical-align: middle;\n",
       "    }\n",
       "\n",
       "    .dataframe tbody tr th {\n",
       "        vertical-align: top;\n",
       "    }\n",
       "\n",
       "    .dataframe thead th {\n",
       "        text-align: right;\n",
       "    }\n",
       "</style>\n",
       "<table border=\"1\" class=\"dataframe\">\n",
       "  <thead>\n",
       "    <tr style=\"text-align: right;\">\n",
       "      <th></th>\n",
       "      <th>text</th>\n",
       "      <th>intentName</th>\n",
       "      <th>entityLabels</th>\n",
       "      <th>budget</th>\n",
       "      <th>or_city</th>\n",
       "      <th>dst_city</th>\n",
       "      <th>str_date</th>\n",
       "      <th>end_date</th>\n",
       "      <th>intent</th>\n",
       "      <th>total</th>\n",
       "    </tr>\n",
       "  </thead>\n",
       "  <tbody>\n",
       "    <tr>\n",
       "      <th>0</th>\n",
       "      <td>I'd like to book a trip to Atlantis from Capri...</td>\n",
       "      <td>inform</td>\n",
       "      <td>[{'entityName': 'intent', 'startCharIndex': 12...</td>\n",
       "      <td>True</td>\n",
       "      <td>True</td>\n",
       "      <td>True</td>\n",
       "      <td>True</td>\n",
       "      <td>False</td>\n",
       "      <td>True</td>\n",
       "      <td>5</td>\n",
       "    </tr>\n",
       "    <tr>\n",
       "      <th>274</th>\n",
       "      <td>I would like a vacation for one in Mannheim fr...</td>\n",
       "      <td>inform</td>\n",
       "      <td>[{'entityName': 'dst_city', 'startCharIndex': ...</td>\n",
       "      <td>True</td>\n",
       "      <td>True</td>\n",
       "      <td>True</td>\n",
       "      <td>True</td>\n",
       "      <td>True</td>\n",
       "      <td>False</td>\n",
       "      <td>5</td>\n",
       "    </tr>\n",
       "    <tr>\n",
       "      <th>1034</th>\n",
       "      <td>Hey, I'm looking to book my honeymoon from Hou...</td>\n",
       "      <td>inform</td>\n",
       "      <td>[{'entityName': 'intent', 'startCharIndex': 20...</td>\n",
       "      <td>True</td>\n",
       "      <td>True</td>\n",
       "      <td>True</td>\n",
       "      <td>True</td>\n",
       "      <td>False</td>\n",
       "      <td>True</td>\n",
       "      <td>5</td>\n",
       "    </tr>\n",
       "    <tr>\n",
       "      <th>1097</th>\n",
       "      <td>Hi. I'd like to book a trip from Nagoya to Pho...</td>\n",
       "      <td>inform</td>\n",
       "      <td>[{'entityName': 'intent', 'startCharIndex': 16...</td>\n",
       "      <td>False</td>\n",
       "      <td>True</td>\n",
       "      <td>True</td>\n",
       "      <td>True</td>\n",
       "      <td>True</td>\n",
       "      <td>True</td>\n",
       "      <td>5</td>\n",
       "    </tr>\n",
       "    <tr>\n",
       "      <th>1119</th>\n",
       "      <td>I'm looking to book a trip to Chicago from Bra...</td>\n",
       "      <td>inform</td>\n",
       "      <td>[{'entityName': 'intent', 'startCharIndex': 15...</td>\n",
       "      <td>False</td>\n",
       "      <td>True</td>\n",
       "      <td>True</td>\n",
       "      <td>True</td>\n",
       "      <td>True</td>\n",
       "      <td>True</td>\n",
       "      <td>5</td>\n",
       "    </tr>\n",
       "  </tbody>\n",
       "</table>\n",
       "</div>"
      ],
      "text/plain": [
       "                                                   text intentName  \\\n",
       "0     I'd like to book a trip to Atlantis from Capri...     inform   \n",
       "274   I would like a vacation for one in Mannheim fr...     inform   \n",
       "1034  Hey, I'm looking to book my honeymoon from Hou...     inform   \n",
       "1097  Hi. I'd like to book a trip from Nagoya to Pho...     inform   \n",
       "1119  I'm looking to book a trip to Chicago from Bra...     inform   \n",
       "\n",
       "                                           entityLabels  budget  or_city  \\\n",
       "0     [{'entityName': 'intent', 'startCharIndex': 12...    True     True   \n",
       "274   [{'entityName': 'dst_city', 'startCharIndex': ...    True     True   \n",
       "1034  [{'entityName': 'intent', 'startCharIndex': 20...    True     True   \n",
       "1097  [{'entityName': 'intent', 'startCharIndex': 16...   False     True   \n",
       "1119  [{'entityName': 'intent', 'startCharIndex': 15...   False     True   \n",
       "\n",
       "      dst_city  str_date  end_date  intent  total  \n",
       "0         True      True     False    True      5  \n",
       "274       True      True      True   False      5  \n",
       "1034      True      True     False    True      5  \n",
       "1097      True      True      True    True      5  \n",
       "1119      True      True      True    True      5  "
      ]
     },
     "execution_count": 19,
     "metadata": {},
     "output_type": "execute_result"
    }
   ],
   "source": [
    "complete_samples.head()"
   ]
  },
  {
   "cell_type": "code",
   "execution_count": 20,
   "metadata": {},
   "outputs": [],
   "source": [
    "train_samples_df = complete_samples.sample(frac=0.5, random_state=42)\n",
    "test_samples_df = complete_samples.drop(train_samples_df.index)"
   ]
  },
  {
   "cell_type": "code",
   "execution_count": 21,
   "metadata": {},
   "outputs": [],
   "source": [
    "train_data = [all_data[i] for i in train_samples_df.index]\n",
    "test_data = [all_data[i] for i in test_samples_df.index]"
   ]
  },
  {
   "cell_type": "code",
   "execution_count": 22,
   "metadata": {},
   "outputs": [
    {
     "data": {
      "text/plain": [
       "[{'text': \"You can help me by booking a flight out of Cordoba to Salvador for me and my friend. Leaving ASAP and back before September 8. Oh and I'll need the best hotels you can get\",\n",
       "  'intentName': 'inform',\n",
       "  'entityLabels': [{'entityName': 'intent',\n",
       "    'startCharIndex': 19,\n",
       "    'endCharIndex': 23},\n",
       "   {'entityName': 'or_city', 'startCharIndex': 43, 'endCharIndex': 50},\n",
       "   {'entityName': 'dst_city', 'startCharIndex': 54, 'endCharIndex': 62},\n",
       "   {'entityName': 'str_date', 'startCharIndex': 93, 'endCharIndex': 97},\n",
       "   {'entityName': 'end_date', 'startCharIndex': 114, 'endCharIndex': 125}]},\n",
       " {'text': 'rome to goiania and i will go from september eight until twenty five\\nand i have 4900 dollars in budget',\n",
       "  'intentName': 'inform',\n",
       "  'entityLabels': [{'entityName': 'or_city',\n",
       "    'startCharIndex': 0,\n",
       "    'endCharIndex': 4},\n",
       "   {'entityName': 'dst_city', 'startCharIndex': 8, 'endCharIndex': 15},\n",
       "   {'entityName': 'str_date', 'startCharIndex': 35, 'endCharIndex': 50},\n",
       "   {'entityName': 'end_date', 'startCharIndex': 57, 'endCharIndex': 68},\n",
       "   {'entityName': 'budget', 'startCharIndex': 80, 'endCharIndex': 84}]},\n",
       " {'text': 'ay i need to get my parents out of SL this month ok??? can u book them somewhere from St. Louis til the 28th for 4300 bucks and get em out of here today if u can',\n",
       "  'intentName': 'inform',\n",
       "  'entityLabels': [{'entityName': 'intent',\n",
       "    'startCharIndex': 61,\n",
       "    'endCharIndex': 65},\n",
       "   {'entityName': 'or_city', 'startCharIndex': 86, 'endCharIndex': 95},\n",
       "   {'entityName': 'end_date', 'startCharIndex': 104, 'endCharIndex': 108},\n",
       "   {'entityName': 'str_date', 'startCharIndex': 147, 'endCharIndex': 152},\n",
       "   {'entityName': 'budget', 'startCharIndex': 113, 'endCharIndex': 117},\n",
       "   {'entityName': 'or_city', 'startCharIndex': 35, 'endCharIndex': 37}]},\n",
       " {'text': \"I'd like to book a trip for myself, from Tel Aviv to Tampa from, departing Aug 21, returning Aug 24. Do you have such a flight for me?\",\n",
       "  'intentName': 'inform',\n",
       "  'entityLabels': [{'entityName': 'intent',\n",
       "    'startCharIndex': 12,\n",
       "    'endCharIndex': 16},\n",
       "   {'entityName': 'or_city', 'startCharIndex': 41, 'endCharIndex': 49},\n",
       "   {'entityName': 'dst_city', 'startCharIndex': 53, 'endCharIndex': 58},\n",
       "   {'entityName': 'str_date', 'startCharIndex': 75, 'endCharIndex': 81},\n",
       "   {'entityName': 'end_date', 'startCharIndex': 93, 'endCharIndex': 99}]},\n",
       " {'text': 'hi. paris to curitiba on september 24 please\\ni can spend 2300 dollars and must be home by 27th',\n",
       "  'intentName': 'inform',\n",
       "  'entityLabels': [{'entityName': 'or_city',\n",
       "    'startCharIndex': 4,\n",
       "    'endCharIndex': 9},\n",
       "   {'entityName': 'dst_city', 'startCharIndex': 13, 'endCharIndex': 21},\n",
       "   {'entityName': 'str_date', 'startCharIndex': 25, 'endCharIndex': 37},\n",
       "   {'entityName': 'budget', 'startCharIndex': 57, 'endCharIndex': 69},\n",
       "   {'entityName': 'end_date', 'startCharIndex': 90, 'endCharIndex': 94}]},\n",
       " {'text': 'Hey there, I’m looking to check out a few destinations to see if they’ll be appropriate for me to accept an internship in. I want to travel from August 27-30, just enough to get a taste of each location.\\nI am leaving from Monterrey and I would like to spend 5200 at most, as my internship is unpaid.\\nIs there anything available to Kobe for these dates and price?',\n",
       "  'intentName': 'inform',\n",
       "  'entityLabels': [{'entityName': 'dst_city',\n",
       "    'startCharIndex': 331,\n",
       "    'endCharIndex': 335},\n",
       "   {'entityName': 'or_city', 'startCharIndex': 222, 'endCharIndex': 231},\n",
       "   {'entityName': 'budget', 'startCharIndex': 258, 'endCharIndex': 262},\n",
       "   {'entityName': 'str_date', 'startCharIndex': 145, 'endCharIndex': 154},\n",
       "   {'entityName': 'end_date', 'startCharIndex': 155, 'endCharIndex': 157}]},\n",
       " {'text': 'I wanna go on a vacation with my wife and 4 kids. our budget is 3300 and we want to travel between september 6th and 21st. We were looking at going to Denver from Dallas.',\n",
       "  'intentName': 'inform',\n",
       "  'entityLabels': [{'entityName': 'budget',\n",
       "    'startCharIndex': 64,\n",
       "    'endCharIndex': 68},\n",
       "   {'entityName': 'str_date', 'startCharIndex': 99, 'endCharIndex': 112},\n",
       "   {'entityName': 'end_date', 'startCharIndex': 117, 'endCharIndex': 121},\n",
       "   {'entityName': 'dst_city', 'startCharIndex': 151, 'endCharIndex': 157},\n",
       "   {'entityName': 'or_city', 'startCharIndex': 163, 'endCharIndex': 169}]},\n",
       " {'text': 'Me and 3 friends are going on fall break and want to go to San Diego from Calgary from the 8th to 25th and we have 14000 between us.',\n",
       "  'intentName': 'inform',\n",
       "  'entityLabels': [{'entityName': 'dst_city',\n",
       "    'startCharIndex': 59,\n",
       "    'endCharIndex': 68},\n",
       "   {'entityName': 'or_city', 'startCharIndex': 74, 'endCharIndex': 81},\n",
       "   {'entityName': 'str_date', 'startCharIndex': 91, 'endCharIndex': 94},\n",
       "   {'entityName': 'end_date', 'startCharIndex': 98, 'endCharIndex': 102},\n",
       "   {'entityName': 'budget', 'startCharIndex': 115, 'endCharIndex': 120}]},\n",
       " {'text': \"Hi. I'd like to book a trip from Nagoya to Phoenix from August 15th to August 29th.\",\n",
       "  'intentName': 'inform',\n",
       "  'entityLabels': [{'entityName': 'intent',\n",
       "    'startCharIndex': 16,\n",
       "    'endCharIndex': 20},\n",
       "   {'entityName': 'or_city', 'startCharIndex': 33, 'endCharIndex': 39},\n",
       "   {'entityName': 'dst_city', 'startCharIndex': 43, 'endCharIndex': 50},\n",
       "   {'entityName': 'str_date', 'startCharIndex': 56, 'endCharIndex': 67},\n",
       "   {'entityName': 'end_date', 'startCharIndex': 71, 'endCharIndex': 82}]},\n",
       " {'text': \"we've saved up 3700 and have a break between sept 8 to 22. thinking of going to kochi, from sao paulo\",\n",
       "  'intentName': 'inform',\n",
       "  'entityLabels': [{'entityName': 'budget',\n",
       "    'startCharIndex': 15,\n",
       "    'endCharIndex': 19},\n",
       "   {'entityName': 'str_date', 'startCharIndex': 45, 'endCharIndex': 51},\n",
       "   {'entityName': 'end_date', 'startCharIndex': 55, 'endCharIndex': 57},\n",
       "   {'entityName': 'dst_city', 'startCharIndex': 80, 'endCharIndex': 85},\n",
       "   {'entityName': 'or_city', 'startCharIndex': 92, 'endCharIndex': 101}]},\n",
       " {'text': 'toronto to calgary september 9 to september 13\\n2600 dollars or less',\n",
       "  'intentName': 'inform',\n",
       "  'entityLabels': [{'entityName': 'or_city',\n",
       "    'startCharIndex': 0,\n",
       "    'endCharIndex': 7},\n",
       "   {'entityName': 'dst_city', 'startCharIndex': 11, 'endCharIndex': 18},\n",
       "   {'entityName': 'str_date', 'startCharIndex': 19, 'endCharIndex': 30},\n",
       "   {'entityName': 'end_date', 'startCharIndex': 34, 'endCharIndex': 46},\n",
       "   {'entityName': 'budget', 'startCharIndex': 47, 'endCharIndex': 59}]},\n",
       " {'text': 'Hello, book me a trip from San Antonio to Phoenix leaving September 9th and returning September 11th please.',\n",
       "  'intentName': 'inform',\n",
       "  'entityLabels': [{'entityName': 'intent',\n",
       "    'startCharIndex': 7,\n",
       "    'endCharIndex': 11},\n",
       "   {'entityName': 'or_city', 'startCharIndex': 27, 'endCharIndex': 38},\n",
       "   {'entityName': 'dst_city', 'startCharIndex': 42, 'endCharIndex': 49},\n",
       "   {'entityName': 'str_date', 'startCharIndex': 58, 'endCharIndex': 71},\n",
       "   {'entityName': 'end_date', 'startCharIndex': 86, 'endCharIndex': 100}]},\n",
       " {'text': 'I’m looking to check out san fran and I currently live in Rome I have a couple weeks from Sept 5-22 off to check out Sanf\\nbut only 2800 USD to spend',\n",
       "  'intentName': 'inform',\n",
       "  'entityLabels': [{'entityName': 'dst_city',\n",
       "    'startCharIndex': 25,\n",
       "    'endCharIndex': 33},\n",
       "   {'entityName': 'or_city', 'startCharIndex': 58, 'endCharIndex': 62},\n",
       "   {'entityName': 'str_date', 'startCharIndex': 90, 'endCharIndex': 96},\n",
       "   {'entityName': 'end_date', 'startCharIndex': 97, 'endCharIndex': 99},\n",
       "   {'entityName': 'budget', 'startCharIndex': 131, 'endCharIndex': 135}]},\n",
       " {'text': \"Good day, I'm located in Kobe and I have been offered a possible internship in Baltimore at the heart of the action! I need you to book a flight and hotel package for me sometime between August 26 and September 10.\",\n",
       "  'intentName': 'inform',\n",
       "  'entityLabels': [{'entityName': 'intent',\n",
       "    'startCharIndex': 131,\n",
       "    'endCharIndex': 135},\n",
       "   {'entityName': 'or_city', 'startCharIndex': 25, 'endCharIndex': 29},\n",
       "   {'entityName': 'dst_city', 'startCharIndex': 79, 'endCharIndex': 88},\n",
       "   {'entityName': 'str_date', 'startCharIndex': 187, 'endCharIndex': 196},\n",
       "   {'entityName': 'end_date', 'startCharIndex': 201, 'endCharIndex': 213}]},\n",
       " {'text': 'Hi there. I’d like to book a trip for 10 adults from August 29 to Sept 1, from Tofino to Vancouver',\n",
       "  'intentName': 'inform',\n",
       "  'entityLabels': [{'entityName': 'intent',\n",
       "    'startCharIndex': 22,\n",
       "    'endCharIndex': 26},\n",
       "   {'entityName': 'str_date', 'startCharIndex': 53, 'endCharIndex': 62},\n",
       "   {'entityName': 'end_date', 'startCharIndex': 66, 'endCharIndex': 72},\n",
       "   {'entityName': 'or_city', 'startCharIndex': 79, 'endCharIndex': 85},\n",
       "   {'entityName': 'dst_city', 'startCharIndex': 89, 'endCharIndex': 98}]},\n",
       " {'text': \"I'm looking to book a trip to Chicago from Brasilia. I booked work off from August 27th to September 10th and im looking for a 7 day trip\",\n",
       "  'intentName': 'inform',\n",
       "  'entityLabels': [{'entityName': 'intent',\n",
       "    'startCharIndex': 15,\n",
       "    'endCharIndex': 19},\n",
       "   {'entityName': 'dst_city', 'startCharIndex': 30, 'endCharIndex': 37},\n",
       "   {'entityName': 'or_city', 'startCharIndex': 43, 'endCharIndex': 51},\n",
       "   {'entityName': 'str_date', 'startCharIndex': 76, 'endCharIndex': 87},\n",
       "   {'entityName': 'end_date', 'startCharIndex': 91, 'endCharIndex': 105}]},\n",
       " {'text': 'HAve 2500 to try to get to my internship. Need to leave Phoenix between September 8 and 17. Could that get me tickets to Kingston?',\n",
       "  'intentName': 'inform',\n",
       "  'entityLabels': [{'entityName': 'budget',\n",
       "    'startCharIndex': 5,\n",
       "    'endCharIndex': 9},\n",
       "   {'entityName': 'or_city', 'startCharIndex': 56, 'endCharIndex': 63},\n",
       "   {'entityName': 'str_date', 'startCharIndex': 72, 'endCharIndex': 83},\n",
       "   {'entityName': 'end_date', 'startCharIndex': 88, 'endCharIndex': 90},\n",
       "   {'entityName': 'dst_city', 'startCharIndex': 121, 'endCharIndex': 129}]},\n",
       " {'text': 'hello. im getting married september 2 in Kobe and need to book a honeymoon after that\\nlooking at going to Kingston for a week\\n5000 dollars max please',\n",
       "  'intentName': 'inform',\n",
       "  'entityLabels': [{'entityName': 'intent',\n",
       "    'startCharIndex': 58,\n",
       "    'endCharIndex': 62},\n",
       "   {'entityName': 'str_date', 'startCharIndex': 26, 'endCharIndex': 37},\n",
       "   {'entityName': 'or_city', 'startCharIndex': 41, 'endCharIndex': 45},\n",
       "   {'entityName': 'dst_city', 'startCharIndex': 106, 'endCharIndex': 114},\n",
       "   {'entityName': 'budget', 'startCharIndex': 126, 'endCharIndex': 138}]},\n",
       " {'text': 'I want to go to denver from frankfurt for under 2900 from september 8th to 13th',\n",
       "  'intentName': 'inform',\n",
       "  'entityLabels': [{'entityName': 'dst_city',\n",
       "    'startCharIndex': 16,\n",
       "    'endCharIndex': 22},\n",
       "   {'entityName': 'or_city', 'startCharIndex': 28, 'endCharIndex': 37},\n",
       "   {'entityName': 'budget', 'startCharIndex': 48, 'endCharIndex': 52},\n",
       "   {'entityName': 'str_date', 'startCharIndex': 58, 'endCharIndex': 71},\n",
       "   {'entityName': 'end_date', 'startCharIndex': 75, 'endCharIndex': 79}]},\n",
       " {'text': 'I need to be in Cleveland at some point between September 6 to 16. Burlington being the point of departure\\nCan you do this for 2100?',\n",
       "  'intentName': 'inform',\n",
       "  'entityLabels': [{'entityName': 'dst_city',\n",
       "    'startCharIndex': 16,\n",
       "    'endCharIndex': 25},\n",
       "   {'entityName': 'or_city', 'startCharIndex': 67, 'endCharIndex': 77},\n",
       "   {'entityName': 'str_date', 'startCharIndex': 48, 'endCharIndex': 59},\n",
       "   {'entityName': 'end_date', 'startCharIndex': 63, 'endCharIndex': 65},\n",
       "   {'entityName': 'budget', 'startCharIndex': 127, 'endCharIndex': 131}]},\n",
       " {'text': 'Take me from Beijing to Salvador from the 24th to 27th for 2500 or under',\n",
       "  'intentName': 'inform',\n",
       "  'entityLabels': [{'entityName': 'or_city',\n",
       "    'startCharIndex': 13,\n",
       "    'endCharIndex': 20},\n",
       "   {'entityName': 'dst_city', 'startCharIndex': 24, 'endCharIndex': 32},\n",
       "   {'entityName': 'str_date', 'startCharIndex': 42, 'endCharIndex': 46},\n",
       "   {'entityName': 'end_date', 'startCharIndex': 50, 'endCharIndex': 54},\n",
       "   {'entityName': 'budget', 'startCharIndex': 59, 'endCharIndex': 63}]},\n",
       " {'text': \"I would like to go on a trip with my wife and 2 kids. Our budget is 3700 and we'd like to go between august 27th and september 10th. I've been thinking about going to Curitiba from Paris\",\n",
       "  'intentName': 'inform',\n",
       "  'entityLabels': [{'entityName': 'budget',\n",
       "    'startCharIndex': 68,\n",
       "    'endCharIndex': 72},\n",
       "   {'entityName': 'str_date', 'startCharIndex': 101, 'endCharIndex': 112},\n",
       "   {'entityName': 'end_date', 'startCharIndex': 117, 'endCharIndex': 131},\n",
       "   {'entityName': 'or_city', 'startCharIndex': 181, 'endCharIndex': 186},\n",
       "   {'entityName': 'dst_city', 'startCharIndex': 167, 'endCharIndex': 175}]},\n",
       " {'text': 'Okay book us for Rio de Janeiro to La Paz, business class, August 25th to 31st please',\n",
       "  'intentName': 'inform',\n",
       "  'entityLabels': [{'entityName': 'or_city',\n",
       "    'startCharIndex': 17,\n",
       "    'endCharIndex': 31},\n",
       "   {'entityName': 'dst_city', 'startCharIndex': 35, 'endCharIndex': 41},\n",
       "   {'entityName': 'str_date', 'startCharIndex': 59, 'endCharIndex': 70},\n",
       "   {'entityName': 'end_date', 'startCharIndex': 74, 'endCharIndex': 78},\n",
       "   {'entityName': 'intent', 'startCharIndex': 5, 'endCharIndex': 9}]},\n",
       " {'text': 'I wanna find a dope vacation package from Ulsan to Rio de Janeiro for under 6500 between August 27th and september 16, my dates are not flexible',\n",
       "  'intentName': 'inform',\n",
       "  'entityLabels': [{'entityName': 'or_city',\n",
       "    'startCharIndex': 42,\n",
       "    'endCharIndex': 47},\n",
       "   {'entityName': 'dst_city', 'startCharIndex': 51, 'endCharIndex': 65},\n",
       "   {'entityName': 'budget', 'startCharIndex': 76, 'endCharIndex': 80},\n",
       "   {'entityName': 'str_date', 'startCharIndex': 89, 'endCharIndex': 100},\n",
       "   {'entityName': 'end_date', 'startCharIndex': 105, 'endCharIndex': 117}]},\n",
       " {'text': 'hi i want 2 bring my wife and kid 2 boston from philadelphia for 1600 from august 30 until september 14',\n",
       "  'intentName': 'inform',\n",
       "  'entityLabels': [{'entityName': 'dst_city',\n",
       "    'startCharIndex': 36,\n",
       "    'endCharIndex': 42},\n",
       "   {'entityName': 'or_city', 'startCharIndex': 48, 'endCharIndex': 60},\n",
       "   {'entityName': 'budget', 'startCharIndex': 65, 'endCharIndex': 69},\n",
       "   {'entityName': 'str_date', 'startCharIndex': 75, 'endCharIndex': 84},\n",
       "   {'entityName': 'end_date', 'startCharIndex': 91, 'endCharIndex': 103}]},\n",
       " {'text': 'Hey, i want to go to rome from kochi. Can you find me some packages between september 2nd and 6th for 4300',\n",
       "  'intentName': 'inform',\n",
       "  'entityLabels': [{'entityName': 'dst_city',\n",
       "    'startCharIndex': 21,\n",
       "    'endCharIndex': 25},\n",
       "   {'entityName': 'or_city', 'startCharIndex': 31, 'endCharIndex': 36},\n",
       "   {'entityName': 'str_date', 'startCharIndex': 86, 'endCharIndex': 89},\n",
       "   {'entityName': 'end_date', 'startCharIndex': 94, 'endCharIndex': 97},\n",
       "   {'entityName': 'budget', 'startCharIndex': 102, 'endCharIndex': 106}]},\n",
       " {'text': 'I just got an intership and I need to check out my possibilities Puebla to Minneapolis and I have a 4300 budget to travel between Septemeber second until september eighteenth',\n",
       "  'intentName': 'inform',\n",
       "  'entityLabels': [{'entityName': 'or_city',\n",
       "    'startCharIndex': 65,\n",
       "    'endCharIndex': 71},\n",
       "   {'entityName': 'dst_city', 'startCharIndex': 75, 'endCharIndex': 86},\n",
       "   {'entityName': 'budget', 'startCharIndex': 100, 'endCharIndex': 104},\n",
       "   {'entityName': 'str_date', 'startCharIndex': 130, 'endCharIndex': 147},\n",
       "   {'entityName': 'end_date', 'startCharIndex': 154, 'endCharIndex': 174}]}]"
      ]
     },
     "execution_count": 22,
     "metadata": {},
     "output_type": "execute_result"
    }
   ],
   "source": [
    "train_data"
   ]
  },
  {
   "cell_type": "code",
   "execution_count": null,
   "metadata": {},
   "outputs": [],
   "source": []
  },
  {
   "cell_type": "code",
   "execution_count": 23,
   "metadata": {},
   "outputs": [],
   "source": [
    "ask_for = {\n",
    "    \"str_date\": \"when do you want to go?\",\n",
    "    \"end_date\": \"when do you want to come back?\",\n",
    "    \"dst_city\": \"where do you want to fly to?\",\n",
    "    \"or_city\": \"where do you want to depart from?\",\n",
    "    \"budget\": \"what is your budget?\",\n",
    "    }\n"
   ]
  }
 ],
 "metadata": {
  "kernelspec": {
   "display_name": "Python 3 (ipykernel)",
   "language": "python",
   "name": "python3"
  },
  "language_info": {
   "codemirror_mode": {
    "name": "ipython",
    "version": 3
   },
   "file_extension": ".py",
   "mimetype": "text/x-python",
   "name": "python",
   "nbconvert_exporter": "python",
   "pygments_lexer": "ipython3",
   "version": "3.8.10"
  },
  "vscode": {
   "interpreter": {
    "hash": "49ca45737546250f42b496f9f3202c989425b870612331f517aa0e5640df5f91"
   }
  },
  "widgets": {
   "application/vnd.jupyter.widget-state+json": {
    "state": {
     "002e7ce1982e43dd89cd1083bdcec0fc": {
      "model_module": "@jupyter-widgets/controls",
      "model_module_version": "1.5.0",
      "model_name": "HTMLModel",
      "state": {
       "layout": "IPY_MODEL_911696d6f17f490fbc3750c30634b687",
       "style": "IPY_MODEL_9dbeee376e6e4300bd93ec6d62edd11f",
       "value": "100%"
      }
     },
     "00399e52794747ceb5b96b601b3d0e0f": {
      "model_module": "@jupyter-widgets/base",
      "model_module_version": "1.2.0",
      "model_name": "LayoutModel",
      "state": {}
     },
     "04b4a0ea228644d4abb5187c7ae0bbdc": {
      "model_module": "@jupyter-widgets/controls",
      "model_module_version": "1.5.0",
      "model_name": "ProgressStyleModel",
      "state": {
       "description_width": ""
      }
     },
     "08d7514506354be98b1fbf1263bd8f31": {
      "model_module": "@jupyter-widgets/base",
      "model_module_version": "1.2.0",
      "model_name": "LayoutModel",
      "state": {}
     },
     "099e2e68347f4071bb2557101986d329": {
      "model_module": "@jupyter-widgets/base",
      "model_module_version": "1.2.0",
      "model_name": "LayoutModel",
      "state": {}
     },
     "1e15caf4f1fb49a7a84901179179b1da": {
      "model_module": "@jupyter-widgets/controls",
      "model_module_version": "1.5.0",
      "model_name": "HTMLModel",
      "state": {
       "layout": "IPY_MODEL_7f7a7b6622ba4c618ac43ce4c51a5ac0",
       "style": "IPY_MODEL_46cc82bd598d444bbf9e72b6c6be5ca9",
       "value": " 1369/1369 [00:09&lt;00:00, 73.80it/s]"
      }
     },
     "1e27f479afa440b6b016417faa915b8f": {
      "model_module": "@jupyter-widgets/controls",
      "model_module_version": "1.5.0",
      "model_name": "FloatProgressModel",
      "state": {
       "bar_style": "success",
       "layout": "IPY_MODEL_f18bfada1cbf4b1fa370c8126e75752a",
       "max": 10407,
       "style": "IPY_MODEL_d4c45308cca540e7982e6f0d33aed950",
       "value": 10407
      }
     },
     "2057058966464fdc80825578ffb1a708": {
      "model_module": "@jupyter-widgets/controls",
      "model_module_version": "1.5.0",
      "model_name": "DescriptionStyleModel",
      "state": {
       "description_width": ""
      }
     },
     "2632fef837ad47dfb9614b9cec44930f": {
      "model_module": "@jupyter-widgets/base",
      "model_module_version": "1.2.0",
      "model_name": "LayoutModel",
      "state": {}
     },
     "2a380e91411740aa894957ef6534eb50": {
      "model_module": "@jupyter-widgets/controls",
      "model_module_version": "1.5.0",
      "model_name": "FloatProgressModel",
      "state": {
       "bar_style": "success",
       "layout": "IPY_MODEL_fb540b483c524065be2d0ae5ee3a2d1c",
       "max": 1369,
       "style": "IPY_MODEL_04b4a0ea228644d4abb5187c7ae0bbdc",
       "value": 1369
      }
     },
     "308e80cd54b7458bb73d741879bf230b": {
      "model_module": "@jupyter-widgets/controls",
      "model_module_version": "1.5.0",
      "model_name": "HBoxModel",
      "state": {
       "children": [
        "IPY_MODEL_f752c81e67b74704ae5dac1e103814e8",
        "IPY_MODEL_c9d15c54bce142bba6a27bf158c53874",
        "IPY_MODEL_1e15caf4f1fb49a7a84901179179b1da"
       ],
       "layout": "IPY_MODEL_2632fef837ad47dfb9614b9cec44930f"
      }
     },
     "402f381a9af4438ba4946e0923a42dd0": {
      "model_module": "@jupyter-widgets/controls",
      "model_module_version": "1.5.0",
      "model_name": "DescriptionStyleModel",
      "state": {
       "description_width": ""
      }
     },
     "4285875bce864c88b241234179278c92": {
      "model_module": "@jupyter-widgets/controls",
      "model_module_version": "1.5.0",
      "model_name": "HTMLModel",
      "state": {
       "layout": "IPY_MODEL_c49f3d6a88694253aba15f5537a4f9c5",
       "style": "IPY_MODEL_2057058966464fdc80825578ffb1a708",
       "value": "100%"
      }
     },
     "46cc82bd598d444bbf9e72b6c6be5ca9": {
      "model_module": "@jupyter-widgets/controls",
      "model_module_version": "1.5.0",
      "model_name": "DescriptionStyleModel",
      "state": {
       "description_width": ""
      }
     },
     "54f2889a44eb453794587b8ddcf27bde": {
      "model_module": "@jupyter-widgets/controls",
      "model_module_version": "1.5.0",
      "model_name": "HTMLModel",
      "state": {
       "layout": "IPY_MODEL_00399e52794747ceb5b96b601b3d0e0f",
       "style": "IPY_MODEL_95abaf5d70e54a1c906933d42d2edca8",
       "value": " 1369/1369 [00:08&lt;00:00, 83.04it/s]"
      }
     },
     "62273309d4eb405eb6de3119541282c1": {
      "model_module": "@jupyter-widgets/controls",
      "model_module_version": "1.5.0",
      "model_name": "HBoxModel",
      "state": {
       "children": [
        "IPY_MODEL_002e7ce1982e43dd89cd1083bdcec0fc",
        "IPY_MODEL_1e27f479afa440b6b016417faa915b8f",
        "IPY_MODEL_ba7a0d2c208243ebb1fd098cf2647600"
       ],
       "layout": "IPY_MODEL_de2e780daa394ac3aee720f21f508142"
      }
     },
     "7f7a7b6622ba4c618ac43ce4c51a5ac0": {
      "model_module": "@jupyter-widgets/base",
      "model_module_version": "1.2.0",
      "model_name": "LayoutModel",
      "state": {}
     },
     "911696d6f17f490fbc3750c30634b687": {
      "model_module": "@jupyter-widgets/base",
      "model_module_version": "1.2.0",
      "model_name": "LayoutModel",
      "state": {}
     },
     "92f3a3867d3044789d98b7c79b3b90da": {
      "model_module": "@jupyter-widgets/controls",
      "model_module_version": "1.5.0",
      "model_name": "DescriptionStyleModel",
      "state": {
       "description_width": ""
      }
     },
     "95abaf5d70e54a1c906933d42d2edca8": {
      "model_module": "@jupyter-widgets/controls",
      "model_module_version": "1.5.0",
      "model_name": "DescriptionStyleModel",
      "state": {
       "description_width": ""
      }
     },
     "9dbeee376e6e4300bd93ec6d62edd11f": {
      "model_module": "@jupyter-widgets/controls",
      "model_module_version": "1.5.0",
      "model_name": "DescriptionStyleModel",
      "state": {
       "description_width": ""
      }
     },
     "a5c935632cdb4dc4a9124c29949d1510": {
      "model_module": "@jupyter-widgets/base",
      "model_module_version": "1.2.0",
      "model_name": "LayoutModel",
      "state": {}
     },
     "b19b42d3d6854488b6dacc0620193cfa": {
      "model_module": "@jupyter-widgets/controls",
      "model_module_version": "1.5.0",
      "model_name": "ProgressStyleModel",
      "state": {
       "description_width": ""
      }
     },
     "ba7a0d2c208243ebb1fd098cf2647600": {
      "model_module": "@jupyter-widgets/controls",
      "model_module_version": "1.5.0",
      "model_name": "HTMLModel",
      "state": {
       "layout": "IPY_MODEL_08d7514506354be98b1fbf1263bd8f31",
       "style": "IPY_MODEL_92f3a3867d3044789d98b7c79b3b90da",
       "value": " 10407/10407 [00:00&lt;00:00, 105943.81it/s]"
      }
     },
     "c49f3d6a88694253aba15f5537a4f9c5": {
      "model_module": "@jupyter-widgets/base",
      "model_module_version": "1.2.0",
      "model_name": "LayoutModel",
      "state": {}
     },
     "c9d15c54bce142bba6a27bf158c53874": {
      "model_module": "@jupyter-widgets/controls",
      "model_module_version": "1.5.0",
      "model_name": "FloatProgressModel",
      "state": {
       "bar_style": "success",
       "layout": "IPY_MODEL_a5c935632cdb4dc4a9124c29949d1510",
       "max": 1369,
       "style": "IPY_MODEL_b19b42d3d6854488b6dacc0620193cfa",
       "value": 1369
      }
     },
     "d4c45308cca540e7982e6f0d33aed950": {
      "model_module": "@jupyter-widgets/controls",
      "model_module_version": "1.5.0",
      "model_name": "ProgressStyleModel",
      "state": {
       "description_width": ""
      }
     },
     "dd161d6f567f46718390cfb6b27de086": {
      "model_module": "@jupyter-widgets/base",
      "model_module_version": "1.2.0",
      "model_name": "LayoutModel",
      "state": {}
     },
     "de2e780daa394ac3aee720f21f508142": {
      "model_module": "@jupyter-widgets/base",
      "model_module_version": "1.2.0",
      "model_name": "LayoutModel",
      "state": {}
     },
     "ed5b94aae9e64d23a20a2bc4961065e2": {
      "model_module": "@jupyter-widgets/controls",
      "model_module_version": "1.5.0",
      "model_name": "HBoxModel",
      "state": {
       "children": [
        "IPY_MODEL_4285875bce864c88b241234179278c92",
        "IPY_MODEL_2a380e91411740aa894957ef6534eb50",
        "IPY_MODEL_54f2889a44eb453794587b8ddcf27bde"
       ],
       "layout": "IPY_MODEL_099e2e68347f4071bb2557101986d329"
      }
     },
     "f18bfada1cbf4b1fa370c8126e75752a": {
      "model_module": "@jupyter-widgets/base",
      "model_module_version": "1.2.0",
      "model_name": "LayoutModel",
      "state": {}
     },
     "f752c81e67b74704ae5dac1e103814e8": {
      "model_module": "@jupyter-widgets/controls",
      "model_module_version": "1.5.0",
      "model_name": "HTMLModel",
      "state": {
       "layout": "IPY_MODEL_dd161d6f567f46718390cfb6b27de086",
       "style": "IPY_MODEL_402f381a9af4438ba4946e0923a42dd0",
       "value": "100%"
      }
     },
     "fb540b483c524065be2d0ae5ee3a2d1c": {
      "model_module": "@jupyter-widgets/base",
      "model_module_version": "1.2.0",
      "model_name": "LayoutModel",
      "state": {}
     }
    },
    "version_major": 2,
    "version_minor": 0
   }
  }
 },
 "nbformat": 4,
 "nbformat_minor": 4
}
