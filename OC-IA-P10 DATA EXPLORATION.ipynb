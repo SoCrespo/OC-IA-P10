{
 "cells": [
  {
   "cell_type": "markdown",
   "metadata": {},
   "source": [
    "# OC-IA-P10 DATA EXPLORATION"
   ]
  },
  {
   "cell_type": "code",
   "execution_count": null,
   "metadata": {},
   "outputs": [],
   "source": [
    "# import sys\n",
    "# !{sys.executable} -m pip install -r requirements.txt"
   ]
  },
  {
   "cell_type": "code",
   "execution_count": null,
   "metadata": {},
   "outputs": [],
   "source": [
    "import pandas as pd\n",
    "import numpy as np\n",
    "from tqdm.notebook import tqdm\n",
    "tqdm.pandas()"
   ]
  },
  {
   "cell_type": "code",
   "execution_count": 3,
   "metadata": {},
   "outputs": [],
   "source": [
    "frames = pd.read_json('frames/frames.json')"
   ]
  },
  {
   "cell_type": "code",
   "execution_count": 4,
   "metadata": {},
   "outputs": [],
   "source": [
    "frames = frames[['turns', 'labels']]"
   ]
  },
  {
   "cell_type": "code",
   "execution_count": 5,
   "metadata": {},
   "outputs": [
    {
     "data": {
      "text/html": [
       "<div>\n",
       "<style scoped>\n",
       "    .dataframe tbody tr th:only-of-type {\n",
       "        vertical-align: middle;\n",
       "    }\n",
       "\n",
       "    .dataframe tbody tr th {\n",
       "        vertical-align: top;\n",
       "    }\n",
       "\n",
       "    .dataframe thead th {\n",
       "        text-align: right;\n",
       "    }\n",
       "</style>\n",
       "<table border=\"1\" class=\"dataframe\">\n",
       "  <thead>\n",
       "    <tr style=\"text-align: right;\">\n",
       "      <th></th>\n",
       "      <th>turns</th>\n",
       "      <th>labels</th>\n",
       "    </tr>\n",
       "  </thead>\n",
       "  <tbody>\n",
       "    <tr>\n",
       "      <th>0</th>\n",
       "      <td>[{'text': 'I'd like to book a trip to Atlantis...</td>\n",
       "      <td>{'userSurveyRating': 4.0, 'wizardSurveyTaskSuc...</td>\n",
       "    </tr>\n",
       "    <tr>\n",
       "      <th>1</th>\n",
       "      <td>[{'text': 'Hello, I am looking to book a vacat...</td>\n",
       "      <td>{'userSurveyRating': 3.0, 'wizardSurveyTaskSuc...</td>\n",
       "    </tr>\n",
       "    <tr>\n",
       "      <th>2</th>\n",
       "      <td>[{'text': 'Hello there i am looking to go on a...</td>\n",
       "      <td>{'userSurveyRating': 2.0, 'wizardSurveyTaskSuc...</td>\n",
       "    </tr>\n",
       "    <tr>\n",
       "      <th>3</th>\n",
       "      <td>[{'text': 'Hi I'd like to go to Caprica from B...</td>\n",
       "      <td>{'userSurveyRating': 5.0, 'wizardSurveyTaskSuc...</td>\n",
       "    </tr>\n",
       "    <tr>\n",
       "      <th>4</th>\n",
       "      <td>[{'text': 'Hello, I am looking to book a trip ...</td>\n",
       "      <td>{'userSurveyRating': 5.0, 'wizardSurveyTaskSuc...</td>\n",
       "    </tr>\n",
       "    <tr>\n",
       "      <th>...</th>\n",
       "      <td>...</td>\n",
       "      <td>...</td>\n",
       "    </tr>\n",
       "    <tr>\n",
       "      <th>1364</th>\n",
       "      <td>[{'text': 'Hi I've got 9 days free and I'm loo...</td>\n",
       "      <td>{'userSurveyRating': 3.5, 'wizardSurveyTaskSuc...</td>\n",
       "    </tr>\n",
       "    <tr>\n",
       "      <th>1365</th>\n",
       "      <td>[{'text': 'I need to get to Fortaleza on Septe...</td>\n",
       "      <td>{'userSurveyRating': 4.5, 'wizardSurveyTaskSuc...</td>\n",
       "    </tr>\n",
       "    <tr>\n",
       "      <th>1366</th>\n",
       "      <td>[{'text': 'We're finally going on vacation isn...</td>\n",
       "      <td>{'userSurveyRating': 5.0, 'wizardSurveyTaskSuc...</td>\n",
       "    </tr>\n",
       "    <tr>\n",
       "      <th>1367</th>\n",
       "      <td>[{'text': 'Hi there, I'm looking for a place t...</td>\n",
       "      <td>{'userSurveyRating': 4.0, 'wizardSurveyTaskSuc...</td>\n",
       "    </tr>\n",
       "    <tr>\n",
       "      <th>1368</th>\n",
       "      <td>[{'text': 'I need to book a trip for the whole...</td>\n",
       "      <td>{'userSurveyRating': 5.0, 'wizardSurveyTaskSuc...</td>\n",
       "    </tr>\n",
       "  </tbody>\n",
       "</table>\n",
       "<p>1369 rows × 2 columns</p>\n",
       "</div>"
      ],
      "text/plain": [
       "                                                  turns  \\\n",
       "0     [{'text': 'I'd like to book a trip to Atlantis...   \n",
       "1     [{'text': 'Hello, I am looking to book a vacat...   \n",
       "2     [{'text': 'Hello there i am looking to go on a...   \n",
       "3     [{'text': 'Hi I'd like to go to Caprica from B...   \n",
       "4     [{'text': 'Hello, I am looking to book a trip ...   \n",
       "...                                                 ...   \n",
       "1364  [{'text': 'Hi I've got 9 days free and I'm loo...   \n",
       "1365  [{'text': 'I need to get to Fortaleza on Septe...   \n",
       "1366  [{'text': 'We're finally going on vacation isn...   \n",
       "1367  [{'text': 'Hi there, I'm looking for a place t...   \n",
       "1368  [{'text': 'I need to book a trip for the whole...   \n",
       "\n",
       "                                                 labels  \n",
       "0     {'userSurveyRating': 4.0, 'wizardSurveyTaskSuc...  \n",
       "1     {'userSurveyRating': 3.0, 'wizardSurveyTaskSuc...  \n",
       "2     {'userSurveyRating': 2.0, 'wizardSurveyTaskSuc...  \n",
       "3     {'userSurveyRating': 5.0, 'wizardSurveyTaskSuc...  \n",
       "4     {'userSurveyRating': 5.0, 'wizardSurveyTaskSuc...  \n",
       "...                                                 ...  \n",
       "1364  {'userSurveyRating': 3.5, 'wizardSurveyTaskSuc...  \n",
       "1365  {'userSurveyRating': 4.5, 'wizardSurveyTaskSuc...  \n",
       "1366  {'userSurveyRating': 5.0, 'wizardSurveyTaskSuc...  \n",
       "1367  {'userSurveyRating': 4.0, 'wizardSurveyTaskSuc...  \n",
       "1368  {'userSurveyRating': 5.0, 'wizardSurveyTaskSuc...  \n",
       "\n",
       "[1369 rows x 2 columns]"
      ]
     },
     "execution_count": 5,
     "metadata": {},
     "output_type": "execute_result"
    }
   ],
   "source": [
    "frames"
   ]
  },
  {
   "cell_type": "code",
   "execution_count": 6,
   "metadata": {},
   "outputs": [
    {
     "data": {
      "application/vnd.jupyter.widget-view+json": {
       "model_id": "b48562786f5946eeaef9c0105e98522d",
       "version_major": 2,
       "version_minor": 0
      },
      "text/plain": [
       "  0%|          | 0/1369 [00:00<?, ?it/s]"
      ]
     },
     "metadata": {},
     "output_type": "display_data"
    }
   ],
   "source": [
    "data = pd.DataFrame()\n",
    "for i in tqdm(frames.index):\n",
    "    data = pd.concat((data, pd.DataFrame(frames.loc[i]['turns'])), ignore_index=True)\n",
    "\n",
    "data = data[data['author']=='user']\n",
    "data = data[['text', 'labels']] # drop author, timestamp, db\n",
    "data = data.reset_index(drop=True)"
   ]
  },
  {
   "cell_type": "markdown",
   "metadata": {},
   "source": [
    "What are the different kind of interactions?"
   ]
  },
  {
   "cell_type": "code",
   "execution_count": 7,
   "metadata": {},
   "outputs": [
    {
     "data": {
      "text/plain": [
       "{'affirm',\n",
       " 'confirm',\n",
       " 'goodbye',\n",
       " 'greeting',\n",
       " 'inform',\n",
       " 'moreinfo',\n",
       " 'negate',\n",
       " 'request',\n",
       " 'request_alts',\n",
       " 'request_compare',\n",
       " 'switch_frame',\n",
       " 'thankyou'}"
      ]
     },
     "execution_count": 7,
     "metadata": {},
     "output_type": "execute_result"
    }
   ],
   "source": [
    "set([item['name'] for i in data.index for item in data['labels'][i]['acts_without_refs']])"
   ]
  },
  {
   "cell_type": "code",
   "execution_count": 8,
   "metadata": {},
   "outputs": [],
   "source": [
    "data['acts_without_refs'] = data['labels'].apply(lambda x: x['acts_without_refs'])"
   ]
  },
  {
   "cell_type": "code",
   "execution_count": 9,
   "metadata": {},
   "outputs": [
    {
     "data": {
      "text/html": [
       "<div>\n",
       "<style scoped>\n",
       "    .dataframe tbody tr th:only-of-type {\n",
       "        vertical-align: middle;\n",
       "    }\n",
       "\n",
       "    .dataframe tbody tr th {\n",
       "        vertical-align: top;\n",
       "    }\n",
       "\n",
       "    .dataframe thead th {\n",
       "        text-align: right;\n",
       "    }\n",
       "</style>\n",
       "<table border=\"1\" class=\"dataframe\">\n",
       "  <thead>\n",
       "    <tr style=\"text-align: right;\">\n",
       "      <th></th>\n",
       "      <th>text</th>\n",
       "      <th>labels</th>\n",
       "      <th>acts_without_refs</th>\n",
       "    </tr>\n",
       "  </thead>\n",
       "  <tbody>\n",
       "    <tr>\n",
       "      <th>0</th>\n",
       "      <td>I'd like to book a trip to Atlantis from Capri...</td>\n",
       "      <td>{'acts': [{'args': [{'val': 'book', 'key': 'in...</td>\n",
       "      <td>[{'args': [{'val': 'book', 'key': 'intent'}], ...</td>\n",
       "    </tr>\n",
       "    <tr>\n",
       "      <th>1</th>\n",
       "      <td>Yes, how about going to Neverland from Caprica...</td>\n",
       "      <td>{'acts': [{'args': [{'val': 'Neverland', 'key'...</td>\n",
       "      <td>[{'args': [{'val': 'Neverland', 'key': 'dst_ci...</td>\n",
       "    </tr>\n",
       "    <tr>\n",
       "      <th>2</th>\n",
       "      <td>I have no flexibility for dates... but I can l...</td>\n",
       "      <td>{'acts': [{'args': [{'val': False, 'key': 'fle...</td>\n",
       "      <td>[{'args': [{'val': False, 'key': 'flex'}], 'na...</td>\n",
       "    </tr>\n",
       "    <tr>\n",
       "      <th>3</th>\n",
       "      <td>I suppose I'll speak with my husband to see if...</td>\n",
       "      <td>{'acts': [{'args': [], 'name': 'thankyou'}], '...</td>\n",
       "      <td>[{'args': [], 'name': 'thankyou'}]</td>\n",
       "    </tr>\n",
       "    <tr>\n",
       "      <th>4</th>\n",
       "      <td>Hello, I am looking to book a vacation from Go...</td>\n",
       "      <td>{'acts': [{'args': [{'val': 'book', 'key': 'in...</td>\n",
       "      <td>[{'args': [{'val': 'book', 'key': 'intent'}], ...</td>\n",
       "    </tr>\n",
       "    <tr>\n",
       "      <th>...</th>\n",
       "      <td>...</td>\n",
       "      <td>...</td>\n",
       "      <td>...</td>\n",
       "    </tr>\n",
       "    <tr>\n",
       "      <th>10402</th>\n",
       "      <td>5 adults and 7 kids! Yup, the lot of us. We wa...</td>\n",
       "      <td>{'acts': [{'args': [{'val': '5', 'key': 'n_adu...</td>\n",
       "      <td>[{'args': [{'val': '5', 'key': 'n_adults'}, {'...</td>\n",
       "    </tr>\n",
       "    <tr>\n",
       "      <th>10403</th>\n",
       "      <td>Oh yes! Between September 12 and 26!</td>\n",
       "      <td>{'acts': [{'args': [{'val': 'September 12', 'k...</td>\n",
       "      <td>[{'args': [{'val': 'September 12', 'key': 'str...</td>\n",
       "    </tr>\n",
       "    <tr>\n",
       "      <th>10404</th>\n",
       "      <td>That sounds amazing, and it's within those dat...</td>\n",
       "      <td>{'acts': [{'args': [{'val': [{'annotations': [...</td>\n",
       "      <td>[{'args': [{'val': None, 'key': 'str_date'}, {...</td>\n",
       "    </tr>\n",
       "    <tr>\n",
       "      <th>10405</th>\n",
       "      <td>Ok perfect, book me!</td>\n",
       "      <td>{'acts': [{'args': [{'val': 'book', 'key': 'in...</td>\n",
       "      <td>[{'args': [{'val': 'book', 'key': 'intent'}], ...</td>\n",
       "    </tr>\n",
       "    <tr>\n",
       "      <th>10406</th>\n",
       "      <td>Thanks!</td>\n",
       "      <td>{'acts': [{'args': [], 'name': 'thankyou'}], '...</td>\n",
       "      <td>[{'args': [], 'name': 'thankyou'}]</td>\n",
       "    </tr>\n",
       "  </tbody>\n",
       "</table>\n",
       "<p>10407 rows × 3 columns</p>\n",
       "</div>"
      ],
      "text/plain": [
       "                                                    text  \\\n",
       "0      I'd like to book a trip to Atlantis from Capri...   \n",
       "1      Yes, how about going to Neverland from Caprica...   \n",
       "2      I have no flexibility for dates... but I can l...   \n",
       "3      I suppose I'll speak with my husband to see if...   \n",
       "4      Hello, I am looking to book a vacation from Go...   \n",
       "...                                                  ...   \n",
       "10402  5 adults and 7 kids! Yup, the lot of us. We wa...   \n",
       "10403               Oh yes! Between September 12 and 26!   \n",
       "10404  That sounds amazing, and it's within those dat...   \n",
       "10405                               Ok perfect, book me!   \n",
       "10406                                            Thanks!   \n",
       "\n",
       "                                                  labels  \\\n",
       "0      {'acts': [{'args': [{'val': 'book', 'key': 'in...   \n",
       "1      {'acts': [{'args': [{'val': 'Neverland', 'key'...   \n",
       "2      {'acts': [{'args': [{'val': False, 'key': 'fle...   \n",
       "3      {'acts': [{'args': [], 'name': 'thankyou'}], '...   \n",
       "4      {'acts': [{'args': [{'val': 'book', 'key': 'in...   \n",
       "...                                                  ...   \n",
       "10402  {'acts': [{'args': [{'val': '5', 'key': 'n_adu...   \n",
       "10403  {'acts': [{'args': [{'val': 'September 12', 'k...   \n",
       "10404  {'acts': [{'args': [{'val': [{'annotations': [...   \n",
       "10405  {'acts': [{'args': [{'val': 'book', 'key': 'in...   \n",
       "10406  {'acts': [{'args': [], 'name': 'thankyou'}], '...   \n",
       "\n",
       "                                       acts_without_refs  \n",
       "0      [{'args': [{'val': 'book', 'key': 'intent'}], ...  \n",
       "1      [{'args': [{'val': 'Neverland', 'key': 'dst_ci...  \n",
       "2      [{'args': [{'val': False, 'key': 'flex'}], 'na...  \n",
       "3                     [{'args': [], 'name': 'thankyou'}]  \n",
       "4      [{'args': [{'val': 'book', 'key': 'intent'}], ...  \n",
       "...                                                  ...  \n",
       "10402  [{'args': [{'val': '5', 'key': 'n_adults'}, {'...  \n",
       "10403  [{'args': [{'val': 'September 12', 'key': 'str...  \n",
       "10404  [{'args': [{'val': None, 'key': 'str_date'}, {...  \n",
       "10405  [{'args': [{'val': 'book', 'key': 'intent'}], ...  \n",
       "10406                 [{'args': [], 'name': 'thankyou'}]  \n",
       "\n",
       "[10407 rows x 3 columns]"
      ]
     },
     "execution_count": 9,
     "metadata": {},
     "output_type": "execute_result"
    }
   ],
   "source": [
    "data"
   ]
  },
  {
   "cell_type": "code",
   "execution_count": 10,
   "metadata": {},
   "outputs": [],
   "source": [
    "def extract_values(list_of_values):\n",
    "    \"\"\"\n",
    "    Return dict {key1:value1, key2:value2} from list shaped\n",
    "    as [[{'val':value1, 'key':key1}], [{'val':value2, 'key':key2}]].\n",
    "    Inner lists can contain several dicts.\n",
    "    \"\"\"\n",
    "    if not list_of_values:\n",
    "        return None\n",
    "    result = []\n",
    "    required_keys = [\n",
    "        'dst_city', \n",
    "        'or_city', \n",
    "        'str_date', \n",
    "        'end_date',\n",
    "        'budget', \n",
    "        'max_duration'\n",
    "        ]\n",
    "    for item in list_of_values:\n",
    "        for dict_of_elements in item:\n",
    "            result.append((dict_of_elements['key'], dict_of_elements['val'])) if dict_of_elements['key'] in required_keys else None       \n",
    "    return result or None"
   ]
  },
  {
   "cell_type": "code",
   "execution_count": 11,
   "metadata": {},
   "outputs": [],
   "source": [
    "data['values'] = data['acts_without_refs'].apply(lambda x: [item['args'] for item in x if item['name']=='inform'])\n",
    "data['values'] = data['values'].apply(extract_values)"
   ]
  },
  {
   "cell_type": "code",
   "execution_count": 12,
   "metadata": {},
   "outputs": [],
   "source": [
    "data['moreinfo'] = data['acts_without_refs'].apply(lambda x: [item['args'] for item in x if item['name']=='moreinfo'])\n",
    "data['moreinfo'] = data['moreinfo'].apply(extract_values)"
   ]
  },
  {
   "cell_type": "code",
   "execution_count": 13,
   "metadata": {},
   "outputs": [
    {
     "data": {
      "text/html": [
       "<div>\n",
       "<style scoped>\n",
       "    .dataframe tbody tr th:only-of-type {\n",
       "        vertical-align: middle;\n",
       "    }\n",
       "\n",
       "    .dataframe tbody tr th {\n",
       "        vertical-align: top;\n",
       "    }\n",
       "\n",
       "    .dataframe thead th {\n",
       "        text-align: right;\n",
       "    }\n",
       "</style>\n",
       "<table border=\"1\" class=\"dataframe\">\n",
       "  <thead>\n",
       "    <tr style=\"text-align: right;\">\n",
       "      <th></th>\n",
       "      <th>text</th>\n",
       "      <th>labels</th>\n",
       "      <th>acts_without_refs</th>\n",
       "      <th>values</th>\n",
       "      <th>moreinfo</th>\n",
       "    </tr>\n",
       "  </thead>\n",
       "  <tbody>\n",
       "    <tr>\n",
       "      <th>5588</th>\n",
       "      <td>Can you tell me a bit more about the Ciudad Ju...</td>\n",
       "      <td>{'acts': [{'args': [{'val': [{'annotations': [...</td>\n",
       "      <td>[{'args': [{'val': 'Ciudad Juarez', 'key': 'ds...</td>\n",
       "      <td>None</td>\n",
       "      <td>[(dst_city, Ciudad Juarez)]</td>\n",
       "    </tr>\n",
       "  </tbody>\n",
       "</table>\n",
       "</div>"
      ],
      "text/plain": [
       "                                                   text  \\\n",
       "5588  Can you tell me a bit more about the Ciudad Ju...   \n",
       "\n",
       "                                                 labels  \\\n",
       "5588  {'acts': [{'args': [{'val': [{'annotations': [...   \n",
       "\n",
       "                                      acts_without_refs values  \\\n",
       "5588  [{'args': [{'val': 'Ciudad Juarez', 'key': 'ds...   None   \n",
       "\n",
       "                         moreinfo  \n",
       "5588  [(dst_city, Ciudad Juarez)]  "
      ]
     },
     "execution_count": 13,
     "metadata": {},
     "output_type": "execute_result"
    }
   ],
   "source": [
    "data[data['moreinfo'].notna()]"
   ]
  },
  {
   "cell_type": "markdown",
   "metadata": {},
   "source": [
    "The column `moreinfo` is useless and we can delete it."
   ]
  },
  {
   "cell_type": "code",
   "execution_count": 14,
   "metadata": {},
   "outputs": [],
   "source": [
    "data.drop(columns=['moreinfo', 'labels', 'acts_without_refs'], inplace=True, errors='ignore')"
   ]
  },
  {
   "cell_type": "code",
   "execution_count": 15,
   "metadata": {},
   "outputs": [],
   "source": [
    "data = data.dropna(subset=['values'])\n",
    "data.reset_index(drop=True, inplace=True)"
   ]
  },
  {
   "cell_type": "code",
   "execution_count": 17,
   "metadata": {},
   "outputs": [
    {
     "data": {
      "text/html": [
       "<div>\n",
       "<style scoped>\n",
       "    .dataframe tbody tr th:only-of-type {\n",
       "        vertical-align: middle;\n",
       "    }\n",
       "\n",
       "    .dataframe tbody tr th {\n",
       "        vertical-align: top;\n",
       "    }\n",
       "\n",
       "    .dataframe thead th {\n",
       "        text-align: right;\n",
       "    }\n",
       "</style>\n",
       "<table border=\"1\" class=\"dataframe\">\n",
       "  <thead>\n",
       "    <tr style=\"text-align: right;\">\n",
       "      <th></th>\n",
       "      <th>text</th>\n",
       "      <th>values</th>\n",
       "    </tr>\n",
       "  </thead>\n",
       "  <tbody>\n",
       "    <tr>\n",
       "      <th>0</th>\n",
       "      <td>I'd like to book a trip to Atlantis from Capri...</td>\n",
       "      <td>[(dst_city, Atlantis), (or_city, Caprica), (st...</td>\n",
       "    </tr>\n",
       "    <tr>\n",
       "      <th>1</th>\n",
       "      <td>Yes, how about going to Neverland from Caprica...</td>\n",
       "      <td>[(dst_city, Neverland), (budget, 1900), (or_ci...</td>\n",
       "    </tr>\n",
       "    <tr>\n",
       "      <th>2</th>\n",
       "      <td>I have no flexibility for dates... but I can l...</td>\n",
       "      <td>[(or_city, Atlantis)]</td>\n",
       "    </tr>\n",
       "    <tr>\n",
       "      <th>3</th>\n",
       "      <td>Hello, I am looking to book a vacation from Go...</td>\n",
       "      <td>[(dst_city, Mos Eisley), (or_city, Gotham City...</td>\n",
       "    </tr>\n",
       "    <tr>\n",
       "      <th>4</th>\n",
       "      <td>What about a trip from Gotham City to Neverlan...</td>\n",
       "      <td>[(dst_city, Neverland), (or_city, Gotham City)...</td>\n",
       "    </tr>\n",
       "    <tr>\n",
       "      <th>...</th>\n",
       "      <td>...</td>\n",
       "      <td>...</td>\n",
       "    </tr>\n",
       "    <tr>\n",
       "      <th>4956</th>\n",
       "      <td>Fine, if you're going to be like that... I gue...</td>\n",
       "      <td>[(or_city, Frankfurt)]</td>\n",
       "    </tr>\n",
       "    <tr>\n",
       "      <th>4957</th>\n",
       "      <td>Is 3.5 stars the best you can do? Are you seri...</td>\n",
       "      <td>[(dst_city, St. Louis)]</td>\n",
       "    </tr>\n",
       "    <tr>\n",
       "      <th>4958</th>\n",
       "      <td>I need to book a trip for the whole family fro...</td>\n",
       "      <td>[(or_city, Tampa), (dst_city, -1)]</td>\n",
       "    </tr>\n",
       "    <tr>\n",
       "      <th>4959</th>\n",
       "      <td>5 adults and 7 kids! Yup, the lot of us. We wa...</td>\n",
       "      <td>[(budget, 32800)]</td>\n",
       "    </tr>\n",
       "    <tr>\n",
       "      <th>4960</th>\n",
       "      <td>Oh yes! Between September 12 and 26!</td>\n",
       "      <td>[(str_date, September 12), (end_date, 26)]</td>\n",
       "    </tr>\n",
       "  </tbody>\n",
       "</table>\n",
       "<p>4961 rows × 2 columns</p>\n",
       "</div>"
      ],
      "text/plain": [
       "                                                   text  \\\n",
       "0     I'd like to book a trip to Atlantis from Capri...   \n",
       "1     Yes, how about going to Neverland from Caprica...   \n",
       "2     I have no flexibility for dates... but I can l...   \n",
       "3     Hello, I am looking to book a vacation from Go...   \n",
       "4     What about a trip from Gotham City to Neverlan...   \n",
       "...                                                 ...   \n",
       "4956  Fine, if you're going to be like that... I gue...   \n",
       "4957  Is 3.5 stars the best you can do? Are you seri...   \n",
       "4958  I need to book a trip for the whole family fro...   \n",
       "4959  5 adults and 7 kids! Yup, the lot of us. We wa...   \n",
       "4960               Oh yes! Between September 12 and 26!   \n",
       "\n",
       "                                                 values  \n",
       "0     [(dst_city, Atlantis), (or_city, Caprica), (st...  \n",
       "1     [(dst_city, Neverland), (budget, 1900), (or_ci...  \n",
       "2                                 [(or_city, Atlantis)]  \n",
       "3     [(dst_city, Mos Eisley), (or_city, Gotham City...  \n",
       "4     [(dst_city, Neverland), (or_city, Gotham City)...  \n",
       "...                                                 ...  \n",
       "4956                             [(or_city, Frankfurt)]  \n",
       "4957                            [(dst_city, St. Louis)]  \n",
       "4958                 [(or_city, Tampa), (dst_city, -1)]  \n",
       "4959                                  [(budget, 32800)]  \n",
       "4960         [(str_date, September 12), (end_date, 26)]  \n",
       "\n",
       "[4961 rows x 2 columns]"
      ]
     },
     "execution_count": 17,
     "metadata": {},
     "output_type": "execute_result"
    }
   ],
   "source": [
    "data"
   ]
  },
  {
   "cell_type": "code",
   "execution_count": 19,
   "metadata": {},
   "outputs": [
    {
     "data": {
      "text/plain": [
       "\"I need to book a trip for the whole family from Tampa but we don't know where to go. Can you help us?\""
      ]
     },
     "execution_count": 19,
     "metadata": {},
     "output_type": "execute_result"
    }
   ],
   "source": [
    "data.loc[4958]['text']"
   ]
  },
  {
   "cell_type": "code",
   "execution_count": null,
   "metadata": {},
   "outputs": [],
   "source": []
  }
 ],
 "metadata": {
  "kernelspec": {
   "display_name": "Python 3 (ipykernel)",
   "language": "python",
   "name": "python3"
  },
  "language_info": {
   "codemirror_mode": {
    "name": "ipython",
    "version": 3
   },
   "file_extension": ".py",
   "mimetype": "text/x-python",
   "name": "python",
   "nbconvert_exporter": "python",
   "pygments_lexer": "ipython3",
   "version": "3.8.10"
  },
  "vscode": {
   "interpreter": {
    "hash": "49ca45737546250f42b496f9f3202c989425b870612331f517aa0e5640df5f91"
   }
  },
  "widgets": {
   "application/vnd.jupyter.widget-state+json": {
    "state": {
     "002e7ce1982e43dd89cd1083bdcec0fc": {
      "model_module": "@jupyter-widgets/controls",
      "model_module_version": "1.5.0",
      "model_name": "HTMLModel",
      "state": {
       "layout": "IPY_MODEL_911696d6f17f490fbc3750c30634b687",
       "style": "IPY_MODEL_9dbeee376e6e4300bd93ec6d62edd11f",
       "value": "100%"
      }
     },
     "00399e52794747ceb5b96b601b3d0e0f": {
      "model_module": "@jupyter-widgets/base",
      "model_module_version": "1.2.0",
      "model_name": "LayoutModel",
      "state": {}
     },
     "04b4a0ea228644d4abb5187c7ae0bbdc": {
      "model_module": "@jupyter-widgets/controls",
      "model_module_version": "1.5.0",
      "model_name": "ProgressStyleModel",
      "state": {
       "description_width": ""
      }
     },
     "08d7514506354be98b1fbf1263bd8f31": {
      "model_module": "@jupyter-widgets/base",
      "model_module_version": "1.2.0",
      "model_name": "LayoutModel",
      "state": {}
     },
     "099e2e68347f4071bb2557101986d329": {
      "model_module": "@jupyter-widgets/base",
      "model_module_version": "1.2.0",
      "model_name": "LayoutModel",
      "state": {}
     },
     "1e15caf4f1fb49a7a84901179179b1da": {
      "model_module": "@jupyter-widgets/controls",
      "model_module_version": "1.5.0",
      "model_name": "HTMLModel",
      "state": {
       "layout": "IPY_MODEL_7f7a7b6622ba4c618ac43ce4c51a5ac0",
       "style": "IPY_MODEL_46cc82bd598d444bbf9e72b6c6be5ca9",
       "value": " 1369/1369 [00:09&lt;00:00, 73.80it/s]"
      }
     },
     "1e27f479afa440b6b016417faa915b8f": {
      "model_module": "@jupyter-widgets/controls",
      "model_module_version": "1.5.0",
      "model_name": "FloatProgressModel",
      "state": {
       "bar_style": "success",
       "layout": "IPY_MODEL_f18bfada1cbf4b1fa370c8126e75752a",
       "max": 10407,
       "style": "IPY_MODEL_d4c45308cca540e7982e6f0d33aed950",
       "value": 10407
      }
     },
     "2057058966464fdc80825578ffb1a708": {
      "model_module": "@jupyter-widgets/controls",
      "model_module_version": "1.5.0",
      "model_name": "DescriptionStyleModel",
      "state": {
       "description_width": ""
      }
     },
     "2632fef837ad47dfb9614b9cec44930f": {
      "model_module": "@jupyter-widgets/base",
      "model_module_version": "1.2.0",
      "model_name": "LayoutModel",
      "state": {}
     },
     "2a380e91411740aa894957ef6534eb50": {
      "model_module": "@jupyter-widgets/controls",
      "model_module_version": "1.5.0",
      "model_name": "FloatProgressModel",
      "state": {
       "bar_style": "success",
       "layout": "IPY_MODEL_fb540b483c524065be2d0ae5ee3a2d1c",
       "max": 1369,
       "style": "IPY_MODEL_04b4a0ea228644d4abb5187c7ae0bbdc",
       "value": 1369
      }
     },
     "308e80cd54b7458bb73d741879bf230b": {
      "model_module": "@jupyter-widgets/controls",
      "model_module_version": "1.5.0",
      "model_name": "HBoxModel",
      "state": {
       "children": [
        "IPY_MODEL_f752c81e67b74704ae5dac1e103814e8",
        "IPY_MODEL_c9d15c54bce142bba6a27bf158c53874",
        "IPY_MODEL_1e15caf4f1fb49a7a84901179179b1da"
       ],
       "layout": "IPY_MODEL_2632fef837ad47dfb9614b9cec44930f"
      }
     },
     "402f381a9af4438ba4946e0923a42dd0": {
      "model_module": "@jupyter-widgets/controls",
      "model_module_version": "1.5.0",
      "model_name": "DescriptionStyleModel",
      "state": {
       "description_width": ""
      }
     },
     "4285875bce864c88b241234179278c92": {
      "model_module": "@jupyter-widgets/controls",
      "model_module_version": "1.5.0",
      "model_name": "HTMLModel",
      "state": {
       "layout": "IPY_MODEL_c49f3d6a88694253aba15f5537a4f9c5",
       "style": "IPY_MODEL_2057058966464fdc80825578ffb1a708",
       "value": "100%"
      }
     },
     "46cc82bd598d444bbf9e72b6c6be5ca9": {
      "model_module": "@jupyter-widgets/controls",
      "model_module_version": "1.5.0",
      "model_name": "DescriptionStyleModel",
      "state": {
       "description_width": ""
      }
     },
     "54f2889a44eb453794587b8ddcf27bde": {
      "model_module": "@jupyter-widgets/controls",
      "model_module_version": "1.5.0",
      "model_name": "HTMLModel",
      "state": {
       "layout": "IPY_MODEL_00399e52794747ceb5b96b601b3d0e0f",
       "style": "IPY_MODEL_95abaf5d70e54a1c906933d42d2edca8",
       "value": " 1369/1369 [00:08&lt;00:00, 83.04it/s]"
      }
     },
     "62273309d4eb405eb6de3119541282c1": {
      "model_module": "@jupyter-widgets/controls",
      "model_module_version": "1.5.0",
      "model_name": "HBoxModel",
      "state": {
       "children": [
        "IPY_MODEL_002e7ce1982e43dd89cd1083bdcec0fc",
        "IPY_MODEL_1e27f479afa440b6b016417faa915b8f",
        "IPY_MODEL_ba7a0d2c208243ebb1fd098cf2647600"
       ],
       "layout": "IPY_MODEL_de2e780daa394ac3aee720f21f508142"
      }
     },
     "7f7a7b6622ba4c618ac43ce4c51a5ac0": {
      "model_module": "@jupyter-widgets/base",
      "model_module_version": "1.2.0",
      "model_name": "LayoutModel",
      "state": {}
     },
     "911696d6f17f490fbc3750c30634b687": {
      "model_module": "@jupyter-widgets/base",
      "model_module_version": "1.2.0",
      "model_name": "LayoutModel",
      "state": {}
     },
     "92f3a3867d3044789d98b7c79b3b90da": {
      "model_module": "@jupyter-widgets/controls",
      "model_module_version": "1.5.0",
      "model_name": "DescriptionStyleModel",
      "state": {
       "description_width": ""
      }
     },
     "95abaf5d70e54a1c906933d42d2edca8": {
      "model_module": "@jupyter-widgets/controls",
      "model_module_version": "1.5.0",
      "model_name": "DescriptionStyleModel",
      "state": {
       "description_width": ""
      }
     },
     "9dbeee376e6e4300bd93ec6d62edd11f": {
      "model_module": "@jupyter-widgets/controls",
      "model_module_version": "1.5.0",
      "model_name": "DescriptionStyleModel",
      "state": {
       "description_width": ""
      }
     },
     "a5c935632cdb4dc4a9124c29949d1510": {
      "model_module": "@jupyter-widgets/base",
      "model_module_version": "1.2.0",
      "model_name": "LayoutModel",
      "state": {}
     },
     "b19b42d3d6854488b6dacc0620193cfa": {
      "model_module": "@jupyter-widgets/controls",
      "model_module_version": "1.5.0",
      "model_name": "ProgressStyleModel",
      "state": {
       "description_width": ""
      }
     },
     "ba7a0d2c208243ebb1fd098cf2647600": {
      "model_module": "@jupyter-widgets/controls",
      "model_module_version": "1.5.0",
      "model_name": "HTMLModel",
      "state": {
       "layout": "IPY_MODEL_08d7514506354be98b1fbf1263bd8f31",
       "style": "IPY_MODEL_92f3a3867d3044789d98b7c79b3b90da",
       "value": " 10407/10407 [00:00&lt;00:00, 105943.81it/s]"
      }
     },
     "c49f3d6a88694253aba15f5537a4f9c5": {
      "model_module": "@jupyter-widgets/base",
      "model_module_version": "1.2.0",
      "model_name": "LayoutModel",
      "state": {}
     },
     "c9d15c54bce142bba6a27bf158c53874": {
      "model_module": "@jupyter-widgets/controls",
      "model_module_version": "1.5.0",
      "model_name": "FloatProgressModel",
      "state": {
       "bar_style": "success",
       "layout": "IPY_MODEL_a5c935632cdb4dc4a9124c29949d1510",
       "max": 1369,
       "style": "IPY_MODEL_b19b42d3d6854488b6dacc0620193cfa",
       "value": 1369
      }
     },
     "d4c45308cca540e7982e6f0d33aed950": {
      "model_module": "@jupyter-widgets/controls",
      "model_module_version": "1.5.0",
      "model_name": "ProgressStyleModel",
      "state": {
       "description_width": ""
      }
     },
     "dd161d6f567f46718390cfb6b27de086": {
      "model_module": "@jupyter-widgets/base",
      "model_module_version": "1.2.0",
      "model_name": "LayoutModel",
      "state": {}
     },
     "de2e780daa394ac3aee720f21f508142": {
      "model_module": "@jupyter-widgets/base",
      "model_module_version": "1.2.0",
      "model_name": "LayoutModel",
      "state": {}
     },
     "ed5b94aae9e64d23a20a2bc4961065e2": {
      "model_module": "@jupyter-widgets/controls",
      "model_module_version": "1.5.0",
      "model_name": "HBoxModel",
      "state": {
       "children": [
        "IPY_MODEL_4285875bce864c88b241234179278c92",
        "IPY_MODEL_2a380e91411740aa894957ef6534eb50",
        "IPY_MODEL_54f2889a44eb453794587b8ddcf27bde"
       ],
       "layout": "IPY_MODEL_099e2e68347f4071bb2557101986d329"
      }
     },
     "f18bfada1cbf4b1fa370c8126e75752a": {
      "model_module": "@jupyter-widgets/base",
      "model_module_version": "1.2.0",
      "model_name": "LayoutModel",
      "state": {}
     },
     "f752c81e67b74704ae5dac1e103814e8": {
      "model_module": "@jupyter-widgets/controls",
      "model_module_version": "1.5.0",
      "model_name": "HTMLModel",
      "state": {
       "layout": "IPY_MODEL_dd161d6f567f46718390cfb6b27de086",
       "style": "IPY_MODEL_402f381a9af4438ba4946e0923a42dd0",
       "value": "100%"
      }
     },
     "fb540b483c524065be2d0ae5ee3a2d1c": {
      "model_module": "@jupyter-widgets/base",
      "model_module_version": "1.2.0",
      "model_name": "LayoutModel",
      "state": {}
     }
    },
    "version_major": 2,
    "version_minor": 0
   }
  }
 },
 "nbformat": 4,
 "nbformat_minor": 4
}
