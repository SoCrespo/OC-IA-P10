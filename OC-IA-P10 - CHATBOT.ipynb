{
 "cells": [
  {
   "cell_type": "markdown",
   "metadata": {},
   "source": [
    "# OC-IA-P10 - CHATBOT"
   ]
  },
  {
   "cell_type": "markdown",
   "metadata": {},
   "source": [
    "# Training LUIS"
   ]
  },
  {
   "cell_type": "markdown",
   "metadata": {},
   "source": [
    "Documentation : https://westeurope.dev.cognitive.microsoft.com/docs/services/luis-programmatic-apis-v3-0-preview/operations/5890b47c39e2bb052c5b9c45/console"
   ]
  },
  {
   "cell_type": "code",
   "execution_count": 1,
   "metadata": {},
   "outputs": [],
   "source": [
    "import json\n",
    "from luis_manager import LuisManager\n",
    "import params\n",
    "\n",
    "lm = LuisManager(\n",
    "    params.subscription_id,\n",
    "    params.app_id, \n",
    "    params.version_id, \n",
    "    params.authoring_key, \n",
    "    params.authoring_endpoint, \n",
    "    params.prediction_key,\n",
    "    params.prediction_endpoint\n",
    ")"
   ]
  },
  {
   "cell_type": "code",
   "execution_count": 2,
   "metadata": {},
   "outputs": [
    {
     "name": "stderr",
     "output_type": "stream",
     "text": [
      "INFO:root:Creating intent inform...\n",
      "WARNING:root:Intent inform not created: {'code': 'BadArgument', 'message': 'The models: { inform } already exist in the specified application version.'}\n",
      "INFO:root:Creating intent greeting...\n",
      "WARNING:root:Intent greeting not created: {'code': 'BadArgument', 'message': 'The models: { greeting } already exist in the specified application version.'}\n",
      "INFO:root:Creating intent agree...\n",
      "WARNING:root:Intent agree not created: {'code': 'BadArgument', 'message': 'The models: { agree } already exist in the specified application version.'}\n",
      "INFO:root:Creating intent disagree...\n",
      "WARNING:root:Intent disagree not created: {'code': 'BadArgument', 'message': 'The models: { disagree } already exist in the specified application version.'}\n"
     ]
    }
   ],
   "source": [
    "for intent in params.intents:\n",
    "    lm.create_intent(intent)"
   ]
  },
  {
   "cell_type": "code",
   "execution_count": 3,
   "metadata": {},
   "outputs": [
    {
     "name": "stderr",
     "output_type": "stream",
     "text": [
      "INFO:root:Creating entity or_city...\n",
      "WARNING:root:Entity or_city not created: {'code': 'BadArgument', 'message': 'The models: { or_city } already exist in the specified application version.'}\n",
      "INFO:root:Creating entity dst_city...\n",
      "WARNING:root:Entity dst_city not created: {'code': 'BadArgument', 'message': 'The models: { dst_city } already exist in the specified application version.'}\n",
      "INFO:root:Creating entity str_date...\n",
      "WARNING:root:Entity str_date not created: {'code': 'BadArgument', 'message': 'The models: { str_date } already exist in the specified application version.'}\n",
      "INFO:root:Creating entity end_date...\n",
      "WARNING:root:Entity end_date not created: {'code': 'BadArgument', 'message': 'The models: { end_date } already exist in the specified application version.'}\n",
      "INFO:root:Creating entity budget...\n",
      "WARNING:root:Entity budget not created: {'code': 'BadArgument', 'message': 'The models: { budget } already exist in the specified application version.'}\n"
     ]
    }
   ],
   "source": [
    "for entities in params.entities:\n",
    "    lm.create_entity(entities)"
   ]
  },
  {
   "cell_type": "code",
   "execution_count": 4,
   "metadata": {},
   "outputs": [
    {
     "name": "stderr",
     "output_type": "stream",
     "text": [
      "INFO:root:Starting samples upload...\n",
      "INFO:root:samples loaded.\n",
      "INFO:root:Starting samples upload...\n",
      "INFO:root:samples loaded.\n",
      "INFO:root:Starting samples upload...\n",
      "INFO:root:samples loaded.\n",
      "INFO:root:Starting samples upload...\n",
      "INFO:root:samples loaded.\n"
     ]
    }
   ],
   "source": [
    "for file in [\n",
    "    'train_agree.json', \n",
    "    'train_disagree.json', \n",
    "    'train_greeting.json', \n",
    "    'train_inform.json']:\n",
    "\n",
    "    with open(file) as f:\n",
    "        data = json.load(f)\n",
    "    response = lm.upload_samples(data)\n",
    "\n"
   ]
  },
  {
   "cell_type": "code",
   "execution_count": 5,
   "metadata": {},
   "outputs": [
    {
     "name": "stderr",
     "output_type": "stream",
     "text": [
      "INFO:root:Starting model training...\n",
      "INFO:root:Training launched.\n",
      "INFO:root:Model trained.\n"
     ]
    }
   ],
   "source": [
    "lm.train_model()\n",
    "training_status = lm.get_training_status()"
   ]
  },
  {
   "cell_type": "code",
   "execution_count": 6,
   "metadata": {},
   "outputs": [],
   "source": [
    "with open('test_data.json') as f:\n",
    "    test_data = json.load(f)"
   ]
  },
  {
   "cell_type": "code",
   "execution_count": 7,
   "metadata": {},
   "outputs": [
    {
     "name": "stderr",
     "output_type": "stream",
     "text": [
      "INFO:root:Test data uploaded.\n"
     ]
    }
   ],
   "source": [
    "test_data_upload_info = lm.upload_test_data(test_data)"
   ]
  },
  {
   "cell_type": "code",
   "execution_count": 8,
   "metadata": {},
   "outputs": [
    {
     "data": {
      "text/plain": [
       "{'_content': b'{\"operationId\":\"b8f337b7-c431-4c5f-b2ce-dab6dd4dcc34_637956000000000000\",\"status\":\"notstarted\",\"createdDateTime\":\"08/09/2022 16:05:00\",\"lastActionDateTime\":\"08/09/2022 16:05:00\"}',\n",
       " '_content_consumed': True,\n",
       " '_next': None,\n",
       " 'status_code': 202,\n",
       " 'headers': {'Cache-Control': 'no-store, proxy-revalidate, no-cache, max-age=0, private', 'Content-Length': '178', 'Content-Type': 'application/json; charset=utf-8', 'Location': 'https://westeurope.api.cognitive.microsoft.com/luis/v3.0-preview/apps/b1053843-5140-48fd-a6f0-0cfe470fb215/versions/0.1/evaluations/b8f337b7-c431-4c5f-b2ce-dab6dd4dcc34_637956000000000000/status/', 'pragma': 'no-cache', 'access-control-expose-headers': 'Operation-Location', 'request-id': 'e31d404b-0cea-4508-819a-8c37ad875f32', 'apim-request-id': 'e31d404b-0cea-4508-819a-8c37ad875f32', 'operation-location': 'https://westeurope.api.cognitive.microsoft.com/luis/v3.0-preview/apps/b1053843-5140-48fd-a6f0-0cfe470fb215/versions/0.1/evaluations/b8f337b7-c431-4c5f-b2ce-dab6dd4dcc34_637956000000000000/status/', 'x-envoy-upstream-service-time': '234', 'Strict-Transport-Security': 'max-age=31536000; includeSubDomains; preload', 'x-content-type-options': 'nosniff', 'CSP-Billing-Usage': 'CognitiveServices.LUIS.Transaction=1', 'Date': 'Tue, 09 Aug 2022 16:04:59 GMT'},\n",
       " 'raw': <urllib3.response.HTTPResponse at 0x7f86d92ad2e0>,\n",
       " 'url': 'https://p10-bot-prediction.cognitiveservices.azure.com/luis/v3.0-preview/apps/b1053843-5140-48fd-a6f0-0cfe470fb215/versions/0.1/evaluations',\n",
       " 'encoding': 'utf-8',\n",
       " 'history': [],\n",
       " 'reason': 'Accepted',\n",
       " 'cookies': <RequestsCookieJar[]>,\n",
       " 'elapsed': datetime.timedelta(microseconds=569852),\n",
       " 'request': <PreparedRequest [POST]>,\n",
       " 'connection': <requests.adapters.HTTPAdapter at 0x7f86d92ec7c0>}"
      ]
     },
     "execution_count": 8,
     "metadata": {},
     "output_type": "execute_result"
    }
   ],
   "source": [
    "test_data_upload_info.__dict__"
   ]
  },
  {
   "cell_type": "code",
   "execution_count": 9,
   "metadata": {},
   "outputs": [
    {
     "data": {
      "text/plain": [
       "'b8f337b7-c431-4c5f-b2ce-dab6dd4dcc34_637956000000000000'"
      ]
     },
     "execution_count": 9,
     "metadata": {},
     "output_type": "execute_result"
    }
   ],
   "source": [
    "operation_id = test_data_upload_info.json()['operationId']\n",
    "operation_id"
   ]
  },
  {
   "cell_type": "code",
   "execution_count": 10,
   "metadata": {},
   "outputs": [
    {
     "data": {
      "text/plain": [
       "<Response [200]>"
      ]
     },
     "execution_count": 10,
     "metadata": {},
     "output_type": "execute_result"
    }
   ],
   "source": [
    "\n",
    "test_status = lm.get_test_status(operation_id)\n",
    "test_status"
   ]
  },
  {
   "cell_type": "code",
   "execution_count": 11,
   "metadata": {},
   "outputs": [
    {
     "data": {
      "text/plain": [
       "{'_content': b'{\"errorDetails\":\"{\\\\\"error\\\\\":{\\\\\"code\\\\\":\\\\\"NotFound\\\\\",\\\\\"message\\\\\":\\\\\"The application wasn\\'t found. Please make sure that the application is published to this region.\\\\\"}}\",\"operationId\":\"b8f337b7-c431-4c5f-b2ce-dab6dd4dcc34_637956000000000000\",\"status\":\"failed\",\"createdDateTime\":\"08/09/2022 16:05:00\",\"lastActionDateTime\":\"08/09/2022 16:05:00\"}',\n",
       " '_content_consumed': True,\n",
       " '_next': None,\n",
       " 'status_code': 200,\n",
       " 'headers': {'Cache-Control': 'no-store, proxy-revalidate, no-cache, max-age=0, private', 'Content-Length': '340', 'Content-Type': 'application/json; charset=utf-8', 'pragma': 'no-cache', 'retry-after': '3', 'access-control-expose-headers': 'Operation-Location,Retry-After', 'request-id': '7301627d-bafb-43ae-a9a5-adf0ae590a17', 'apim-request-id': '7301627d-bafb-43ae-a9a5-adf0ae590a17', 'operation-location': 'https://westeurope.api.cognitive.microsoft.com/luis/v3.0-preview/apps/b1053843-5140-48fd-a6f0-0cfe470fb215/versions/0.1/evaluations/b8f337b7-c431-4c5f-b2ce-dab6dd4dcc34_637956000000000000/status/', 'x-envoy-upstream-service-time': '93', 'Strict-Transport-Security': 'max-age=31536000; includeSubDomains; preload', 'x-content-type-options': 'nosniff', 'CSP-Billing-Usage': 'CognitiveServices.LUIS.Transaction=1', 'Date': 'Tue, 09 Aug 2022 16:05:00 GMT'},\n",
       " 'raw': <urllib3.response.HTTPResponse at 0x7f86e814a310>,\n",
       " 'url': 'https://p10-bot-prediction.cognitiveservices.azure.com/luis/v3.0-preview/apps/b1053843-5140-48fd-a6f0-0cfe470fb215/versions/0.1/evaluations/b8f337b7-c431-4c5f-b2ce-dab6dd4dcc34_637956000000000000/status',\n",
       " 'encoding': 'utf-8',\n",
       " 'history': [],\n",
       " 'reason': 'OK',\n",
       " 'cookies': <RequestsCookieJar[]>,\n",
       " 'elapsed': datetime.timedelta(microseconds=268817),\n",
       " 'request': <PreparedRequest [GET]>,\n",
       " 'connection': <requests.adapters.HTTPAdapter at 0x7f86d92ad670>}"
      ]
     },
     "execution_count": 11,
     "metadata": {},
     "output_type": "execute_result"
    }
   ],
   "source": [
    "test_status.__dict__"
   ]
  },
  {
   "cell_type": "code",
   "execution_count": 12,
   "metadata": {},
   "outputs": [],
   "source": [
    "test_result = lm.get_test_result(operation_id)"
   ]
  },
  {
   "cell_type": "code",
   "execution_count": 13,
   "metadata": {},
   "outputs": [
    {
     "data": {
      "text/plain": [
       "{'_content': b'\"Failed to get Evaluations result. Failure reason = {\\\\\"error\\\\\":{\\\\\"code\\\\\":\\\\\"NotFound\\\\\",\\\\\"message\\\\\":\\\\\"The application wasn\\'t found. Please make sure that the application is published to this region.\\\\\"}}\"',\n",
       " '_content_consumed': True,\n",
       " '_next': None,\n",
       " 'status_code': 400,\n",
       " 'headers': {'Cache-Control': 'no-store, proxy-revalidate, no-cache, max-age=0, private', 'Content-Length': '201', 'Content-Type': 'application/json; charset=utf-8', 'pragma': 'no-cache', 'request-id': '20eb1c3c-9cbb-42c2-a593-ab3b472be905', 'apim-request-id': '20eb1c3c-9cbb-42c2-a593-ab3b472be905', 'x-envoy-upstream-service-time': '100', 'Strict-Transport-Security': 'max-age=31536000; includeSubDomains; preload', 'x-content-type-options': 'nosniff', 'CSP-Billing-Usage': 'CognitiveServices.LUIS.Transaction=1', 'Date': 'Tue, 09 Aug 2022 16:05:00 GMT'},\n",
       " 'raw': <urllib3.response.HTTPResponse at 0x7f86d92ecaf0>,\n",
       " 'url': 'https://p10-bot-prediction.cognitiveservices.azure.com/luis/v3.0-preview/apps/b1053843-5140-48fd-a6f0-0cfe470fb215/versions/0.1/evaluations/b8f337b7-c431-4c5f-b2ce-dab6dd4dcc34_637956000000000000/result',\n",
       " 'encoding': 'utf-8',\n",
       " 'history': [],\n",
       " 'reason': 'Bad Request',\n",
       " 'cookies': <RequestsCookieJar[]>,\n",
       " 'elapsed': datetime.timedelta(microseconds=273637),\n",
       " 'request': <PreparedRequest [GET]>,\n",
       " 'connection': <requests.adapters.HTTPAdapter at 0x7f86d92ad2b0>}"
      ]
     },
     "execution_count": 13,
     "metadata": {},
     "output_type": "execute_result"
    }
   ],
   "source": [
    "test_result.__dict__"
   ]
  }
 ],
 "metadata": {
  "kernelspec": {
   "display_name": "Python 3 (ipykernel)",
   "language": "python",
   "name": "python3"
  },
  "language_info": {
   "codemirror_mode": {
    "name": "ipython",
    "version": 3
   },
   "file_extension": ".py",
   "mimetype": "text/x-python",
   "name": "python",
   "nbconvert_exporter": "python",
   "pygments_lexer": "ipython3",
   "version": "3.8.10"
  },
  "vscode": {
   "interpreter": {
    "hash": "49ca45737546250f42b496f9f3202c989425b870612331f517aa0e5640df5f91"
   }
  },
  "widgets": {
   "application/vnd.jupyter.widget-state+json": {
    "state": {
     "002e7ce1982e43dd89cd1083bdcec0fc": {
      "model_module": "@jupyter-widgets/controls",
      "model_module_version": "1.5.0",
      "model_name": "HTMLModel",
      "state": {
       "layout": "IPY_MODEL_911696d6f17f490fbc3750c30634b687",
       "style": "IPY_MODEL_9dbeee376e6e4300bd93ec6d62edd11f",
       "value": "100%"
      }
     },
     "00399e52794747ceb5b96b601b3d0e0f": {
      "model_module": "@jupyter-widgets/base",
      "model_module_version": "1.2.0",
      "model_name": "LayoutModel",
      "state": {}
     },
     "04b4a0ea228644d4abb5187c7ae0bbdc": {
      "model_module": "@jupyter-widgets/controls",
      "model_module_version": "1.5.0",
      "model_name": "ProgressStyleModel",
      "state": {
       "description_width": ""
      }
     },
     "08d7514506354be98b1fbf1263bd8f31": {
      "model_module": "@jupyter-widgets/base",
      "model_module_version": "1.2.0",
      "model_name": "LayoutModel",
      "state": {}
     },
     "099e2e68347f4071bb2557101986d329": {
      "model_module": "@jupyter-widgets/base",
      "model_module_version": "1.2.0",
      "model_name": "LayoutModel",
      "state": {}
     },
     "1e15caf4f1fb49a7a84901179179b1da": {
      "model_module": "@jupyter-widgets/controls",
      "model_module_version": "1.5.0",
      "model_name": "HTMLModel",
      "state": {
       "layout": "IPY_MODEL_7f7a7b6622ba4c618ac43ce4c51a5ac0",
       "style": "IPY_MODEL_46cc82bd598d444bbf9e72b6c6be5ca9",
       "value": " 1369/1369 [00:09&lt;00:00, 73.80it/s]"
      }
     },
     "1e27f479afa440b6b016417faa915b8f": {
      "model_module": "@jupyter-widgets/controls",
      "model_module_version": "1.5.0",
      "model_name": "FloatProgressModel",
      "state": {
       "bar_style": "success",
       "layout": "IPY_MODEL_f18bfada1cbf4b1fa370c8126e75752a",
       "max": 10407,
       "style": "IPY_MODEL_d4c45308cca540e7982e6f0d33aed950",
       "value": 10407
      }
     },
     "2057058966464fdc80825578ffb1a708": {
      "model_module": "@jupyter-widgets/controls",
      "model_module_version": "1.5.0",
      "model_name": "DescriptionStyleModel",
      "state": {
       "description_width": ""
      }
     },
     "2632fef837ad47dfb9614b9cec44930f": {
      "model_module": "@jupyter-widgets/base",
      "model_module_version": "1.2.0",
      "model_name": "LayoutModel",
      "state": {}
     },
     "2a380e91411740aa894957ef6534eb50": {
      "model_module": "@jupyter-widgets/controls",
      "model_module_version": "1.5.0",
      "model_name": "FloatProgressModel",
      "state": {
       "bar_style": "success",
       "layout": "IPY_MODEL_fb540b483c524065be2d0ae5ee3a2d1c",
       "max": 1369,
       "style": "IPY_MODEL_04b4a0ea228644d4abb5187c7ae0bbdc",
       "value": 1369
      }
     },
     "308e80cd54b7458bb73d741879bf230b": {
      "model_module": "@jupyter-widgets/controls",
      "model_module_version": "1.5.0",
      "model_name": "HBoxModel",
      "state": {
       "children": [
        "IPY_MODEL_f752c81e67b74704ae5dac1e103814e8",
        "IPY_MODEL_c9d15c54bce142bba6a27bf158c53874",
        "IPY_MODEL_1e15caf4f1fb49a7a84901179179b1da"
       ],
       "layout": "IPY_MODEL_2632fef837ad47dfb9614b9cec44930f"
      }
     },
     "402f381a9af4438ba4946e0923a42dd0": {
      "model_module": "@jupyter-widgets/controls",
      "model_module_version": "1.5.0",
      "model_name": "DescriptionStyleModel",
      "state": {
       "description_width": ""
      }
     },
     "4285875bce864c88b241234179278c92": {
      "model_module": "@jupyter-widgets/controls",
      "model_module_version": "1.5.0",
      "model_name": "HTMLModel",
      "state": {
       "layout": "IPY_MODEL_c49f3d6a88694253aba15f5537a4f9c5",
       "style": "IPY_MODEL_2057058966464fdc80825578ffb1a708",
       "value": "100%"
      }
     },
     "46cc82bd598d444bbf9e72b6c6be5ca9": {
      "model_module": "@jupyter-widgets/controls",
      "model_module_version": "1.5.0",
      "model_name": "DescriptionStyleModel",
      "state": {
       "description_width": ""
      }
     },
     "54f2889a44eb453794587b8ddcf27bde": {
      "model_module": "@jupyter-widgets/controls",
      "model_module_version": "1.5.0",
      "model_name": "HTMLModel",
      "state": {
       "layout": "IPY_MODEL_00399e52794747ceb5b96b601b3d0e0f",
       "style": "IPY_MODEL_95abaf5d70e54a1c906933d42d2edca8",
       "value": " 1369/1369 [00:08&lt;00:00, 83.04it/s]"
      }
     },
     "62273309d4eb405eb6de3119541282c1": {
      "model_module": "@jupyter-widgets/controls",
      "model_module_version": "1.5.0",
      "model_name": "HBoxModel",
      "state": {
       "children": [
        "IPY_MODEL_002e7ce1982e43dd89cd1083bdcec0fc",
        "IPY_MODEL_1e27f479afa440b6b016417faa915b8f",
        "IPY_MODEL_ba7a0d2c208243ebb1fd098cf2647600"
       ],
       "layout": "IPY_MODEL_de2e780daa394ac3aee720f21f508142"
      }
     },
     "7f7a7b6622ba4c618ac43ce4c51a5ac0": {
      "model_module": "@jupyter-widgets/base",
      "model_module_version": "1.2.0",
      "model_name": "LayoutModel",
      "state": {}
     },
     "911696d6f17f490fbc3750c30634b687": {
      "model_module": "@jupyter-widgets/base",
      "model_module_version": "1.2.0",
      "model_name": "LayoutModel",
      "state": {}
     },
     "92f3a3867d3044789d98b7c79b3b90da": {
      "model_module": "@jupyter-widgets/controls",
      "model_module_version": "1.5.0",
      "model_name": "DescriptionStyleModel",
      "state": {
       "description_width": ""
      }
     },
     "95abaf5d70e54a1c906933d42d2edca8": {
      "model_module": "@jupyter-widgets/controls",
      "model_module_version": "1.5.0",
      "model_name": "DescriptionStyleModel",
      "state": {
       "description_width": ""
      }
     },
     "9dbeee376e6e4300bd93ec6d62edd11f": {
      "model_module": "@jupyter-widgets/controls",
      "model_module_version": "1.5.0",
      "model_name": "DescriptionStyleModel",
      "state": {
       "description_width": ""
      }
     },
     "a5c935632cdb4dc4a9124c29949d1510": {
      "model_module": "@jupyter-widgets/base",
      "model_module_version": "1.2.0",
      "model_name": "LayoutModel",
      "state": {}
     },
     "b19b42d3d6854488b6dacc0620193cfa": {
      "model_module": "@jupyter-widgets/controls",
      "model_module_version": "1.5.0",
      "model_name": "ProgressStyleModel",
      "state": {
       "description_width": ""
      }
     },
     "ba7a0d2c208243ebb1fd098cf2647600": {
      "model_module": "@jupyter-widgets/controls",
      "model_module_version": "1.5.0",
      "model_name": "HTMLModel",
      "state": {
       "layout": "IPY_MODEL_08d7514506354be98b1fbf1263bd8f31",
       "style": "IPY_MODEL_92f3a3867d3044789d98b7c79b3b90da",
       "value": " 10407/10407 [00:00&lt;00:00, 105943.81it/s]"
      }
     },
     "c49f3d6a88694253aba15f5537a4f9c5": {
      "model_module": "@jupyter-widgets/base",
      "model_module_version": "1.2.0",
      "model_name": "LayoutModel",
      "state": {}
     },
     "c9d15c54bce142bba6a27bf158c53874": {
      "model_module": "@jupyter-widgets/controls",
      "model_module_version": "1.5.0",
      "model_name": "FloatProgressModel",
      "state": {
       "bar_style": "success",
       "layout": "IPY_MODEL_a5c935632cdb4dc4a9124c29949d1510",
       "max": 1369,
       "style": "IPY_MODEL_b19b42d3d6854488b6dacc0620193cfa",
       "value": 1369
      }
     },
     "d4c45308cca540e7982e6f0d33aed950": {
      "model_module": "@jupyter-widgets/controls",
      "model_module_version": "1.5.0",
      "model_name": "ProgressStyleModel",
      "state": {
       "description_width": ""
      }
     },
     "dd161d6f567f46718390cfb6b27de086": {
      "model_module": "@jupyter-widgets/base",
      "model_module_version": "1.2.0",
      "model_name": "LayoutModel",
      "state": {}
     },
     "de2e780daa394ac3aee720f21f508142": {
      "model_module": "@jupyter-widgets/base",
      "model_module_version": "1.2.0",
      "model_name": "LayoutModel",
      "state": {}
     },
     "ed5b94aae9e64d23a20a2bc4961065e2": {
      "model_module": "@jupyter-widgets/controls",
      "model_module_version": "1.5.0",
      "model_name": "HBoxModel",
      "state": {
       "children": [
        "IPY_MODEL_4285875bce864c88b241234179278c92",
        "IPY_MODEL_2a380e91411740aa894957ef6534eb50",
        "IPY_MODEL_54f2889a44eb453794587b8ddcf27bde"
       ],
       "layout": "IPY_MODEL_099e2e68347f4071bb2557101986d329"
      }
     },
     "f18bfada1cbf4b1fa370c8126e75752a": {
      "model_module": "@jupyter-widgets/base",
      "model_module_version": "1.2.0",
      "model_name": "LayoutModel",
      "state": {}
     },
     "f752c81e67b74704ae5dac1e103814e8": {
      "model_module": "@jupyter-widgets/controls",
      "model_module_version": "1.5.0",
      "model_name": "HTMLModel",
      "state": {
       "layout": "IPY_MODEL_dd161d6f567f46718390cfb6b27de086",
       "style": "IPY_MODEL_402f381a9af4438ba4946e0923a42dd0",
       "value": "100%"
      }
     },
     "fb540b483c524065be2d0ae5ee3a2d1c": {
      "model_module": "@jupyter-widgets/base",
      "model_module_version": "1.2.0",
      "model_name": "LayoutModel",
      "state": {}
     }
    },
    "version_major": 2,
    "version_minor": 0
   }
  }
 },
 "nbformat": 4,
 "nbformat_minor": 4
}
