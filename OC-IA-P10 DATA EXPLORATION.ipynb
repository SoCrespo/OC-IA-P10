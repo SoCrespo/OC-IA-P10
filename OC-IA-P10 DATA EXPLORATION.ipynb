{
 "cells": [
  {
   "cell_type": "markdown",
   "metadata": {},
   "source": [
    "# OC-IA-P10 DATA EXPLORATION"
   ]
  },
  {
   "cell_type": "code",
   "execution_count": 1,
   "metadata": {},
   "outputs": [],
   "source": [
    "# import sys\n",
    "# !{sys.executable} -m pip install -r requirements.txt"
   ]
  },
  {
   "cell_type": "code",
   "execution_count": 2,
   "metadata": {},
   "outputs": [],
   "source": [
    "import pandas as pd\n",
    "import numpy as np\n",
    "from tqdm.notebook import tqdm\n",
    "tqdm.pandas()\n",
    "import json"
   ]
  },
  {
   "cell_type": "code",
   "execution_count": 3,
   "metadata": {},
   "outputs": [
    {
     "data": {
      "text/plain": [
       "0       [{'text': 'I'd like to book a trip to Atlantis...\n",
       "1       [{'text': 'Hello, I am looking to book a vacat...\n",
       "2       [{'text': 'Hello there i am looking to go on a...\n",
       "3       [{'text': 'Hi I'd like to go to Caprica from B...\n",
       "4       [{'text': 'Hello, I am looking to book a trip ...\n",
       "                              ...                        \n",
       "1364    [{'text': 'Hi I've got 9 days free and I'm loo...\n",
       "1365    [{'text': 'I need to get to Fortaleza on Septe...\n",
       "1366    [{'text': 'We're finally going on vacation isn...\n",
       "1367    [{'text': 'Hi there, I'm looking for a place t...\n",
       "1368    [{'text': 'I need to book a trip for the whole...\n",
       "Name: turns, Length: 1369, dtype: object"
      ]
     },
     "execution_count": 3,
     "metadata": {},
     "output_type": "execute_result"
    }
   ],
   "source": [
    "frames = pd.read_json('frames/frames.json')\n",
    "frames['turns']\n"
   ]
  },
  {
   "cell_type": "markdown",
   "metadata": {},
   "source": [
    "Let's have a look at a conversation. For ease of reading the values are sent to a json file."
   ]
  },
  {
   "cell_type": "code",
   "execution_count": 4,
   "metadata": {},
   "outputs": [],
   "source": [
    "with open('sample.json', \"w\") as f:\n",
    "    json.dump(frames.loc[0]['turns'], f, indent=4)"
   ]
  },
  {
   "cell_type": "markdown",
   "metadata": {},
   "source": [
    "We'll use only user data (not wizard's answers), and among them we'll use the text and the acts_without_refs values. Let's have a look at the values we can find inside:"
   ]
  },
  {
   "cell_type": "code",
   "execution_count": 5,
   "metadata": {},
   "outputs": [
    {
     "data": {
      "application/vnd.jupyter.widget-view+json": {
       "model_id": "8d2a89f78dc24e6fbb681f1a88944e81",
       "version_major": 2,
       "version_minor": 0
      },
      "text/plain": [
       "  0%|          | 0/1 [00:00<?, ?it/s]"
      ]
     },
     "metadata": {},
     "output_type": "display_data"
    },
    {
     "data": {
      "text/plain": [
       "{'budget',\n",
       " 'dst_city',\n",
       " 'end_date',\n",
       " 'flex',\n",
       " 'intent',\n",
       " 'n_adults',\n",
       " 'or_city',\n",
       " 'ref',\n",
       " 'str_date'}"
      ]
     },
     "execution_count": 5,
     "metadata": {},
     "output_type": "execute_result"
    }
   ],
   "source": [
    "all_entities = set()\n",
    "for conversation in tqdm(frames['turns'][:1]):\n",
    "    for turn in conversation:\n",
    "        for act in turn['labels']['acts']:\n",
    "            for arg in act['args']:\n",
    "                all_entities.add(arg['key'])\n",
    "       \n",
    "all_entities"
   ]
  },
  {
   "cell_type": "markdown",
   "metadata": {},
   "source": [
    "\n",
    "We'll specifically stick to the values we want to process in this MVP:\n",
    "- departure city ('or_city')\n",
    "- arrival city ('dest_city')\n",
    "- departure date ('str_date')\n",
    "- end date ('end_date')\n",
    "- budget ('budget')"
   ]
  },
  {
   "cell_type": "code",
   "execution_count": 6,
   "metadata": {},
   "outputs": [],
   "source": [
    "entities = [\n",
    "    'budget',\n",
    "    'or_city',\n",
    "    'dst_city',\n",
    "    'str_date',\n",
    "    'end_date',\n",
    "    'intent',\n",
    " ]\n"
   ]
  },
  {
   "cell_type": "markdown",
   "metadata": {},
   "source": [
    "\n",
    "Moreover, since in this MVP we do not want to manage any historical aspect, we'll only keep the first utterance of each conversation."
   ]
  },
  {
   "cell_type": "markdown",
   "metadata": {},
   "source": [
    "Example of json file format for training LUIS:"
   ]
  },
  {
   "cell_type": "markdown",
   "metadata": {},
   "source": [
    "```Python\n",
    "[\n",
    "  {\n",
    "    \"text\": \"order a pizza\",\n",
    "    \"intentName\": \"ModifyOrder\",\n",
    "    \"entityLabels\": [\n",
    "      {\n",
    "        \"entityName\": \"Order\",\n",
    "        \"startCharIndex\": 6,\n",
    "        \"endCharIndex\": 12\n",
    "      }\n",
    "    ]\n",
    "  },\n",
    "  {\n",
    "    \"text\": \"order a large pepperoni pizza\",\n",
    "    \"intentName\": \"ModifyOrder\",\n",
    "    \"entityLabels\": [\n",
    "      {\n",
    "        \"entityName\": \"Order\",\n",
    "        \"startCharIndex\": 6,\n",
    "        \"endCharIndex\": 28\n",
    "      },\n",
    "      {\n",
    "        \"entityName\": \"FullPizzaWithModifiers\",\n",
    "        \"startCharIndex\": 6,\n",
    "        \"endCharIndex\": 28\n",
    "      },\n",
    "      {\n",
    "        \"entityName\": \"PizzaType\",\n",
    "        \"startCharIndex\": 14,\n",
    "        \"endCharIndex\": 28\n",
    "      },\n",
    "      {\n",
    "        \"entityName\": \"Size\",\n",
    "        \"startCharIndex\": 8,\n",
    "        \"endCharIndex\": 12\n",
    "      }\n",
    "    ]\n",
    "  },\n",
    "  {\n",
    "    \"text\": \"I want two large pepperoni pizzas on thin crust\",\n",
    "    \"intentName\": \"ModifyOrder\",\n",
    "    \"entityLabels\": [\n",
    "      {\n",
    "        \"entityName\": \"Order\",\n",
    "        \"startCharIndex\": 7,\n",
    "        \"endCharIndex\": 46\n",
    "      },\n",
    "      {\n",
    "        \"entityName\": \"FullPizzaWithModifiers\",\n",
    "        \"startCharIndex\": 7,\n",
    "        \"endCharIndex\": 46\n",
    "      },\n",
    "      {\n",
    "        \"entityName\": \"PizzaType\",\n",
    "        \"startCharIndex\": 17,\n",
    "        \"endCharIndex\": 32\n",
    "      },\n",
    "      {\n",
    "        \"entityName\": \"Size\",\n",
    "        \"startCharIndex\": 11,\n",
    "        \"endCharIndex\": 15\n",
    "      },\n",
    "      {\n",
    "        \"entityName\": \"Quantity\",\n",
    "        \"startCharIndex\": 7,\n",
    "        \"endCharIndex\": 9\n",
    "      },\n",
    "      {\n",
    "        \"entityName\": \"Crust\",\n",
    "        \"startCharIndex\": 37,\n",
    "        \"endCharIndex\": 46\n",
    "      }\n",
    "    ]\n",
    "  }\n",
    "]\n",
    "```"
   ]
  },
  {
   "cell_type": "code",
   "execution_count": 7,
   "metadata": {},
   "outputs": [],
   "source": [
    "def merge_elements(list_of_same_entities):\n",
    "    \"\"\"\n",
    "    Merge entities of same category into one. E.g. (for the sentence\n",
    "    'I want to go to Paris on the 5th of May'):\n",
    "\n",
    "    list_of_same_entities = [\n",
    "        {\n",
    "            'entityName': 'str_date',\n",
    "            'startCharIndex': 29,  # index of '5'\n",
    "            'endCharIndex': 31,\n",
    "        },\n",
    "        {\n",
    "            'entityName': 'str_date',\n",
    "            'startCharIndex': 36,  # index of 'May'\n",
    "            'endCharIndex': 38,\n",
    "        },  \n",
    "    ]\n",
    "    output = [\n",
    "        {\n",
    "            'entityName': 'str_date',\n",
    "            'startCharIndex': 29,  # index of '5'\n",
    "            'endCharIndex': 38, # end index of 'May'\n",
    "        },  \n",
    "    ]   \n",
    "        \n",
    "    \"\"\"\n",
    "    list_of_same_entities = sorted(list_of_same_entities, key=lambda x: x['startCharIndex'])\n",
    "    entity_name = list_of_same_entities[0]['entityName']\n",
    "    start_index = list_of_same_entities[0]['startCharIndex']\n",
    "    end_index = list_of_same_entities[-1]['endCharIndex']\n",
    "    result = [{    \n",
    "        'entityName': entity_name,\n",
    "        'startCharIndex': start_index,\n",
    "        'endCharIndex': end_index,\n",
    "    }]\n",
    "    return result \n",
    "\n",
    "assert merge_elements([\n",
    "        {\n",
    "            'entityName': 'str_date',\n",
    "            'startCharIndex': 29,  # index of '5'\n",
    "            'endCharIndex': 31,\n",
    "        },\n",
    "        {\n",
    "            'entityName': 'str_date',\n",
    "            'startCharIndex': 36,  # index of 'May'\n",
    "            'endCharIndex': 38,\n",
    "        },  \n",
    "                    ]) == [\n",
    "        {\n",
    "            'entityName': 'str_date',\n",
    "            'startCharIndex': 29,  # index of '5'\n",
    "            'endCharIndex': 38, # end index of 'May'\n",
    "        }   \n",
    "                        ]\n"
   ]
  },
  {
   "cell_type": "code",
   "execution_count": 8,
   "metadata": {},
   "outputs": [],
   "source": [
    "def extract_args(text, arg):\n",
    "    \"\"\"\n",
    "    Formats args of arg into a list of dicts as follows:\n",
    "    [\n",
    "        {\n",
    "            'entityName': '...',\n",
    "            'startCharIndex': ...,\n",
    "            'endCharIndex': ...,\n",
    "        },  \n",
    "    ]\n",
    "    \"\"\"\n",
    "    results = []\n",
    "    for item in arg['args']:\n",
    "        key = item['key']\n",
    "        val = item['val']\n",
    "        if not (val and isinstance(val, str) and val in text):\n",
    "            continue\n",
    "            \n",
    "        start_index = text.index(val)\n",
    "        end_index = start_index + len(val)\n",
    "        results.append({\n",
    "            'entityName': key,\n",
    "            'startCharIndex': start_index,\n",
    "            'endCharIndex': end_index,  \n",
    "        })\n",
    "    \n",
    "    # Some data, such as dates, may be split into multiple entities,\n",
    "    # we need to merge them\n",
    "    merged_results = []\n",
    "    for entity in entities:\n",
    "        elements_for_entity = [item for item in results \n",
    "                                if item['entityName'] == entity]\n",
    "        if len(elements_for_entity) > 1:\n",
    "            merged_results.extend(merge_elements(elements_for_entity))\n",
    "        elif len(elements_for_entity) == 1:\n",
    "            merged_results.extend(elements_for_entity)\n",
    "    return merged_results   \n",
    "\n",
    "   \n",
    "    \n",
    "def extract_intent_name(arg):\n",
    "    return arg['name'] \n",
    "\n",
    "\n",
    "def extract_data(sentence):\n",
    "    \"\"\"\n",
    "    Return selected data from sentence\n",
    "    (a round of a counversation) in following format:\n",
    "    {\n",
    "        'intent': ['...'],\n",
    "        'entities': [\n",
    "            {\n",
    "                'entityName': '...',\n",
    "                'startCharIndex': ...,\n",
    "                'endCharIndex': ...,\n",
    "            },\n",
    "        ],\n",
    "    }\n",
    "    \"\"\"\n",
    "    data = dict()\n",
    "    text = sentence['text']\n",
    "    args = sentence['labels']['acts_without_refs']\n",
    "    entities = []\n",
    "    data['text'] = text\n",
    "    data['intentName'] = set([extract_intent_name(arg) for arg in args])\n",
    "    for arg in args:\n",
    "        entities.extend(extract_args(text, arg))\n",
    "    data['entityLabels'] = entities\n",
    "    return data\n",
    "\n",
    "    "
   ]
  },
  {
   "cell_type": "code",
   "execution_count": 9,
   "metadata": {},
   "outputs": [],
   "source": [
    "text = \"I'd like to book a trip to Atlantis from Caprica on Saturday, August 13, 2016 for 8 adults. I have a tight budget of 1700.\"\n",
    "arg_1 = {'args': [\n",
    "                {'val': 'book', 'key': 'intent'}\n",
    "                ], \n",
    "        'name': 'inform'}\n",
    "arg_2 = {'args': [\n",
    "                {'val': 'Caprica', 'key': 'or_city'}, \n",
    "                {'val': 'Saturday', 'key': 'str_date'}, \n",
    "                {'val': 'August', 'key': 'str_date'}, \n",
    "                {'val': '2016', 'key': 'str_date'}, \n",
    "                {'val': '8', 'key': 'adults'}, \n",
    "                {'val': '1700', 'key': 'budget'}\n",
    "                ], \n",
    "        'name': 'request'}\n",
    "\n",
    "assert extract_args(text, arg_1) == [{'entityName': 'intent', 'startCharIndex': 12, 'endCharIndex': 16}]\n",
    "assert extract_args(text, arg_2) == [\n",
    "        {'entityName': 'budget', 'startCharIndex': 117, 'endCharIndex': 121},\n",
    "        {'entityName': 'or_city', 'startCharIndex': 41, 'endCharIndex': 48},\n",
    "        {'entityName': 'str_date', 'startCharIndex': 52, 'endCharIndex': 77}]"
   ]
  },
  {
   "cell_type": "code",
   "execution_count": 10,
   "metadata": {},
   "outputs": [],
   "source": [
    "excerpt_1 = {'text': \"I'd like to book a trip to Atlantis from Caprica on Saturday, August 13, 2016 for 8 adults. I have a tight budget of 1700.\",\n",
    " 'labels': {'acts': [{'args': [{'val': 'book', 'key': 'intent'}],\n",
    "    'name': 'inform'},\n",
    "   {'args': [{'val': 'Atlantis', 'key': 'dst_city'},\n",
    "     {'val': 'Caprica', 'key': 'or_city'},\n",
    "     {'val': 'Saturday, August 13, 2016', 'key': 'str_date'},\n",
    "     {'val': '8', 'key': 'n_adults'},\n",
    "     {'val': '1700', 'key': 'budget'}],\n",
    "    'name': 'inform'}],\n",
    "  'acts_without_refs': [{'args': [{'val': 'book', 'key': 'intent'}],\n",
    "    'name': 'inform'},\n",
    "   {'args': [{'val': 'Atlantis', 'key': 'dst_city'},\n",
    "     {'val': 'Caprica', 'key': 'or_city'},\n",
    "     {'val': 'Saturday, August 13, 2016', 'key': 'str_date'},\n",
    "     {'val': '8', 'key': 'n_adults'},\n",
    "     {'val': '1700', 'key': 'budget'}],\n",
    "    'name': 'inform'}],\n",
    "  'active_frame': 1,\n",
    "  'frames': [{'info': {'intent': [{'val': 'book', 'negated': False}],\n",
    "     'budget': [{'val': '1700.0', 'negated': False}],\n",
    "     'dst_city': [{'val': 'Atlantis', 'negated': False}],\n",
    "     'or_city': [{'val': 'Caprica', 'negated': False}],\n",
    "     'str_date': [{'val': 'august 13', 'negated': False}],\n",
    "     'n_adults': [{'val': '8', 'negated': False}]},\n",
    "    'frame_id': 1,\n",
    "    'requests': [],\n",
    "    'frame_parent_id': None,\n",
    "    'binary_questions': [],\n",
    "    'compare_requests': []}]},\n",
    " 'author': 'user',\n",
    " 'timestamp': 1471272019730.0}\n",
    "\n",
    "excerpt_2 = {'text': 'Hello there i am looking to go on a vacation with my family to Gotham City, can you help me?',\n",
    " 'labels': {'acts': [{'args': [{'val': 'book', 'key': 'intent'}],\n",
    "    'name': 'inform'},\n",
    "   {'args': [{'val': 'Gotham City', 'key': 'dst_city'}], 'name': 'inform'},\n",
    "   {'args': [], 'name': 'greeting'}],\n",
    "  'acts_without_refs': [{'args': [{'val': 'book', 'key': 'intent'}],\n",
    "    'name': 'inform'},\n",
    "   {'args': [{'val': 'Gotham City', 'key': 'dst_city'}], 'name': 'inform'},\n",
    "   {'args': [], 'name': 'greeting'}],\n",
    "  'active_frame': 1,\n",
    "  'frames': [{'info': {'intent': [{'val': 'book', 'negated': False}],\n",
    "     'dst_city': [{'val': 'Gotham City', 'negated': False}]},\n",
    "    'frame_id': 1,\n",
    "    'requests': [],\n",
    "    'frame_parent_id': None,\n",
    "    'binary_questions': [],\n",
    "    'compare_requests': []}]},\n",
    " 'author': 'user',\n",
    " 'timestamp': 1471273579715.0}\n",
    "\n",
    "\n",
    "assert extract_intent_name(excerpt_1['labels']['acts'][0]) == 'inform'\n",
    "assert extract_intent_name(excerpt_2['labels']['acts'][0]) == 'inform'\n",
    "\n",
    "assert extract_data(excerpt_1) == {\n",
    "\n",
    "  'text': \"I'd like to book a trip to Atlantis from Caprica on Saturday, August 13, 2016 for 8 adults. I have a tight budget of 1700.\",\n",
    "  'intentName': {'inform'},\n",
    "  'entityLabels': [\n",
    "      {'entityName': 'intent', 'startCharIndex': 12,'endCharIndex': 16},\n",
    "      {'entityName': 'budget', 'startCharIndex': 117, 'endCharIndex': 121},\n",
    "      {'entityName': 'or_city', 'startCharIndex': 41, 'endCharIndex': 48},\n",
    "      {'entityName': 'dst_city', 'startCharIndex': 27, 'endCharIndex': 35},\n",
    "      {'entityName': 'str_date', 'startCharIndex': 52, 'endCharIndex': 77}\n",
    "                  ],         \n",
    "                              }\n",
    "\n",
    "assert extract_data(excerpt_2) == {\n",
    "    'text': 'Hello there i am looking to go on a vacation with my family to Gotham City, can you help me?',\n",
    "    'intentName': {'inform', 'greeting'},\n",
    "    'entityLabels': [\n",
    "        {\n",
    "          'entityName': 'dst_city',\n",
    "          'startCharIndex': 63,\n",
    "          'endCharIndex': 74\n",
    "          }]}"
   ]
  },
  {
   "cell_type": "markdown",
   "metadata": {},
   "source": [
    "Let's extract data into the required json format:"
   ]
  },
  {
   "cell_type": "code",
   "execution_count": 11,
   "metadata": {},
   "outputs": [
    {
     "data": {
      "application/vnd.jupyter.widget-view+json": {
       "model_id": "f6edbe449b494bde9268bae438706724",
       "version_major": 2,
       "version_minor": 0
      },
      "text/plain": [
       "  0%|          | 0/1369 [00:00<?, ?it/s]"
      ]
     },
     "metadata": {},
     "output_type": "display_data"
    }
   ],
   "source": [
    "all_data = [extract_data(conversation[0]) for conversation in tqdm(frames['turns'].values)]"
   ]
  },
  {
   "cell_type": "markdown",
   "metadata": {},
   "source": [
    "What are the different intentName values?"
   ]
  },
  {
   "cell_type": "code",
   "execution_count": 12,
   "metadata": {},
   "outputs": [
    {
     "data": {
      "text/plain": [
       "{'greeting', 'inform', 'request', 'thankyou'}"
      ]
     },
     "execution_count": 12,
     "metadata": {},
     "output_type": "execute_result"
    }
   ],
   "source": [
    "intents = set()\n",
    "for data in all_data:\n",
    "    intents.update(data['intentName'])\n",
    "intents    "
   ]
  },
  {
   "cell_type": "markdown",
   "metadata": {},
   "source": [
    "Let's have a look at examples:"
   ]
  },
  {
   "cell_type": "code",
   "execution_count": 13,
   "metadata": {},
   "outputs": [
    {
     "name": "stdout",
     "output_type": "stream",
     "text": [
      "\n",
      "INTENT: {'inform'}\n",
      "TEXT: I'd like to get away from Monday, August 15, 2016 to Wednesday, August 31, 2016. My budget is $3200 and I would leave from Detroit.\n",
      "NB OF ENTITY LABELS: 4\n",
      "\n",
      "INTENT: {'inform'}\n",
      "TEXT: Good day, please book me a trip from Vancouver, Jamaica to Recife. I would like to leave for 17 days on August 24.\n",
      "NB OF ENTITY LABELS: 4\n",
      "\n",
      "INTENT: {'inform', 'greeting'}\n",
      "TEXT: Hi im looking for a nice destination that i could go to from Columbus\n",
      "NB OF ENTITY LABELS: 1\n",
      "\n",
      "INTENT: {'inform'}\n",
      "TEXT: Hi, I have a big family and we can't afford a big vacation, we want to go to Atlantis from Mos Eisley for $3600 at most.\n",
      "NB OF ENTITY LABELS: 3\n",
      "\n",
      "INTENT: {'inform'}\n",
      "TEXT: Hi, I'm leaving from Diagon Alley and going to Coruscant on a budget of $3400. The dates don't matter, but I cannot afford anything over my budget.\n",
      "NB OF ENTITY LABELS: 3\n"
     ]
    }
   ],
   "source": [
    "\n",
    "for data in all_data[10:15]:\n",
    "    intent = data['intentName']\n",
    "    print('\\nINTENT:', intent)\n",
    "    print('TEXT:', data['text'])\n",
    "    print('NB OF ENTITY LABELS:', len(data['entityLabels']))\n"
   ]
  },
  {
   "cell_type": "code",
   "execution_count": 14,
   "metadata": {},
   "outputs": [
    {
     "data": {
      "text/html": [
       "<div>\n",
       "<style scoped>\n",
       "    .dataframe tbody tr th:only-of-type {\n",
       "        vertical-align: middle;\n",
       "    }\n",
       "\n",
       "    .dataframe tbody tr th {\n",
       "        vertical-align: top;\n",
       "    }\n",
       "\n",
       "    .dataframe thead th {\n",
       "        text-align: right;\n",
       "    }\n",
       "</style>\n",
       "<table border=\"1\" class=\"dataframe\">\n",
       "  <thead>\n",
       "    <tr style=\"text-align: right;\">\n",
       "      <th></th>\n",
       "      <th>text</th>\n",
       "      <th>intentName</th>\n",
       "      <th>entityLabels</th>\n",
       "    </tr>\n",
       "  </thead>\n",
       "  <tbody>\n",
       "    <tr>\n",
       "      <th>0</th>\n",
       "      <td>I'd like to book a trip to Atlantis from Capri...</td>\n",
       "      <td>{inform}</td>\n",
       "      <td>[{'entityName': 'intent', 'startCharIndex': 12...</td>\n",
       "    </tr>\n",
       "    <tr>\n",
       "      <th>1</th>\n",
       "      <td>Hello, I am looking to book a vacation from Go...</td>\n",
       "      <td>{inform, greeting}</td>\n",
       "      <td>[{'entityName': 'intent', 'startCharIndex': 23...</td>\n",
       "    </tr>\n",
       "    <tr>\n",
       "      <th>2</th>\n",
       "      <td>Hello there i am looking to go on a vacation w...</td>\n",
       "      <td>{inform, greeting}</td>\n",
       "      <td>[{'entityName': 'dst_city', 'startCharIndex': ...</td>\n",
       "    </tr>\n",
       "    <tr>\n",
       "      <th>3</th>\n",
       "      <td>Hi I'd like to go to Caprica from Busan, betwe...</td>\n",
       "      <td>{inform, greeting}</td>\n",
       "      <td>[{'entityName': 'or_city', 'startCharIndex': 3...</td>\n",
       "    </tr>\n",
       "    <tr>\n",
       "      <th>4</th>\n",
       "      <td>Hello, I am looking to book a trip for 2 adult...</td>\n",
       "      <td>{inform, greeting}</td>\n",
       "      <td>[{'entityName': 'intent', 'startCharIndex': 23...</td>\n",
       "    </tr>\n",
       "    <tr>\n",
       "      <th>...</th>\n",
       "      <td>...</td>\n",
       "      <td>...</td>\n",
       "      <td>...</td>\n",
       "    </tr>\n",
       "    <tr>\n",
       "      <th>1364</th>\n",
       "      <td>Hi I've got 9 days free and I'm looking for a ...</td>\n",
       "      <td>{inform}</td>\n",
       "      <td>[{'entityName': 'or_city', 'startCharIndex': 6...</td>\n",
       "    </tr>\n",
       "    <tr>\n",
       "      <th>1365</th>\n",
       "      <td>I need to get to Fortaleza on September 8th or...</td>\n",
       "      <td>{inform}</td>\n",
       "      <td>[{'entityName': 'dst_city', 'startCharIndex': ...</td>\n",
       "    </tr>\n",
       "    <tr>\n",
       "      <th>1366</th>\n",
       "      <td>We're finally going on vacation isn't that ama...</td>\n",
       "      <td>{inform}</td>\n",
       "      <td>[{'entityName': 'budget', 'startCharIndex': 75...</td>\n",
       "    </tr>\n",
       "    <tr>\n",
       "      <th>1367</th>\n",
       "      <td>Hi there, I'm looking for a place to get away ...</td>\n",
       "      <td>{inform}</td>\n",
       "      <td>[]</td>\n",
       "    </tr>\n",
       "    <tr>\n",
       "      <th>1368</th>\n",
       "      <td>I need to book a trip for the whole family fro...</td>\n",
       "      <td>{inform}</td>\n",
       "      <td>[{'entityName': 'intent', 'startCharIndex': 10...</td>\n",
       "    </tr>\n",
       "  </tbody>\n",
       "</table>\n",
       "<p>1369 rows × 3 columns</p>\n",
       "</div>"
      ],
      "text/plain": [
       "                                                   text          intentName  \\\n",
       "0     I'd like to book a trip to Atlantis from Capri...            {inform}   \n",
       "1     Hello, I am looking to book a vacation from Go...  {inform, greeting}   \n",
       "2     Hello there i am looking to go on a vacation w...  {inform, greeting}   \n",
       "3     Hi I'd like to go to Caprica from Busan, betwe...  {inform, greeting}   \n",
       "4     Hello, I am looking to book a trip for 2 adult...  {inform, greeting}   \n",
       "...                                                 ...                 ...   \n",
       "1364  Hi I've got 9 days free and I'm looking for a ...            {inform}   \n",
       "1365  I need to get to Fortaleza on September 8th or...            {inform}   \n",
       "1366  We're finally going on vacation isn't that ama...            {inform}   \n",
       "1367  Hi there, I'm looking for a place to get away ...            {inform}   \n",
       "1368  I need to book a trip for the whole family fro...            {inform}   \n",
       "\n",
       "                                           entityLabels  \n",
       "0     [{'entityName': 'intent', 'startCharIndex': 12...  \n",
       "1     [{'entityName': 'intent', 'startCharIndex': 23...  \n",
       "2     [{'entityName': 'dst_city', 'startCharIndex': ...  \n",
       "3     [{'entityName': 'or_city', 'startCharIndex': 3...  \n",
       "4     [{'entityName': 'intent', 'startCharIndex': 23...  \n",
       "...                                                 ...  \n",
       "1364  [{'entityName': 'or_city', 'startCharIndex': 6...  \n",
       "1365  [{'entityName': 'dst_city', 'startCharIndex': ...  \n",
       "1366  [{'entityName': 'budget', 'startCharIndex': 75...  \n",
       "1367                                                 []  \n",
       "1368  [{'entityName': 'intent', 'startCharIndex': 10...  \n",
       "\n",
       "[1369 rows x 3 columns]"
      ]
     },
     "execution_count": 14,
     "metadata": {},
     "output_type": "execute_result"
    }
   ],
   "source": [
    "all_data_df = pd.DataFrame(all_data)\n",
    "all_data_df"
   ]
  },
  {
   "cell_type": "markdown",
   "metadata": {},
   "source": [
    "There seems to be two kinds of \"intents\" in the data:\n",
    "- global intent (\"book\"...)\n",
    "- intents for the current conversation (\"inform\", \"greeting\"...), that are part of entities."
   ]
  },
  {
   "cell_type": "markdown",
   "metadata": {},
   "source": [
    "What are the most common intents for current conversation (ie entities intents)?"
   ]
  },
  {
   "cell_type": "code",
   "execution_count": 15,
   "metadata": {},
   "outputs": [
    {
     "data": {
      "text/plain": [
       "{'greeting', 'inform', 'request', 'thankyou'}"
      ]
     },
     "execution_count": 15,
     "metadata": {},
     "output_type": "execute_result"
    }
   ],
   "source": [
    "intents"
   ]
  },
  {
   "cell_type": "markdown",
   "metadata": {},
   "source": [
    "Let's visualize these intents and the other entities as columns of our dataframe."
   ]
  },
  {
   "cell_type": "code",
   "execution_count": 30,
   "metadata": {},
   "outputs": [],
   "source": [
    "for intent in intents:\n",
    "    all_data_df[\"intent_\" + intent] = all_data_df[\"intentName\"].apply(lambda x: 1 if intent in x else 0)\n",
    "\n",
    "def entity_is_present(entity_name, entity_labels):\n",
    "    for entity_label in entity_labels:\n",
    "        if entity_label['entityName'] == entity_name:\n",
    "            return True\n",
    "    return False\n",
    "\n",
    "for entity in entities:\n",
    "    all_data_df[\"entity_\"+ entity] = all_data_df[\"entityLabels\"].apply(lambda x: 1 if entity_is_present(entity, x) else 0)    \n"
   ]
  },
  {
   "cell_type": "markdown",
   "metadata": {},
   "source": [
    "So we have different intents, and also the entity \"intent\", which is confusing. What are these entities \"intent\" values?"
   ]
  },
  {
   "cell_type": "code",
   "execution_count": 32,
   "metadata": {},
   "outputs": [],
   "source": [
    "def get_intent(text, entity_labels):\n",
    "    for entity_label in entity_labels:\n",
    "        if entity_label['entityName'] == 'intent':\n",
    "            return text[entity_label['startCharIndex']:entity_label['endCharIndex']]\n",
    "    return None\n",
    "assert get_intent(*all_data_df.loc[0, ['text', 'entityLabels']].values) == 'book'\n",
    "all_data_df['intent'] = all_data_df.apply(lambda x: get_intent(x['text'], x['entityLabels']), axis=1)"
   ]
  },
  {
   "cell_type": "code",
   "execution_count": 33,
   "metadata": {},
   "outputs": [
    {
     "data": {
      "text/plain": [
       "array(['book', None], dtype=object)"
      ]
     },
     "execution_count": 33,
     "metadata": {},
     "output_type": "execute_result"
    }
   ],
   "source": [
    "all_data_df['intent'].unique()"
   ]
  },
  {
   "cell_type": "code",
   "execution_count": 34,
   "metadata": {},
   "outputs": [
    {
     "data": {
      "text/html": [
       "<div>\n",
       "<style scoped>\n",
       "    .dataframe tbody tr th:only-of-type {\n",
       "        vertical-align: middle;\n",
       "    }\n",
       "\n",
       "    .dataframe tbody tr th {\n",
       "        vertical-align: top;\n",
       "    }\n",
       "\n",
       "    .dataframe thead th {\n",
       "        text-align: right;\n",
       "    }\n",
       "</style>\n",
       "<table border=\"1\" class=\"dataframe\">\n",
       "  <thead>\n",
       "    <tr style=\"text-align: right;\">\n",
       "      <th></th>\n",
       "      <th>text</th>\n",
       "      <th>intentName</th>\n",
       "      <th>entityLabels</th>\n",
       "      <th>intent_greeting</th>\n",
       "      <th>intent_thankyou</th>\n",
       "      <th>intent_inform</th>\n",
       "      <th>intent_request</th>\n",
       "      <th>entity_budget</th>\n",
       "      <th>entity_or_city</th>\n",
       "      <th>entity_dst_city</th>\n",
       "      <th>entity_str_date</th>\n",
       "      <th>entity_end_date</th>\n",
       "      <th>entity_intent</th>\n",
       "      <th>intent</th>\n",
       "      <th>total</th>\n",
       "    </tr>\n",
       "  </thead>\n",
       "  <tbody>\n",
       "    <tr>\n",
       "      <th>2</th>\n",
       "      <td>Hello there i am looking to go on a vacation w...</td>\n",
       "      <td>{inform, greeting}</td>\n",
       "      <td>[{'entityName': 'dst_city', 'startCharIndex': ...</td>\n",
       "      <td>1</td>\n",
       "      <td>0</td>\n",
       "      <td>1</td>\n",
       "      <td>0</td>\n",
       "      <td>0</td>\n",
       "      <td>0</td>\n",
       "      <td>1</td>\n",
       "      <td>0</td>\n",
       "      <td>0</td>\n",
       "      <td>0</td>\n",
       "      <td>None</td>\n",
       "      <td>0</td>\n",
       "    </tr>\n",
       "    <tr>\n",
       "      <th>3</th>\n",
       "      <td>Hi I'd like to go to Caprica from Busan, betwe...</td>\n",
       "      <td>{inform, greeting}</td>\n",
       "      <td>[{'entityName': 'or_city', 'startCharIndex': 3...</td>\n",
       "      <td>1</td>\n",
       "      <td>0</td>\n",
       "      <td>1</td>\n",
       "      <td>0</td>\n",
       "      <td>0</td>\n",
       "      <td>1</td>\n",
       "      <td>1</td>\n",
       "      <td>1</td>\n",
       "      <td>1</td>\n",
       "      <td>0</td>\n",
       "      <td>None</td>\n",
       "      <td>0</td>\n",
       "    </tr>\n",
       "    <tr>\n",
       "      <th>5</th>\n",
       "      <td>Hey, i Want to go to St. Louis on the 17th of ...</td>\n",
       "      <td>{inform, greeting}</td>\n",
       "      <td>[{'entityName': 'dst_city', 'startCharIndex': ...</td>\n",
       "      <td>1</td>\n",
       "      <td>0</td>\n",
       "      <td>1</td>\n",
       "      <td>0</td>\n",
       "      <td>0</td>\n",
       "      <td>0</td>\n",
       "      <td>1</td>\n",
       "      <td>1</td>\n",
       "      <td>0</td>\n",
       "      <td>0</td>\n",
       "      <td>None</td>\n",
       "      <td>0</td>\n",
       "    </tr>\n",
       "    <tr>\n",
       "      <th>6</th>\n",
       "      <td>I'm looking for a trip to Gotham City leaving ...</td>\n",
       "      <td>{inform}</td>\n",
       "      <td>[{'entityName': 'budget', 'startCharIndex': 12...</td>\n",
       "      <td>0</td>\n",
       "      <td>0</td>\n",
       "      <td>1</td>\n",
       "      <td>0</td>\n",
       "      <td>1</td>\n",
       "      <td>1</td>\n",
       "      <td>1</td>\n",
       "      <td>1</td>\n",
       "      <td>0</td>\n",
       "      <td>0</td>\n",
       "      <td>None</td>\n",
       "      <td>0</td>\n",
       "    </tr>\n",
       "    <tr>\n",
       "      <th>9</th>\n",
       "      <td>Hi, I need to go to Mos Eisley for a wedding, ...</td>\n",
       "      <td>{inform}</td>\n",
       "      <td>[{'entityName': 'budget', 'startCharIndex': 14...</td>\n",
       "      <td>0</td>\n",
       "      <td>0</td>\n",
       "      <td>1</td>\n",
       "      <td>0</td>\n",
       "      <td>1</td>\n",
       "      <td>0</td>\n",
       "      <td>1</td>\n",
       "      <td>1</td>\n",
       "      <td>1</td>\n",
       "      <td>0</td>\n",
       "      <td>None</td>\n",
       "      <td>0</td>\n",
       "    </tr>\n",
       "    <tr>\n",
       "      <th>...</th>\n",
       "      <td>...</td>\n",
       "      <td>...</td>\n",
       "      <td>...</td>\n",
       "      <td>...</td>\n",
       "      <td>...</td>\n",
       "      <td>...</td>\n",
       "      <td>...</td>\n",
       "      <td>...</td>\n",
       "      <td>...</td>\n",
       "      <td>...</td>\n",
       "      <td>...</td>\n",
       "      <td>...</td>\n",
       "      <td>...</td>\n",
       "      <td>...</td>\n",
       "      <td>...</td>\n",
       "    </tr>\n",
       "    <tr>\n",
       "      <th>1363</th>\n",
       "      <td>I have a CRUCIAL meeting with my investors in ...</td>\n",
       "      <td>{inform}</td>\n",
       "      <td>[{'entityName': 'dst_city', 'startCharIndex': ...</td>\n",
       "      <td>0</td>\n",
       "      <td>0</td>\n",
       "      <td>1</td>\n",
       "      <td>0</td>\n",
       "      <td>0</td>\n",
       "      <td>0</td>\n",
       "      <td>1</td>\n",
       "      <td>0</td>\n",
       "      <td>0</td>\n",
       "      <td>0</td>\n",
       "      <td>None</td>\n",
       "      <td>0</td>\n",
       "    </tr>\n",
       "    <tr>\n",
       "      <th>1364</th>\n",
       "      <td>Hi I've got 9 days free and I'm looking for a ...</td>\n",
       "      <td>{inform}</td>\n",
       "      <td>[{'entityName': 'or_city', 'startCharIndex': 6...</td>\n",
       "      <td>0</td>\n",
       "      <td>0</td>\n",
       "      <td>1</td>\n",
       "      <td>0</td>\n",
       "      <td>0</td>\n",
       "      <td>1</td>\n",
       "      <td>0</td>\n",
       "      <td>0</td>\n",
       "      <td>0</td>\n",
       "      <td>0</td>\n",
       "      <td>None</td>\n",
       "      <td>0</td>\n",
       "    </tr>\n",
       "    <tr>\n",
       "      <th>1365</th>\n",
       "      <td>I need to get to Fortaleza on September 8th or...</td>\n",
       "      <td>{inform}</td>\n",
       "      <td>[{'entityName': 'dst_city', 'startCharIndex': ...</td>\n",
       "      <td>0</td>\n",
       "      <td>0</td>\n",
       "      <td>1</td>\n",
       "      <td>0</td>\n",
       "      <td>0</td>\n",
       "      <td>0</td>\n",
       "      <td>1</td>\n",
       "      <td>1</td>\n",
       "      <td>0</td>\n",
       "      <td>0</td>\n",
       "      <td>None</td>\n",
       "      <td>0</td>\n",
       "    </tr>\n",
       "    <tr>\n",
       "      <th>1366</th>\n",
       "      <td>We're finally going on vacation isn't that ama...</td>\n",
       "      <td>{inform}</td>\n",
       "      <td>[{'entityName': 'budget', 'startCharIndex': 75...</td>\n",
       "      <td>0</td>\n",
       "      <td>0</td>\n",
       "      <td>1</td>\n",
       "      <td>0</td>\n",
       "      <td>1</td>\n",
       "      <td>0</td>\n",
       "      <td>0</td>\n",
       "      <td>0</td>\n",
       "      <td>0</td>\n",
       "      <td>0</td>\n",
       "      <td>None</td>\n",
       "      <td>0</td>\n",
       "    </tr>\n",
       "    <tr>\n",
       "      <th>1367</th>\n",
       "      <td>Hi there, I'm looking for a place to get away ...</td>\n",
       "      <td>{inform}</td>\n",
       "      <td>[]</td>\n",
       "      <td>0</td>\n",
       "      <td>0</td>\n",
       "      <td>1</td>\n",
       "      <td>0</td>\n",
       "      <td>0</td>\n",
       "      <td>0</td>\n",
       "      <td>0</td>\n",
       "      <td>0</td>\n",
       "      <td>0</td>\n",
       "      <td>0</td>\n",
       "      <td>None</td>\n",
       "      <td>0</td>\n",
       "    </tr>\n",
       "  </tbody>\n",
       "</table>\n",
       "<p>1203 rows × 15 columns</p>\n",
       "</div>"
      ],
      "text/plain": [
       "                                                   text          intentName  \\\n",
       "2     Hello there i am looking to go on a vacation w...  {inform, greeting}   \n",
       "3     Hi I'd like to go to Caprica from Busan, betwe...  {inform, greeting}   \n",
       "5     Hey, i Want to go to St. Louis on the 17th of ...  {inform, greeting}   \n",
       "6     I'm looking for a trip to Gotham City leaving ...            {inform}   \n",
       "9     Hi, I need to go to Mos Eisley for a wedding, ...            {inform}   \n",
       "...                                                 ...                 ...   \n",
       "1363  I have a CRUCIAL meeting with my investors in ...            {inform}   \n",
       "1364  Hi I've got 9 days free and I'm looking for a ...            {inform}   \n",
       "1365  I need to get to Fortaleza on September 8th or...            {inform}   \n",
       "1366  We're finally going on vacation isn't that ama...            {inform}   \n",
       "1367  Hi there, I'm looking for a place to get away ...            {inform}   \n",
       "\n",
       "                                           entityLabels  intent_greeting  \\\n",
       "2     [{'entityName': 'dst_city', 'startCharIndex': ...                1   \n",
       "3     [{'entityName': 'or_city', 'startCharIndex': 3...                1   \n",
       "5     [{'entityName': 'dst_city', 'startCharIndex': ...                1   \n",
       "6     [{'entityName': 'budget', 'startCharIndex': 12...                0   \n",
       "9     [{'entityName': 'budget', 'startCharIndex': 14...                0   \n",
       "...                                                 ...              ...   \n",
       "1363  [{'entityName': 'dst_city', 'startCharIndex': ...                0   \n",
       "1364  [{'entityName': 'or_city', 'startCharIndex': 6...                0   \n",
       "1365  [{'entityName': 'dst_city', 'startCharIndex': ...                0   \n",
       "1366  [{'entityName': 'budget', 'startCharIndex': 75...                0   \n",
       "1367                                                 []                0   \n",
       "\n",
       "      intent_thankyou  intent_inform  intent_request  entity_budget  \\\n",
       "2                   0              1               0              0   \n",
       "3                   0              1               0              0   \n",
       "5                   0              1               0              0   \n",
       "6                   0              1               0              1   \n",
       "9                   0              1               0              1   \n",
       "...               ...            ...             ...            ...   \n",
       "1363                0              1               0              0   \n",
       "1364                0              1               0              0   \n",
       "1365                0              1               0              0   \n",
       "1366                0              1               0              1   \n",
       "1367                0              1               0              0   \n",
       "\n",
       "      entity_or_city  entity_dst_city  entity_str_date  entity_end_date  \\\n",
       "2                  0                1                0                0   \n",
       "3                  1                1                1                1   \n",
       "5                  0                1                1                0   \n",
       "6                  1                1                1                0   \n",
       "9                  0                1                1                1   \n",
       "...              ...              ...              ...              ...   \n",
       "1363               0                1                0                0   \n",
       "1364               1                0                0                0   \n",
       "1365               0                1                1                0   \n",
       "1366               0                0                0                0   \n",
       "1367               0                0                0                0   \n",
       "\n",
       "      entity_intent intent  total  \n",
       "2                 0   None      0  \n",
       "3                 0   None      0  \n",
       "5                 0   None      0  \n",
       "6                 0   None      0  \n",
       "9                 0   None      0  \n",
       "...             ...    ...    ...  \n",
       "1363              0   None      0  \n",
       "1364              0   None      0  \n",
       "1365              0   None      0  \n",
       "1366              0   None      0  \n",
       "1367              0   None      0  \n",
       "\n",
       "[1203 rows x 15 columns]"
      ]
     },
     "execution_count": 34,
     "metadata": {},
     "output_type": "execute_result"
    }
   ],
   "source": [
    "all_data_df[all_data_df['intent']!='book']"
   ]
  },
  {
   "cell_type": "markdown",
   "metadata": {},
   "source": [
    "We do not need all the utterances to train LUIS: according to the documentation, we can train LUIS on a subset of the utterances, provided that we have a good understanding of the intent. To do so, we'll use the intentName value to filter the utterances and keep those that convey most information: i.e. those where all the entities are present.\n",
    "\n",
    "Let's extract which entities are present in the utterances:"
   ]
  },
  {
   "cell_type": "code",
   "execution_count": 35,
   "metadata": {},
   "outputs": [],
   "source": [
    "entities_cols = [col for col in all_data_df.columns if col.startswith('entity_')]\n",
    "all_data_df['total'] = all_data_df[entities_cols].sum(axis=1)"
   ]
  },
  {
   "cell_type": "code",
   "execution_count": 36,
   "metadata": {},
   "outputs": [
    {
     "data": {
      "text/html": [
       "<div>\n",
       "<style scoped>\n",
       "    .dataframe tbody tr th:only-of-type {\n",
       "        vertical-align: middle;\n",
       "    }\n",
       "\n",
       "    .dataframe tbody tr th {\n",
       "        vertical-align: top;\n",
       "    }\n",
       "\n",
       "    .dataframe thead th {\n",
       "        text-align: right;\n",
       "    }\n",
       "</style>\n",
       "<table border=\"1\" class=\"dataframe\">\n",
       "  <thead>\n",
       "    <tr style=\"text-align: right;\">\n",
       "      <th></th>\n",
       "      <th>text</th>\n",
       "      <th>intentName</th>\n",
       "      <th>entityLabels</th>\n",
       "      <th>intent_greeting</th>\n",
       "      <th>intent_thankyou</th>\n",
       "      <th>intent_inform</th>\n",
       "      <th>intent_request</th>\n",
       "      <th>entity_budget</th>\n",
       "      <th>entity_or_city</th>\n",
       "      <th>entity_dst_city</th>\n",
       "      <th>entity_str_date</th>\n",
       "      <th>entity_end_date</th>\n",
       "      <th>entity_intent</th>\n",
       "      <th>intent</th>\n",
       "      <th>total</th>\n",
       "    </tr>\n",
       "  </thead>\n",
       "  <tbody>\n",
       "    <tr>\n",
       "      <th>0</th>\n",
       "      <td>I'd like to book a trip to Atlantis from Capri...</td>\n",
       "      <td>{inform}</td>\n",
       "      <td>[{'entityName': 'intent', 'startCharIndex': 12...</td>\n",
       "      <td>0</td>\n",
       "      <td>0</td>\n",
       "      <td>1</td>\n",
       "      <td>0</td>\n",
       "      <td>1</td>\n",
       "      <td>1</td>\n",
       "      <td>1</td>\n",
       "      <td>1</td>\n",
       "      <td>0</td>\n",
       "      <td>1</td>\n",
       "      <td>book</td>\n",
       "      <td>5</td>\n",
       "    </tr>\n",
       "    <tr>\n",
       "      <th>1</th>\n",
       "      <td>Hello, I am looking to book a vacation from Go...</td>\n",
       "      <td>{inform, greeting}</td>\n",
       "      <td>[{'entityName': 'intent', 'startCharIndex': 23...</td>\n",
       "      <td>1</td>\n",
       "      <td>0</td>\n",
       "      <td>1</td>\n",
       "      <td>0</td>\n",
       "      <td>1</td>\n",
       "      <td>1</td>\n",
       "      <td>1</td>\n",
       "      <td>0</td>\n",
       "      <td>0</td>\n",
       "      <td>1</td>\n",
       "      <td>book</td>\n",
       "      <td>4</td>\n",
       "    </tr>\n",
       "    <tr>\n",
       "      <th>2</th>\n",
       "      <td>Hello there i am looking to go on a vacation w...</td>\n",
       "      <td>{inform, greeting}</td>\n",
       "      <td>[{'entityName': 'dst_city', 'startCharIndex': ...</td>\n",
       "      <td>1</td>\n",
       "      <td>0</td>\n",
       "      <td>1</td>\n",
       "      <td>0</td>\n",
       "      <td>0</td>\n",
       "      <td>0</td>\n",
       "      <td>1</td>\n",
       "      <td>0</td>\n",
       "      <td>0</td>\n",
       "      <td>0</td>\n",
       "      <td>None</td>\n",
       "      <td>1</td>\n",
       "    </tr>\n",
       "    <tr>\n",
       "      <th>3</th>\n",
       "      <td>Hi I'd like to go to Caprica from Busan, betwe...</td>\n",
       "      <td>{inform, greeting}</td>\n",
       "      <td>[{'entityName': 'or_city', 'startCharIndex': 3...</td>\n",
       "      <td>1</td>\n",
       "      <td>0</td>\n",
       "      <td>1</td>\n",
       "      <td>0</td>\n",
       "      <td>0</td>\n",
       "      <td>1</td>\n",
       "      <td>1</td>\n",
       "      <td>1</td>\n",
       "      <td>1</td>\n",
       "      <td>0</td>\n",
       "      <td>None</td>\n",
       "      <td>4</td>\n",
       "    </tr>\n",
       "    <tr>\n",
       "      <th>4</th>\n",
       "      <td>Hello, I am looking to book a trip for 2 adult...</td>\n",
       "      <td>{inform, greeting}</td>\n",
       "      <td>[{'entityName': 'intent', 'startCharIndex': 23...</td>\n",
       "      <td>1</td>\n",
       "      <td>0</td>\n",
       "      <td>1</td>\n",
       "      <td>0</td>\n",
       "      <td>1</td>\n",
       "      <td>1</td>\n",
       "      <td>1</td>\n",
       "      <td>0</td>\n",
       "      <td>0</td>\n",
       "      <td>1</td>\n",
       "      <td>book</td>\n",
       "      <td>4</td>\n",
       "    </tr>\n",
       "    <tr>\n",
       "      <th>...</th>\n",
       "      <td>...</td>\n",
       "      <td>...</td>\n",
       "      <td>...</td>\n",
       "      <td>...</td>\n",
       "      <td>...</td>\n",
       "      <td>...</td>\n",
       "      <td>...</td>\n",
       "      <td>...</td>\n",
       "      <td>...</td>\n",
       "      <td>...</td>\n",
       "      <td>...</td>\n",
       "      <td>...</td>\n",
       "      <td>...</td>\n",
       "      <td>...</td>\n",
       "      <td>...</td>\n",
       "    </tr>\n",
       "    <tr>\n",
       "      <th>1364</th>\n",
       "      <td>Hi I've got 9 days free and I'm looking for a ...</td>\n",
       "      <td>{inform}</td>\n",
       "      <td>[{'entityName': 'or_city', 'startCharIndex': 6...</td>\n",
       "      <td>0</td>\n",
       "      <td>0</td>\n",
       "      <td>1</td>\n",
       "      <td>0</td>\n",
       "      <td>0</td>\n",
       "      <td>1</td>\n",
       "      <td>0</td>\n",
       "      <td>0</td>\n",
       "      <td>0</td>\n",
       "      <td>0</td>\n",
       "      <td>None</td>\n",
       "      <td>1</td>\n",
       "    </tr>\n",
       "    <tr>\n",
       "      <th>1365</th>\n",
       "      <td>I need to get to Fortaleza on September 8th or...</td>\n",
       "      <td>{inform}</td>\n",
       "      <td>[{'entityName': 'dst_city', 'startCharIndex': ...</td>\n",
       "      <td>0</td>\n",
       "      <td>0</td>\n",
       "      <td>1</td>\n",
       "      <td>0</td>\n",
       "      <td>0</td>\n",
       "      <td>0</td>\n",
       "      <td>1</td>\n",
       "      <td>1</td>\n",
       "      <td>0</td>\n",
       "      <td>0</td>\n",
       "      <td>None</td>\n",
       "      <td>2</td>\n",
       "    </tr>\n",
       "    <tr>\n",
       "      <th>1366</th>\n",
       "      <td>We're finally going on vacation isn't that ama...</td>\n",
       "      <td>{inform}</td>\n",
       "      <td>[{'entityName': 'budget', 'startCharIndex': 75...</td>\n",
       "      <td>0</td>\n",
       "      <td>0</td>\n",
       "      <td>1</td>\n",
       "      <td>0</td>\n",
       "      <td>1</td>\n",
       "      <td>0</td>\n",
       "      <td>0</td>\n",
       "      <td>0</td>\n",
       "      <td>0</td>\n",
       "      <td>0</td>\n",
       "      <td>None</td>\n",
       "      <td>1</td>\n",
       "    </tr>\n",
       "    <tr>\n",
       "      <th>1367</th>\n",
       "      <td>Hi there, I'm looking for a place to get away ...</td>\n",
       "      <td>{inform}</td>\n",
       "      <td>[]</td>\n",
       "      <td>0</td>\n",
       "      <td>0</td>\n",
       "      <td>1</td>\n",
       "      <td>0</td>\n",
       "      <td>0</td>\n",
       "      <td>0</td>\n",
       "      <td>0</td>\n",
       "      <td>0</td>\n",
       "      <td>0</td>\n",
       "      <td>0</td>\n",
       "      <td>None</td>\n",
       "      <td>0</td>\n",
       "    </tr>\n",
       "    <tr>\n",
       "      <th>1368</th>\n",
       "      <td>I need to book a trip for the whole family fro...</td>\n",
       "      <td>{inform}</td>\n",
       "      <td>[{'entityName': 'intent', 'startCharIndex': 10...</td>\n",
       "      <td>0</td>\n",
       "      <td>0</td>\n",
       "      <td>1</td>\n",
       "      <td>0</td>\n",
       "      <td>0</td>\n",
       "      <td>1</td>\n",
       "      <td>0</td>\n",
       "      <td>0</td>\n",
       "      <td>0</td>\n",
       "      <td>1</td>\n",
       "      <td>book</td>\n",
       "      <td>2</td>\n",
       "    </tr>\n",
       "  </tbody>\n",
       "</table>\n",
       "<p>1369 rows × 15 columns</p>\n",
       "</div>"
      ],
      "text/plain": [
       "                                                   text          intentName  \\\n",
       "0     I'd like to book a trip to Atlantis from Capri...            {inform}   \n",
       "1     Hello, I am looking to book a vacation from Go...  {inform, greeting}   \n",
       "2     Hello there i am looking to go on a vacation w...  {inform, greeting}   \n",
       "3     Hi I'd like to go to Caprica from Busan, betwe...  {inform, greeting}   \n",
       "4     Hello, I am looking to book a trip for 2 adult...  {inform, greeting}   \n",
       "...                                                 ...                 ...   \n",
       "1364  Hi I've got 9 days free and I'm looking for a ...            {inform}   \n",
       "1365  I need to get to Fortaleza on September 8th or...            {inform}   \n",
       "1366  We're finally going on vacation isn't that ama...            {inform}   \n",
       "1367  Hi there, I'm looking for a place to get away ...            {inform}   \n",
       "1368  I need to book a trip for the whole family fro...            {inform}   \n",
       "\n",
       "                                           entityLabels  intent_greeting  \\\n",
       "0     [{'entityName': 'intent', 'startCharIndex': 12...                0   \n",
       "1     [{'entityName': 'intent', 'startCharIndex': 23...                1   \n",
       "2     [{'entityName': 'dst_city', 'startCharIndex': ...                1   \n",
       "3     [{'entityName': 'or_city', 'startCharIndex': 3...                1   \n",
       "4     [{'entityName': 'intent', 'startCharIndex': 23...                1   \n",
       "...                                                 ...              ...   \n",
       "1364  [{'entityName': 'or_city', 'startCharIndex': 6...                0   \n",
       "1365  [{'entityName': 'dst_city', 'startCharIndex': ...                0   \n",
       "1366  [{'entityName': 'budget', 'startCharIndex': 75...                0   \n",
       "1367                                                 []                0   \n",
       "1368  [{'entityName': 'intent', 'startCharIndex': 10...                0   \n",
       "\n",
       "      intent_thankyou  intent_inform  intent_request  entity_budget  \\\n",
       "0                   0              1               0              1   \n",
       "1                   0              1               0              1   \n",
       "2                   0              1               0              0   \n",
       "3                   0              1               0              0   \n",
       "4                   0              1               0              1   \n",
       "...               ...            ...             ...            ...   \n",
       "1364                0              1               0              0   \n",
       "1365                0              1               0              0   \n",
       "1366                0              1               0              1   \n",
       "1367                0              1               0              0   \n",
       "1368                0              1               0              0   \n",
       "\n",
       "      entity_or_city  entity_dst_city  entity_str_date  entity_end_date  \\\n",
       "0                  1                1                1                0   \n",
       "1                  1                1                0                0   \n",
       "2                  0                1                0                0   \n",
       "3                  1                1                1                1   \n",
       "4                  1                1                0                0   \n",
       "...              ...              ...              ...              ...   \n",
       "1364               1                0                0                0   \n",
       "1365               0                1                1                0   \n",
       "1366               0                0                0                0   \n",
       "1367               0                0                0                0   \n",
       "1368               1                0                0                0   \n",
       "\n",
       "      entity_intent intent  total  \n",
       "0                 1   book      5  \n",
       "1                 1   book      4  \n",
       "2                 0   None      1  \n",
       "3                 0   None      4  \n",
       "4                 1   book      4  \n",
       "...             ...    ...    ...  \n",
       "1364              0   None      1  \n",
       "1365              0   None      2  \n",
       "1366              0   None      1  \n",
       "1367              0   None      0  \n",
       "1368              1   book      2  \n",
       "\n",
       "[1369 rows x 15 columns]"
      ]
     },
     "execution_count": 36,
     "metadata": {},
     "output_type": "execute_result"
    }
   ],
   "source": [
    "all_data_df"
   ]
  },
  {
   "cell_type": "code",
   "execution_count": 38,
   "metadata": {},
   "outputs": [
    {
     "data": {
      "text/plain": [
       "(48, 15)"
      ]
     },
     "execution_count": 38,
     "metadata": {},
     "output_type": "execute_result"
    }
   ],
   "source": [
    "complete_samples = all_data_df[all_data_df['total']>4]\n",
    "complete_samples.shape"
   ]
  },
  {
   "cell_type": "code",
   "execution_count": null,
   "metadata": {},
   "outputs": [],
   "source": [
    "complete_samples.head()"
   ]
  },
  {
   "cell_type": "code",
   "execution_count": null,
   "metadata": {},
   "outputs": [],
   "source": [
    "train_samples_df = complete_samples.sample(frac=0.5, random_state=42)\n",
    "test_samples_df = complete_samples.drop(train_samples_df.index)"
   ]
  },
  {
   "cell_type": "code",
   "execution_count": null,
   "metadata": {},
   "outputs": [],
   "source": [
    "train_data = [all_data[i] for i in train_samples_df.index]\n",
    "test_data = [all_data[i] for i in test_samples_df.index]"
   ]
  },
  {
   "cell_type": "code",
   "execution_count": null,
   "metadata": {},
   "outputs": [],
   "source": [
    "train_data[:2]"
   ]
  },
  {
   "cell_type": "code",
   "execution_count": null,
   "metadata": {},
   "outputs": [],
   "source": [
    "with open('train_data.json', \"w\") as f:\n",
    "    json.dump(train_data, f, indent=4)\n",
    "\n",
    "with open('test_data.json', \"w\") as f:\n",
    "    json.dump(test_data, f, indent=4)"
   ]
  },
  {
   "cell_type": "code",
   "execution_count": null,
   "metadata": {},
   "outputs": [],
   "source": [
    "ask_for = {\n",
    "    \"str_date\": \"when do you want to go?\",\n",
    "    \"end_date\": \"when do you want to come back?\",\n",
    "    \"dst_city\": \"where do you want to fly to?\",\n",
    "    \"or_city\": \"where do you want to depart from?\",\n",
    "    \"budget\": \"what is your budget?\",\n",
    "    }\n"
   ]
  }
 ],
 "metadata": {
  "kernelspec": {
   "display_name": "Python 3 (ipykernel)",
   "language": "python",
   "name": "python3"
  },
  "language_info": {
   "codemirror_mode": {
    "name": "ipython",
    "version": 3
   },
   "file_extension": ".py",
   "mimetype": "text/x-python",
   "name": "python",
   "nbconvert_exporter": "python",
   "pygments_lexer": "ipython3",
   "version": "3.8.10"
  },
  "vscode": {
   "interpreter": {
    "hash": "49ca45737546250f42b496f9f3202c989425b870612331f517aa0e5640df5f91"
   }
  },
  "widgets": {
   "application/vnd.jupyter.widget-state+json": {
    "state": {
     "002e7ce1982e43dd89cd1083bdcec0fc": {
      "model_module": "@jupyter-widgets/controls",
      "model_module_version": "1.5.0",
      "model_name": "HTMLModel",
      "state": {
       "layout": "IPY_MODEL_911696d6f17f490fbc3750c30634b687",
       "style": "IPY_MODEL_9dbeee376e6e4300bd93ec6d62edd11f",
       "value": "100%"
      }
     },
     "00399e52794747ceb5b96b601b3d0e0f": {
      "model_module": "@jupyter-widgets/base",
      "model_module_version": "1.2.0",
      "model_name": "LayoutModel",
      "state": {}
     },
     "04b4a0ea228644d4abb5187c7ae0bbdc": {
      "model_module": "@jupyter-widgets/controls",
      "model_module_version": "1.5.0",
      "model_name": "ProgressStyleModel",
      "state": {
       "description_width": ""
      }
     },
     "08d7514506354be98b1fbf1263bd8f31": {
      "model_module": "@jupyter-widgets/base",
      "model_module_version": "1.2.0",
      "model_name": "LayoutModel",
      "state": {}
     },
     "099e2e68347f4071bb2557101986d329": {
      "model_module": "@jupyter-widgets/base",
      "model_module_version": "1.2.0",
      "model_name": "LayoutModel",
      "state": {}
     },
     "1e15caf4f1fb49a7a84901179179b1da": {
      "model_module": "@jupyter-widgets/controls",
      "model_module_version": "1.5.0",
      "model_name": "HTMLModel",
      "state": {
       "layout": "IPY_MODEL_7f7a7b6622ba4c618ac43ce4c51a5ac0",
       "style": "IPY_MODEL_46cc82bd598d444bbf9e72b6c6be5ca9",
       "value": " 1369/1369 [00:09&lt;00:00, 73.80it/s]"
      }
     },
     "1e27f479afa440b6b016417faa915b8f": {
      "model_module": "@jupyter-widgets/controls",
      "model_module_version": "1.5.0",
      "model_name": "FloatProgressModel",
      "state": {
       "bar_style": "success",
       "layout": "IPY_MODEL_f18bfada1cbf4b1fa370c8126e75752a",
       "max": 10407,
       "style": "IPY_MODEL_d4c45308cca540e7982e6f0d33aed950",
       "value": 10407
      }
     },
     "2057058966464fdc80825578ffb1a708": {
      "model_module": "@jupyter-widgets/controls",
      "model_module_version": "1.5.0",
      "model_name": "DescriptionStyleModel",
      "state": {
       "description_width": ""
      }
     },
     "2632fef837ad47dfb9614b9cec44930f": {
      "model_module": "@jupyter-widgets/base",
      "model_module_version": "1.2.0",
      "model_name": "LayoutModel",
      "state": {}
     },
     "2a380e91411740aa894957ef6534eb50": {
      "model_module": "@jupyter-widgets/controls",
      "model_module_version": "1.5.0",
      "model_name": "FloatProgressModel",
      "state": {
       "bar_style": "success",
       "layout": "IPY_MODEL_fb540b483c524065be2d0ae5ee3a2d1c",
       "max": 1369,
       "style": "IPY_MODEL_04b4a0ea228644d4abb5187c7ae0bbdc",
       "value": 1369
      }
     },
     "308e80cd54b7458bb73d741879bf230b": {
      "model_module": "@jupyter-widgets/controls",
      "model_module_version": "1.5.0",
      "model_name": "HBoxModel",
      "state": {
       "children": [
        "IPY_MODEL_f752c81e67b74704ae5dac1e103814e8",
        "IPY_MODEL_c9d15c54bce142bba6a27bf158c53874",
        "IPY_MODEL_1e15caf4f1fb49a7a84901179179b1da"
       ],
       "layout": "IPY_MODEL_2632fef837ad47dfb9614b9cec44930f"
      }
     },
     "402f381a9af4438ba4946e0923a42dd0": {
      "model_module": "@jupyter-widgets/controls",
      "model_module_version": "1.5.0",
      "model_name": "DescriptionStyleModel",
      "state": {
       "description_width": ""
      }
     },
     "4285875bce864c88b241234179278c92": {
      "model_module": "@jupyter-widgets/controls",
      "model_module_version": "1.5.0",
      "model_name": "HTMLModel",
      "state": {
       "layout": "IPY_MODEL_c49f3d6a88694253aba15f5537a4f9c5",
       "style": "IPY_MODEL_2057058966464fdc80825578ffb1a708",
       "value": "100%"
      }
     },
     "46cc82bd598d444bbf9e72b6c6be5ca9": {
      "model_module": "@jupyter-widgets/controls",
      "model_module_version": "1.5.0",
      "model_name": "DescriptionStyleModel",
      "state": {
       "description_width": ""
      }
     },
     "54f2889a44eb453794587b8ddcf27bde": {
      "model_module": "@jupyter-widgets/controls",
      "model_module_version": "1.5.0",
      "model_name": "HTMLModel",
      "state": {
       "layout": "IPY_MODEL_00399e52794747ceb5b96b601b3d0e0f",
       "style": "IPY_MODEL_95abaf5d70e54a1c906933d42d2edca8",
       "value": " 1369/1369 [00:08&lt;00:00, 83.04it/s]"
      }
     },
     "62273309d4eb405eb6de3119541282c1": {
      "model_module": "@jupyter-widgets/controls",
      "model_module_version": "1.5.0",
      "model_name": "HBoxModel",
      "state": {
       "children": [
        "IPY_MODEL_002e7ce1982e43dd89cd1083bdcec0fc",
        "IPY_MODEL_1e27f479afa440b6b016417faa915b8f",
        "IPY_MODEL_ba7a0d2c208243ebb1fd098cf2647600"
       ],
       "layout": "IPY_MODEL_de2e780daa394ac3aee720f21f508142"
      }
     },
     "7f7a7b6622ba4c618ac43ce4c51a5ac0": {
      "model_module": "@jupyter-widgets/base",
      "model_module_version": "1.2.0",
      "model_name": "LayoutModel",
      "state": {}
     },
     "911696d6f17f490fbc3750c30634b687": {
      "model_module": "@jupyter-widgets/base",
      "model_module_version": "1.2.0",
      "model_name": "LayoutModel",
      "state": {}
     },
     "92f3a3867d3044789d98b7c79b3b90da": {
      "model_module": "@jupyter-widgets/controls",
      "model_module_version": "1.5.0",
      "model_name": "DescriptionStyleModel",
      "state": {
       "description_width": ""
      }
     },
     "95abaf5d70e54a1c906933d42d2edca8": {
      "model_module": "@jupyter-widgets/controls",
      "model_module_version": "1.5.0",
      "model_name": "DescriptionStyleModel",
      "state": {
       "description_width": ""
      }
     },
     "9dbeee376e6e4300bd93ec6d62edd11f": {
      "model_module": "@jupyter-widgets/controls",
      "model_module_version": "1.5.0",
      "model_name": "DescriptionStyleModel",
      "state": {
       "description_width": ""
      }
     },
     "a5c935632cdb4dc4a9124c29949d1510": {
      "model_module": "@jupyter-widgets/base",
      "model_module_version": "1.2.0",
      "model_name": "LayoutModel",
      "state": {}
     },
     "b19b42d3d6854488b6dacc0620193cfa": {
      "model_module": "@jupyter-widgets/controls",
      "model_module_version": "1.5.0",
      "model_name": "ProgressStyleModel",
      "state": {
       "description_width": ""
      }
     },
     "ba7a0d2c208243ebb1fd098cf2647600": {
      "model_module": "@jupyter-widgets/controls",
      "model_module_version": "1.5.0",
      "model_name": "HTMLModel",
      "state": {
       "layout": "IPY_MODEL_08d7514506354be98b1fbf1263bd8f31",
       "style": "IPY_MODEL_92f3a3867d3044789d98b7c79b3b90da",
       "value": " 10407/10407 [00:00&lt;00:00, 105943.81it/s]"
      }
     },
     "c49f3d6a88694253aba15f5537a4f9c5": {
      "model_module": "@jupyter-widgets/base",
      "model_module_version": "1.2.0",
      "model_name": "LayoutModel",
      "state": {}
     },
     "c9d15c54bce142bba6a27bf158c53874": {
      "model_module": "@jupyter-widgets/controls",
      "model_module_version": "1.5.0",
      "model_name": "FloatProgressModel",
      "state": {
       "bar_style": "success",
       "layout": "IPY_MODEL_a5c935632cdb4dc4a9124c29949d1510",
       "max": 1369,
       "style": "IPY_MODEL_b19b42d3d6854488b6dacc0620193cfa",
       "value": 1369
      }
     },
     "d4c45308cca540e7982e6f0d33aed950": {
      "model_module": "@jupyter-widgets/controls",
      "model_module_version": "1.5.0",
      "model_name": "ProgressStyleModel",
      "state": {
       "description_width": ""
      }
     },
     "dd161d6f567f46718390cfb6b27de086": {
      "model_module": "@jupyter-widgets/base",
      "model_module_version": "1.2.0",
      "model_name": "LayoutModel",
      "state": {}
     },
     "de2e780daa394ac3aee720f21f508142": {
      "model_module": "@jupyter-widgets/base",
      "model_module_version": "1.2.0",
      "model_name": "LayoutModel",
      "state": {}
     },
     "ed5b94aae9e64d23a20a2bc4961065e2": {
      "model_module": "@jupyter-widgets/controls",
      "model_module_version": "1.5.0",
      "model_name": "HBoxModel",
      "state": {
       "children": [
        "IPY_MODEL_4285875bce864c88b241234179278c92",
        "IPY_MODEL_2a380e91411740aa894957ef6534eb50",
        "IPY_MODEL_54f2889a44eb453794587b8ddcf27bde"
       ],
       "layout": "IPY_MODEL_099e2e68347f4071bb2557101986d329"
      }
     },
     "f18bfada1cbf4b1fa370c8126e75752a": {
      "model_module": "@jupyter-widgets/base",
      "model_module_version": "1.2.0",
      "model_name": "LayoutModel",
      "state": {}
     },
     "f752c81e67b74704ae5dac1e103814e8": {
      "model_module": "@jupyter-widgets/controls",
      "model_module_version": "1.5.0",
      "model_name": "HTMLModel",
      "state": {
       "layout": "IPY_MODEL_dd161d6f567f46718390cfb6b27de086",
       "style": "IPY_MODEL_402f381a9af4438ba4946e0923a42dd0",
       "value": "100%"
      }
     },
     "fb540b483c524065be2d0ae5ee3a2d1c": {
      "model_module": "@jupyter-widgets/base",
      "model_module_version": "1.2.0",
      "model_name": "LayoutModel",
      "state": {}
     }
    },
    "version_major": 2,
    "version_minor": 0
   }
  }
 },
 "nbformat": 4,
 "nbformat_minor": 4
}
